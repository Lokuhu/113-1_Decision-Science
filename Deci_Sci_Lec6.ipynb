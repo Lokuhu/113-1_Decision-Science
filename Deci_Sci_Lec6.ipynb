{
  "cells": [
    {
      "cell_type": "code",
      "execution_count": 1,
      "metadata": {
        "colab": {
          "base_uri": "https://localhost:8080/"
        },
        "id": "2EZRlQ-w2g1O",
        "outputId": "c58e7abc-5382-4732-d591-293714755182"
      },
      "outputs": [
        {
          "output_type": "stream",
          "name": "stdout",
          "text": [
            "Requirement already satisfied: scipy in /usr/local/lib/python3.10/dist-packages (1.13.1)\n",
            "Collecting scipy\n",
            "  Downloading scipy-1.14.1-cp310-cp310-manylinux_2_17_x86_64.manylinux2014_x86_64.whl.metadata (60 kB)\n",
            "\u001b[2K     \u001b[90m━━━━━━━━━━━━━━━━━━━━━━━━━━━━━━━━━━━━━━━━\u001b[0m \u001b[32m60.8/60.8 kB\u001b[0m \u001b[31m2.7 MB/s\u001b[0m eta \u001b[36m0:00:00\u001b[0m\n",
            "\u001b[?25hRequirement already satisfied: numpy<2.3,>=1.23.5 in /usr/local/lib/python3.10/dist-packages (from scipy) (1.26.4)\n",
            "Downloading scipy-1.14.1-cp310-cp310-manylinux_2_17_x86_64.manylinux2014_x86_64.whl (41.2 MB)\n",
            "\u001b[2K   \u001b[90m━━━━━━━━━━━━━━━━━━━━━━━━━━━━━━━━━━━━━━━━\u001b[0m \u001b[32m41.2/41.2 MB\u001b[0m \u001b[31m11.9 MB/s\u001b[0m eta \u001b[36m0:00:00\u001b[0m\n",
            "\u001b[?25hInstalling collected packages: scipy\n",
            "  Attempting uninstall: scipy\n",
            "    Found existing installation: scipy 1.13.1\n",
            "    Uninstalling scipy-1.13.1:\n",
            "      Successfully uninstalled scipy-1.13.1\n",
            "\u001b[31mERROR: pip's dependency resolver does not currently take into account all the packages that are installed. This behaviour is the source of the following dependency conflicts.\n",
            "gensim 4.3.3 requires scipy<1.14.0,>=1.7.0, but you have scipy 1.14.1 which is incompatible.\u001b[0m\u001b[31m\n",
            "\u001b[0mSuccessfully installed scipy-1.14.1\n",
            "Collecting pymoo\n",
            "  Downloading pymoo-0.6.1.3-cp310-cp310-manylinux_2_17_x86_64.manylinux2014_x86_64.whl.metadata (5.0 kB)\n",
            "Requirement already satisfied: numpy>=1.15 in /usr/local/lib/python3.10/dist-packages (from pymoo) (1.26.4)\n",
            "Requirement already satisfied: scipy>=1.1 in /usr/local/lib/python3.10/dist-packages (from pymoo) (1.14.1)\n",
            "Requirement already satisfied: matplotlib>=3 in /usr/local/lib/python3.10/dist-packages (from pymoo) (3.7.1)\n",
            "Requirement already satisfied: autograd>=1.4 in /usr/local/lib/python3.10/dist-packages (from pymoo) (1.7.0)\n",
            "Collecting cma==3.2.2 (from pymoo)\n",
            "  Downloading cma-3.2.2-py2.py3-none-any.whl.metadata (8.0 kB)\n",
            "Collecting alive-progress (from pymoo)\n",
            "  Downloading alive_progress-3.1.5-py3-none-any.whl.metadata (68 kB)\n",
            "\u001b[2K     \u001b[90m━━━━━━━━━━━━━━━━━━━━━━━━━━━━━━━━━━━━━━━━\u001b[0m \u001b[32m68.4/68.4 kB\u001b[0m \u001b[31m2.5 MB/s\u001b[0m eta \u001b[36m0:00:00\u001b[0m\n",
            "\u001b[?25hCollecting dill (from pymoo)\n",
            "  Downloading dill-0.3.9-py3-none-any.whl.metadata (10 kB)\n",
            "Requirement already satisfied: Deprecated in /usr/local/lib/python3.10/dist-packages (from pymoo) (1.2.14)\n",
            "Requirement already satisfied: contourpy>=1.0.1 in /usr/local/lib/python3.10/dist-packages (from matplotlib>=3->pymoo) (1.3.0)\n",
            "Requirement already satisfied: cycler>=0.10 in /usr/local/lib/python3.10/dist-packages (from matplotlib>=3->pymoo) (0.12.1)\n",
            "Requirement already satisfied: fonttools>=4.22.0 in /usr/local/lib/python3.10/dist-packages (from matplotlib>=3->pymoo) (4.54.1)\n",
            "Requirement already satisfied: kiwisolver>=1.0.1 in /usr/local/lib/python3.10/dist-packages (from matplotlib>=3->pymoo) (1.4.7)\n",
            "Requirement already satisfied: packaging>=20.0 in /usr/local/lib/python3.10/dist-packages (from matplotlib>=3->pymoo) (24.1)\n",
            "Requirement already satisfied: pillow>=6.2.0 in /usr/local/lib/python3.10/dist-packages (from matplotlib>=3->pymoo) (10.4.0)\n",
            "Requirement already satisfied: pyparsing>=2.3.1 in /usr/local/lib/python3.10/dist-packages (from matplotlib>=3->pymoo) (3.2.0)\n",
            "Requirement already satisfied: python-dateutil>=2.7 in /usr/local/lib/python3.10/dist-packages (from matplotlib>=3->pymoo) (2.8.2)\n",
            "Collecting about-time==4.2.1 (from alive-progress->pymoo)\n",
            "  Downloading about_time-4.2.1-py3-none-any.whl.metadata (13 kB)\n",
            "Collecting grapheme==0.6.0 (from alive-progress->pymoo)\n",
            "  Downloading grapheme-0.6.0.tar.gz (207 kB)\n",
            "\u001b[2K     \u001b[90m━━━━━━━━━━━━━━━━━━━━━━━━━━━━━━━━━━━━━━━━\u001b[0m \u001b[32m207.3/207.3 kB\u001b[0m \u001b[31m8.9 MB/s\u001b[0m eta \u001b[36m0:00:00\u001b[0m\n",
            "\u001b[?25h  Preparing metadata (setup.py) ... \u001b[?25l\u001b[?25hdone\n",
            "Requirement already satisfied: wrapt<2,>=1.10 in /usr/local/lib/python3.10/dist-packages (from Deprecated->pymoo) (1.16.0)\n",
            "Requirement already satisfied: six>=1.5 in /usr/local/lib/python3.10/dist-packages (from python-dateutil>=2.7->matplotlib>=3->pymoo) (1.16.0)\n",
            "Downloading pymoo-0.6.1.3-cp310-cp310-manylinux_2_17_x86_64.manylinux2014_x86_64.whl (4.2 MB)\n",
            "\u001b[2K   \u001b[90m━━━━━━━━━━━━━━━━━━━━━━━━━━━━━━━━━━━━━━━━\u001b[0m \u001b[32m4.2/4.2 MB\u001b[0m \u001b[31m51.6 MB/s\u001b[0m eta \u001b[36m0:00:00\u001b[0m\n",
            "\u001b[?25hDownloading cma-3.2.2-py2.py3-none-any.whl (249 kB)\n",
            "\u001b[2K   \u001b[90m━━━━━━━━━━━━━━━━━━━━━━━━━━━━━━━━━━━━━━━━\u001b[0m \u001b[32m249.1/249.1 kB\u001b[0m \u001b[31m17.3 MB/s\u001b[0m eta \u001b[36m0:00:00\u001b[0m\n",
            "\u001b[?25hDownloading alive_progress-3.1.5-py3-none-any.whl (75 kB)\n",
            "\u001b[2K   \u001b[90m━━━━━━━━━━━━━━━━━━━━━━━━━━━━━━━━━━━━━━━━\u001b[0m \u001b[32m76.0/76.0 kB\u001b[0m \u001b[31m6.5 MB/s\u001b[0m eta \u001b[36m0:00:00\u001b[0m\n",
            "\u001b[?25hDownloading about_time-4.2.1-py3-none-any.whl (13 kB)\n",
            "Downloading dill-0.3.9-py3-none-any.whl (119 kB)\n",
            "\u001b[2K   \u001b[90m━━━━━━━━━━━━━━━━━━━━━━━━━━━━━━━━━━━━━━━━\u001b[0m \u001b[32m119.4/119.4 kB\u001b[0m \u001b[31m9.7 MB/s\u001b[0m eta \u001b[36m0:00:00\u001b[0m\n",
            "\u001b[?25hBuilding wheels for collected packages: grapheme\n",
            "  Building wheel for grapheme (setup.py) ... \u001b[?25l\u001b[?25hdone\n",
            "  Created wheel for grapheme: filename=grapheme-0.6.0-py3-none-any.whl size=210082 sha256=ff9d998b87a5f68ea377dbbfc61b777f9946e149a305f79c1d62fc01f16e10b0\n",
            "  Stored in directory: /root/.cache/pip/wheels/01/e1/49/37e6bde9886439057450c494a79b0bef8bbe897a54aebfc757\n",
            "Successfully built grapheme\n",
            "Installing collected packages: grapheme, dill, cma, about-time, alive-progress, pymoo\n",
            "Successfully installed about-time-4.2.1 alive-progress-3.1.5 cma-3.2.2 dill-0.3.9 grapheme-0.6.0 pymoo-0.6.1.3\n"
          ]
        }
      ],
      "source": [
        "%pip install scipy --upgrade\n",
        "import math\n",
        "import matplotlib.pyplot as plt\n",
        "import scipy.stats as stats\n",
        "import scipy.optimize as opt\n",
        "import numpy as np\n",
        "import pandas as pd\n",
        "import statsmodels as sm\n",
        "%pip install pymoo\n",
        "import pymoo as pymoo"
      ]
    },
    {
      "cell_type": "code",
      "source": [
        "1.5/(1.5+1.8)"
      ],
      "metadata": {
        "colab": {
          "base_uri": "https://localhost:8080/"
        },
        "id": "h9tZjfa8lKfv",
        "outputId": "936476d2-5594-48a3-f216-b006980387f4"
      },
      "execution_count": 2,
      "outputs": [
        {
          "output_type": "execute_result",
          "data": {
            "text/plain": [
              "0.4545454545454546"
            ]
          },
          "metadata": {},
          "execution_count": 2
        }
      ]
    },
    {
      "cell_type": "code",
      "execution_count": 3,
      "metadata": {
        "id": "9QBxd_k-d8-9",
        "colab": {
          "base_uri": "https://localhost:8080/"
        },
        "outputId": "df606b85-c273-44f7-ae00-d509a3baaca5"
      },
      "outputs": [
        {
          "output_type": "execute_result",
          "data": {
            "text/plain": [
              "78.84438402894617"
            ]
          },
          "metadata": {},
          "execution_count": 3
        }
      ],
      "source": [
        "stats.norm.ppf(0.454,80,10)"
      ]
    },
    {
      "cell_type": "code",
      "execution_count": 4,
      "metadata": {
        "colab": {
          "base_uri": "https://localhost:8080/"
        },
        "id": "XkeLVNDOZiHC",
        "outputId": "13bff99c-94a5-4b5c-b101-15ccf2590282"
      },
      "outputs": [
        {
          "output_type": "execute_result",
          "data": {
            "text/plain": [
              "0.4540244102386926"
            ]
          },
          "metadata": {},
          "execution_count": 4
        }
      ],
      "source": [
        "stats.norm.cdf(78.845,80,10)"
      ]
    },
    {
      "cell_type": "code",
      "execution_count": null,
      "metadata": {
        "id": "oAC7IAa6Zk7C"
      },
      "outputs": [],
      "source": []
    },
    {
      "cell_type": "markdown",
      "metadata": {
        "id": "pGJsybN_UbzR"
      },
      "source": [
        "# **Snowboards Quantity(Q) Decisions**"
      ]
    },
    {
      "cell_type": "markdown",
      "metadata": {
        "id": "wm4kEf4tVAKT"
      },
      "source": [
        "## **Myerson Distribution**\n",
        "Below is a function that simulates random samples from the Myerson distribution in section 4.4 of Roger Myerson's 2005 book.\n",
        "This is a generalized version of normal & lognormal distribution.\n"
      ]
    },
    {
      "cell_type": "code",
      "execution_count": 5,
      "metadata": {
        "id": "Gz3VM7YKVIRv"
      },
      "outputs": [],
      "source": [
        "# https://www.solver.com/risk-solver-help/psi-function-help/simulation/distributions/psimyerson\n",
        "# https://en.wikipedia.org/wiki/Roger_Myerson\n",
        "\n",
        "def randomMyerson(n,q1,q2,q3,lower=-1*math.inf,upper=math.inf,tl=0.5):\n",
        "   #n: the number of random samples\n",
        "   #q1: xx percentile, xx<50 & usually xx=25\n",
        "   #q2: 50 percentile\n",
        "   #q3: xx percentile, xx>50 & usually xx=75\n",
        "   #lower: minimum possible value\n",
        "   #upper: maximum possible value\n",
        "   #tl: tail probability = P(X<q1)+P(X>q3)\n",
        "   ######################################\n",
        "   x=np.random.uniform(0,1,n)\n",
        "   id=np.where(x>0.999999)\n",
        "   x[id]=0.999999\n",
        "   id=np.where(x<0.000001)\n",
        "   x[id]=0.000001\n",
        "   #Above avoids sampling values that are too extreme\n",
        "   norml=stats.norm.ppf(x)/stats.norm.ppf(1-tl/2)\n",
        "   br=(q3-q2)/(q2-q1)\n",
        "   if br==1:\n",
        "     res=q2+(q3-q2)*norml\n",
        "   else:\n",
        "     res=q2+(q3-q2)*(br**norml-1)/(br-1)\n",
        "   #\n",
        "   #Below is R code operations\n",
        "   #pmin(pmax(res, lower), upper)\n",
        "   #\n",
        "   id=np.where(res<lower)\n",
        "   res[id]=lower\n",
        "   id=np.where(res>upper)\n",
        "   res[id]=upper\n",
        "   return res"
      ]
    },
    {
      "cell_type": "code",
      "execution_count": 6,
      "metadata": {
        "id": "Njjc6rUFlTbA"
      },
      "outputs": [],
      "source": [
        "#P(weather is cold)\n",
        "pcold=1/3\n",
        "#Demand parameters\n",
        "q1normal=60000\n",
        "q2normal=75000\n",
        "q3normal=90000\n",
        "\n",
        "q1cold=80000\n",
        "q2cold=100000\n",
        "q3cold=125000\n",
        "\n",
        "#Cost parameters\n",
        "unitcost=20\n",
        "unitprice=48\n",
        "salvage=8\n",
        "\n",
        "#q as the order quantity. Try different ordering decisions\n",
        "qval=np.arange(50000,150001,1000)\n",
        "\n",
        "#Number of simulation runs\n",
        "S=10000\n"
      ]
    },
    {
      "cell_type": "code",
      "execution_count": 7,
      "metadata": {
        "id": "lNU3ynBcEoR8",
        "colab": {
          "base_uri": "https://localhost:8080/"
        },
        "outputId": "56e3cdc9-8253-4f67-857f-60bf3d9b4045"
      },
      "outputs": [
        {
          "output_type": "stream",
          "name": "stderr",
          "text": [
            "<ipython-input-7-10575ae3dff7>:11: DeprecationWarning: Conversion of an array with ndim > 0 to a scalar is deprecated, and will error in future. Ensure you extract a single element from your array before performing this operation. (Deprecated NumPy 1.25.)\n",
            "  demand[s]=randomMyerson(1,q1normal,q2normal,q3normal,lower=0)\n",
            "<ipython-input-7-10575ae3dff7>:9: DeprecationWarning: Conversion of an array with ndim > 0 to a scalar is deprecated, and will error in future. Ensure you extract a single element from your array before performing this operation. (Deprecated NumPy 1.25.)\n",
            "  demand[s]=randomMyerson(1,q1cold,q2cold,q3cold,lower=0)\n"
          ]
        }
      ],
      "source": [
        "#Simulate random demand\n",
        "#1: cold; 0:normal\n",
        "weather=np.random.choice([1,0],S,replace=True,p=[pcold,1-pcold])\n",
        "\n",
        "demand=np.empty(S)\n",
        "for s in range(0,S):\n",
        "  #1: cold; 0:normal\n",
        "  if weather[s]==1:\n",
        "    demand[s]=randomMyerson(1,q1cold,q2cold,q3cold,lower=0)\n",
        "  else:\n",
        "    demand[s]=randomMyerson(1,q1normal,q2normal,q3normal,lower=0)\n",
        "  demand[s]=np.round(demand[s],0)"
      ]
    },
    {
      "cell_type": "code",
      "execution_count": 8,
      "metadata": {
        "colab": {
          "base_uri": "https://localhost:8080/",
          "height": 430
        },
        "id": "moHYnnTPFa5n",
        "outputId": "a5a9b97d-ed3e-4d32-d792-e0ca42027a68"
      },
      "outputs": [
        {
          "output_type": "display_data",
          "data": {
            "text/plain": [
              "<Figure size 640x480 with 1 Axes>"
            ],
            "image/png": "[encoded data removed]"
          },
          "metadata": {}
        }
      ],
      "source": [
        "plt.hist(demand,bins=20,alpha=0.1,color='blue')\n",
        "plt.show()"
      ]
    },
    {
      "cell_type": "code",
      "execution_count": 9,
      "metadata": {
        "id": "sSLaiV0hFwHR"
      },
      "outputs": [],
      "source": [
        "def profit(d,q=80000):\n",
        "  #d: demand realizations\n",
        "  if type(d)==int:\n",
        "    d=[d]\n",
        "  d=np.array(d)\n",
        "  profitval=np.empty(len(d))\n",
        "  for i in range(0,len(d)):\n",
        "    profitval[i]=(unitprice-unitcost)*min(q,d[i])+(salvage-unitcost)*max(q-d[i],0)\n",
        "  return profitval"
      ]
    },
    {
      "cell_type": "code",
      "execution_count": 10,
      "metadata": {
        "colab": {
          "base_uri": "https://localhost:8080/"
        },
        "id": "K7w-7HvCIC42",
        "outputId": "61b190b0-425a-493a-851e-53fa45ff3ced"
      },
      "outputs": [
        {
          "output_type": "execute_result",
          "data": {
            "text/plain": [
              "array([2240000., 2240000.])"
            ]
          },
          "metadata": {},
          "execution_count": 10
        }
      ],
      "source": [
        "profit(d=[90000,80000],q=80000)"
      ]
    },
    {
      "cell_type": "code",
      "execution_count": 11,
      "metadata": {
        "colab": {
          "base_uri": "https://localhost:8080/"
        },
        "id": "JB9SmTqoJp31",
        "outputId": "f8d1c551-01c5-4265-8bd1-f7c3e6c6a863"
      },
      "outputs": [
        {
          "output_type": "execute_result",
          "data": {
            "text/plain": [
              "array([1840000.])"
            ]
          },
          "metadata": {},
          "execution_count": 11
        }
      ],
      "source": [
        "profit(d=70000,q=80000)"
      ]
    },
    {
      "cell_type": "code",
      "execution_count": 12,
      "metadata": {
        "colab": {
          "base_uri": "https://localhost:8080/"
        },
        "id": "pWjZuUk9fiYs",
        "outputId": "c645e59f-24d0-42bd-851e-69e8aa45e021"
      },
      "outputs": [
        {
          "output_type": "execute_result",
          "data": {
            "text/plain": [
              "array([ 50000,  51000,  52000,  53000,  54000,  55000,  56000,  57000,\n",
              "        58000,  59000,  60000,  61000,  62000,  63000,  64000,  65000,\n",
              "        66000,  67000,  68000,  69000,  70000,  71000,  72000,  73000,\n",
              "        74000,  75000,  76000,  77000,  78000,  79000,  80000,  81000,\n",
              "        82000,  83000,  84000,  85000,  86000,  87000,  88000,  89000,\n",
              "        90000,  91000,  92000,  93000,  94000,  95000,  96000,  97000,\n",
              "        98000,  99000, 100000, 101000, 102000, 103000, 104000, 105000,\n",
              "       106000, 107000, 108000, 109000, 110000, 111000, 112000, 113000,\n",
              "       114000, 115000, 116000, 117000, 118000, 119000, 120000, 121000,\n",
              "       122000, 123000, 124000, 125000, 126000, 127000, 128000, 129000,\n",
              "       130000, 131000, 132000, 133000, 134000, 135000, 136000, 137000,\n",
              "       138000, 139000, 140000, 141000, 142000, 143000, 144000, 145000,\n",
              "       146000, 147000, 148000, 149000, 150000])"
            ]
          },
          "metadata": {},
          "execution_count": 12
        }
      ],
      "source": [
        "qval"
      ]
    },
    {
      "cell_type": "code",
      "execution_count": 13,
      "metadata": {
        "id": "66DucX6BJxZM"
      },
      "outputs": [],
      "source": [
        "simprofit=np.empty([S,len(qval)])\n",
        "avgprofit=np.empty(len(qval))\n",
        "sdprofit=np.empty(len(qval))\n",
        "\n",
        "for i in range(0,len(qval)):\n",
        "  simprofit[:,i]=profit(d=demand,q=qval[i])\n",
        "  avgprofit[i]=np.mean(simprofit[:,i])\n",
        "  sdprofit[i]=np.std(simprofit[:,i])"
      ]
    },
    {
      "cell_type": "code",
      "execution_count": 14,
      "metadata": {
        "colab": {
          "base_uri": "https://localhost:8080/",
          "height": 483
        },
        "id": "0Lqy55g-WrhV",
        "outputId": "e4f52aea-051c-4bac-ccea-858c1308e5ff"
      },
      "outputs": [
        {
          "output_type": "execute_result",
          "data": {
            "text/plain": [
              "Text(0, 0.5, 'E[Profit]')"
            ]
          },
          "metadata": {},
          "execution_count": 14
        },
        {
          "output_type": "display_data",
          "data": {
            "text/plain": [
              "<Figure size 640x480 with 1 Axes>"
            ],
            "image/png": "[encoded data removed]"
          },
          "metadata": {}
        }
      ],
      "source": [
        "plt.figure()\n",
        "plt.plot(qval,avgprofit, marker='o')\n",
        "plt.xlabel(\"buying quantity\")\n",
        "plt.ylabel(\"E[Profit]\")"
      ]
    },
    {
      "cell_type": "code",
      "execution_count": 15,
      "metadata": {
        "colab": {
          "base_uri": "https://localhost:8080/",
          "height": 483
        },
        "id": "noid8zksW4tp",
        "outputId": "49ecdac7-8b6f-428d-9804-e1e642b854b5"
      },
      "outputs": [
        {
          "output_type": "execute_result",
          "data": {
            "text/plain": [
              "Text(0, 0.5, 'E[Profit]')"
            ]
          },
          "metadata": {},
          "execution_count": 15
        },
        {
          "output_type": "display_data",
          "data": {
            "text/plain": [
              "<Figure size 640x480 with 1 Axes>"
            ],
            "image/png": "[encoded data removed]"
          },
          "metadata": {}
        }
      ],
      "source": [
        "plt.figure()\n",
        "plt.plot(qval[np.where(avgprofit>1800000)],avgprofit[np.where(avgprofit>1800000)], marker='o')\n",
        "plt.xlabel(\"buying quantity\")\n",
        "plt.ylabel(\"E[Profit]\")"
      ]
    },
    {
      "cell_type": "code",
      "execution_count": 16,
      "metadata": {
        "colab": {
          "base_uri": "https://localhost:8080/"
        },
        "id": "U1-01syzXC_z",
        "outputId": "76a66ed3-23c7-4ff4-83f2-5f1babcf5f29"
      },
      "outputs": [
        {
          "output_type": "execute_result",
          "data": {
            "text/plain": [
              "96000"
            ]
          },
          "metadata": {},
          "execution_count": 16
        }
      ],
      "source": [
        "qval[np.argmax(avgprofit)]"
      ]
    },
    {
      "cell_type": "code",
      "source": [
        "cu=unitprice-unitcost\n",
        "co=unitcost-salvage\n",
        "cu\n",
        "co\n",
        "#Calculate the critical fractile\n",
        "frac=cu/(cu+co)\n",
        "frac\n",
        "\n",
        "qstar=np.quantile(demand,frac)\n",
        "qstar=round(qstar,0)\n",
        "print(qstar)"
      ],
      "metadata": {
        "colab": {
          "base_uri": "https://localhost:8080/"
        },
        "id": "khgcAtE_DWID",
        "outputId": "c9658d02-ac32-43e1-bdb8-95fef1d43f3f"
      },
      "execution_count": 17,
      "outputs": [
        {
          "output_type": "stream",
          "name": "stdout",
          "text": [
            "95925.0\n"
          ]
        }
      ]
    },
    {
      "cell_type": "markdown",
      "metadata": {
        "id": "gvhLUWFlXLFf"
      },
      "source": [
        "## **Assess the value of perfect information about cold or normal**"
      ]
    },
    {
      "cell_type": "code",
      "execution_count": 18,
      "metadata": {
        "colab": {
          "base_uri": "https://localhost:8080/"
        },
        "id": "EnKMr3_CXKJ4",
        "outputId": "762ce6f4-343d-4792-a1c2-ec4109ceaccc"
      },
      "outputs": [
        {
          "output_type": "stream",
          "name": "stdout",
          "text": [
            "118875.0\n",
            "86888.0\n",
            "97550.33333333334\n"
          ]
        }
      ],
      "source": [
        "cu=unitprice-unitcost\n",
        "co=unitcost-salvage\n",
        "cu\n",
        "co\n",
        "#Calculate the critical fractile\n",
        "frac=cu/(cu+co)\n",
        "frac\n",
        "\n",
        "dcold=randomMyerson(S,q1cold,q2cold,q3cold,lower=0)\n",
        "qcold=np.quantile(dcold,frac)\n",
        "qcold=round(qcold,0)\n",
        "\n",
        "\n",
        "dnormal=randomMyerson(S,q1normal,q2normal,q3normal,lower=0)\n",
        "qnormal=np.quantile(dnormal,frac)\n",
        "qnormal=round(qnormal,0)\n",
        "\n",
        "print(qcold)\n",
        "print(qnormal)\n",
        "print(qcold*(pcold)+qnormal*(1-pcold))"
      ]
    },
    {
      "cell_type": "code",
      "execution_count": 19,
      "metadata": {
        "colab": {
          "base_uri": "https://localhost:8080/"
        },
        "outputId": "8e8d740c-e912-43a0-c473-121d3154fecb",
        "id": "ay_wmk2B1lcH"
      },
      "outputs": [
        {
          "output_type": "stream",
          "name": "stdout",
          "text": [
            "[1861918.932]\n",
            "[1930813.54]\n",
            "[1951974.908]\n",
            "[1951721.764]\n"
          ]
        }
      ],
      "source": [
        "print(avgprofit[np.where(qval==118000)])\n",
        "print(avgprofit[np.where(qval==87000)])\n",
        "print(avgprofit[np.where(qval==96000)])\n",
        "print(avgprofit[np.where(qval==97000)])"
      ]
    },
    {
      "cell_type": "code",
      "execution_count": 20,
      "metadata": {
        "id": "W6kXXPh6fHmd"
      },
      "outputs": [],
      "source": [
        "profit_perfectinfo=np.empty(S)\n",
        "\n",
        "for s in range(0,S):\n",
        "  #1: cold; 0:weather\n",
        "  if weather[s]==1:\n",
        "    q=qcold\n",
        "  else:\n",
        "    q=qnormal\n",
        "  #\n",
        "  profit_perfectinfo[s]=(unitprice-unitcost)*min(q,demand[s])+(salvage-unitcost)*max(q-demand[s],0)\n"
      ]
    },
    {
      "cell_type": "code",
      "execution_count": 21,
      "metadata": {
        "colab": {
          "base_uri": "https://localhost:8080/"
        },
        "id": "SDdCCrNxfx-z",
        "outputId": "3593dfbf-f0b5-42b0-f1b9-6e7d2ff36ae8"
      },
      "outputs": [
        {
          "output_type": "stream",
          "name": "stdout",
          "text": [
            "1951974.908\n",
            "2005719.3656\n",
            "53744.45759999985\n"
          ]
        }
      ],
      "source": [
        "print(max(avgprofit))\n",
        "print(np.mean(profit_perfectinfo))\n",
        "\n",
        "#Value of information\n",
        "print(np.mean(profit_perfectinfo)-max(avgprofit))"
      ]
    },
    {
      "cell_type": "markdown",
      "metadata": {
        "id": "nQxQtyCDDbh5"
      },
      "source": [
        "# **Airline Price(P) & Quantity(Q) Decisions**"
      ]
    },
    {
      "cell_type": "code",
      "execution_count": 22,
      "metadata": {
        "colab": {
          "base_uri": "https://localhost:8080/"
        },
        "id": "v66fmlIaDs70",
        "outputId": "287e55c1-e645-4712-a281-8de72327715a"
      },
      "outputs": [
        {
          "output_type": "execute_result",
          "data": {
            "text/plain": [
              "array([96.])"
            ]
          },
          "metadata": {},
          "execution_count": 22
        }
      ],
      "source": [
        "np.random.seed(5566)\n",
        "\n",
        "b0=600\n",
        "b1=-5\n",
        "#Define a demand function first\n",
        "def Demand(Price, b0=600, b1=-5):\n",
        "  Dval=b0+b1*Price+np.random.normal(0,10,1)\n",
        "  Dval=np.round(Dval)\n",
        "  return max(Dval,0)\n",
        "\n",
        "Demand(100)"
      ]
    },
    {
      "cell_type": "code",
      "execution_count": 23,
      "metadata": {
        "colab": {
          "base_uri": "https://localhost:8080/"
        },
        "id": "2OFcsdcSmm-D",
        "outputId": "060ebea1-97a6-4e2d-b82e-2ed09e286fa7"
      },
      "outputs": [
        {
          "output_type": "execute_result",
          "data": {
            "text/plain": [
              "array([94.])"
            ]
          },
          "metadata": {},
          "execution_count": 23
        }
      ],
      "source": [
        "Demand(100)"
      ]
    },
    {
      "cell_type": "code",
      "execution_count": 24,
      "metadata": {
        "colab": {
          "base_uri": "https://localhost:8080/"
        },
        "id": "XRq5r3qHTyD3",
        "outputId": "5e180c75-6e32-4dc3-ae98-25d2ffa56b37"
      },
      "outputs": [
        {
          "output_type": "stream",
          "name": "stdout",
          "text": [
            "[0.4, 0.08270833333333333]\n",
            "[0.5666666666666667, 0.05493055555555555]\n"
          ]
        },
        {
          "output_type": "execute_result",
          "data": {
            "text/plain": [
              "array([ 14.3, 128.7])"
            ]
          },
          "metadata": {},
          "execution_count": 24
        }
      ],
      "source": [
        "#Derive the parameters of no-show distribution\n",
        "mu_noshow=0.1\n",
        "sd_noshow=0.025\n",
        "\n",
        "def beta_params(x):\n",
        "  f=[x[0]/(x[0]+x[1])-mu_noshow,\n",
        "   (x[0]*x[1])/((x[0]+x[1])**2*(x[0]+x[1]+1))-sd_noshow**2]\n",
        "  return f\n",
        "\n",
        "print(beta_params([1,1]))\n",
        "print(beta_params([2,1]))\n",
        "\n",
        "sol=opt.root(beta_params,[15,15])\n",
        "\n",
        "a_est=sol.x[0]\n",
        "b_est=sol.x[1]\n",
        "\n",
        "sol.x"
      ]
    },
    {
      "cell_type": "code",
      "execution_count": 25,
      "metadata": {
        "colab": {
          "base_uri": "https://localhost:8080/"
        },
        "id": "K2SGQSvko6JI",
        "outputId": "aa2ea2f2-3572-4b9f-b808-02f98a55afa5"
      },
      "outputs": [
        {
          "output_type": "stream",
          "name": "stdout",
          "text": [
            "[0.0, -2.168404344971009e-19]\n"
          ]
        }
      ],
      "source": [
        "print(beta_params([14.3,128.7]))"
      ]
    },
    {
      "cell_type": "code",
      "execution_count": 26,
      "metadata": {
        "colab": {
          "base_uri": "https://localhost:8080/"
        },
        "id": "Z1d7g3-tV7y1",
        "outputId": "61193c8b-ae51-4c7a-dfe0-2638598c787e"
      },
      "outputs": [
        {
          "output_type": "stream",
          "name": "stdout",
          "text": [
            "[494.07, 131.473, 1.0]\n",
            "[-2451.45, 90.443, 1.0]\n"
          ]
        },
        {
          "output_type": "stream",
          "name": "stderr",
          "text": [
            "<ipython-input-26-ed2ba54bffbf>:19: DeprecationWarning: Conversion of an array with ndim > 0 to a scalar is deprecated, and will error in future. Ensure you extract a single element from your array before performing this operation. (Deprecated NumPy 1.25.)\n",
            "  sold[s]=min(demand_s,Q)\n"
          ]
        }
      ],
      "source": [
        "#Define a performance function\n",
        "fixedC=12000\n",
        "capacity=150\n",
        "refund=0.5\n",
        "penalty=2.5\n",
        "S=1000\n",
        "\n",
        "noshowfrac=np.random.beta(a_est,b_est,S)\n",
        "\n",
        "def Perf(P, Q):\n",
        "  profit=np.empty(S)\n",
        "  sold=np.empty(S)\n",
        "  show=np.empty(S)\n",
        "  board=np.empty(S)\n",
        "  bumped=np.empty(S)\n",
        "  empty=np.empty(S)\n",
        "  for s in range(S):\n",
        "    demand_s=Demand(P)\n",
        "    sold[s]=min(demand_s,Q)\n",
        "    noshowfrac_s=noshowfrac[s]\n",
        "    show[s]=round(sold[s]*(1-noshowfrac_s))\n",
        "    board[s]=min(show[s],capacity)\n",
        "    bumped[s]=show[s]-board[s]\n",
        "    empty[s]=max(0,capacity-board[s])\n",
        "    profit[s]=P*sold[s]-(sold[s]-show[s])*P*refund-bumped[s]*P*penalty-fixedC\n",
        "    #print([profit[s],sold[s],show[s],board[s],bumped[s],empty[s]])\n",
        "  avgprofit=np.mean(profit)\n",
        "  avgboard=np.mean(board)\n",
        "  SL=np.count_nonzero(bumped==0)/S\n",
        "  return [avgprofit, avgboard, SL]\n",
        "\n",
        "print(Perf(90,150))\n",
        "print(Perf(100,151))\n"
      ]
    },
    {
      "cell_type": "code",
      "execution_count": 27,
      "metadata": {
        "id": "Lg9bHaoCiVhX"
      },
      "outputs": [],
      "source": [
        "#Perform numerical optimization\n",
        "def Perf(x):\n",
        "  #resetting the seed is important!\n",
        "  np.random.seed(5566)\n",
        "  P=x[0]\n",
        "  Q=x[1]\n",
        "  profit=np.empty(S)\n",
        "  sold=np.empty(S)\n",
        "  show=np.empty(S)\n",
        "  board=np.empty(S)\n",
        "  bumped=np.empty(S)\n",
        "  empty=np.empty(S)\n",
        "  for s in range(S):\n",
        "    demand_s=Demand(P)\n",
        "    sold[s]=min(demand_s,Q)\n",
        "    noshowfrac_s=noshowfrac[s]\n",
        "    show[s]=round(sold[s]*(1-noshowfrac_s))\n",
        "    board[s]=min(show[s],capacity)\n",
        "    bumped[s]=show[s]-board[s]\n",
        "    empty[s]=max(0,capacity-board[s])\n",
        "    profit[s]=P*sold[s]-(sold[s]-show[s])*P*refund-bumped[s]*P*penalty-fixedC\n",
        "    #print([profit[s],sold[s],show[s],board[s],bumped[s],empty[s]])\n",
        "  avgprofit=np.mean(profit)\n",
        "  avgboard=np.mean(board)\n",
        "  SL=np.count_nonzero(bumped==0)/S\n",
        "  return -1*avgprofit\n"
      ]
    },
    {
      "cell_type": "code",
      "execution_count": 28,
      "metadata": {
        "colab": {
          "base_uri": "https://localhost:8080/"
        },
        "id": "dxSBXJsON2jJ",
        "outputId": "0a4db090-0e71-4ad0-d5a4-309cb545807f"
      },
      "outputs": [
        {
          "output_type": "stream",
          "name": "stderr",
          "text": [
            "<ipython-input-27-3dac94ad1545>:15: DeprecationWarning: Conversion of an array with ndim > 0 to a scalar is deprecated, and will error in future. Ensure you extract a single element from your array before performing this operation. (Deprecated NumPy 1.25.)\n",
            "  sold[s]=min(demand_s,Q)\n"
          ]
        },
        {
          "output_type": "execute_result",
          "data": {
            "text/plain": [
              "-632.04"
            ]
          },
          "metadata": {},
          "execution_count": 28
        }
      ],
      "source": [
        "Perf([90,154])"
      ]
    },
    {
      "cell_type": "code",
      "execution_count": 29,
      "metadata": {
        "id": "EZcFlSj3Ouas",
        "colab": {
          "base_uri": "https://localhost:8080/"
        },
        "outputId": "838f3033-655f-47a0-c9a4-c20aa367d3fa"
      },
      "outputs": [
        {
          "output_type": "stream",
          "name": "stderr",
          "text": [
            "<ipython-input-27-3dac94ad1545>:15: DeprecationWarning: Conversion of an array with ndim > 0 to a scalar is deprecated, and will error in future. Ensure you extract a single element from your array before performing this operation. (Deprecated NumPy 1.25.)\n",
            "  sold[s]=min(demand_s,Q)\n"
          ]
        },
        {
          "output_type": "execute_result",
          "data": {
            "text/plain": [
              "array([-484.395])"
            ]
          },
          "metadata": {},
          "execution_count": 29
        }
      ],
      "source": [
        "##Use Pymoo for numerical optimization\n",
        "## https://pymoo.org/index.html\n",
        "\n",
        "##Define the optimization problem first\n",
        "from pymoo.problems.functional import FunctionalProblem\n",
        "\n",
        "problem=FunctionalProblem(n_var=2,objs=Perf,xl=np.array([80,150]),xu=np.array([100,180]))\n",
        "problem.evaluate(np.array([90,150]))"
      ]
    },
    {
      "cell_type": "code",
      "execution_count": 30,
      "metadata": {
        "colab": {
          "base_uri": "https://localhost:8080/"
        },
        "id": "TeK_PmM3N4CZ",
        "outputId": "d61203b7-a435-411c-fe56-a9644585fd9c"
      },
      "outputs": [
        {
          "output_type": "stream",
          "name": "stderr",
          "text": [
            "<ipython-input-27-3dac94ad1545>:15: DeprecationWarning: Conversion of an array with ndim > 0 to a scalar is deprecated, and will error in future. Ensure you extract a single element from your array before performing this operation. (Deprecated NumPy 1.25.)\n",
            "  sold[s]=min(demand_s,Q)\n"
          ]
        },
        {
          "output_type": "stream",
          "name": "stdout",
          "text": [
            "=================================================\n",
            "n_gen  |  n_eval  |     f_avg     |     f_min    \n",
            "=================================================\n",
            "     1 |       20 |  5.823292E+01 | -1.127694E+03\n",
            "     2 |       24 | -1.127694E+03 | -1.127694E+03\n",
            "     3 |       28 | -1.163278E+03 | -1.198862E+03\n",
            "     4 |       33 | -1.198862E+03 | -1.198862E+03\n",
            "     5 |       37 | -1.198862E+03 | -1.198862E+03\n",
            "     6 |       40 | -1.198886E+03 | -1.198910E+03\n",
            "     7 |       45 | -1.198910E+03 | -1.198910E+03\n",
            "     8 |       49 | -1.199438E+03 | -1.199967E+03\n",
            "     9 |       54 | -1.199967E+03 | -1.199967E+03\n",
            "    10 |       58 | -1.200103E+03 | -1.200238E+03\n",
            "    11 |       63 | -1.200238E+03 | -1.200238E+03\n",
            "    12 |       67 | -1.200279E+03 | -1.200321E+03\n",
            "    13 |       72 | -1.200240E+03 | -1.200321E+03\n",
            "    14 |       76 | -1.200743E+03 | -1.201166E+03\n",
            "    15 |       79 | -1.200717E+03 | -1.201166E+03\n",
            "    16 |       82 | -1.201213E+03 | -1.201259E+03\n",
            "    17 |       87 | -1.201259E+03 | -1.201259E+03\n",
            "    18 |       90 | -1.201331E+03 | -1.201403E+03\n",
            "    19 |       95 | -1.201403E+03 | -1.201403E+03\n",
            "    20 |       99 | -1.201403E+03 | -1.201403E+03\n",
            "    21 |      103 | -1.201423E+03 | -1.201443E+03\n",
            "    22 |      108 | -1.201443E+03 | -1.201443E+03\n",
            "    23 |      111 | -1.201453E+03 | -1.201463E+03\n",
            "    24 |      115 | -1.201396E+03 | -1.201463E+03\n",
            "    25 |      118 | -1.201468E+03 | -1.201473E+03\n",
            "    26 |      122 | -1.201396E+03 | -1.201473E+03\n",
            "    27 |      126 | -1.201473E+03 | -1.201473E+03\n",
            "    28 |      130 | -1.201479E+03 | -1.201485E+03\n",
            "    29 |      135 | -1.201485E+03 | -1.201485E+03\n",
            "    30 |      138 | -1.201488E+03 | -1.201492E+03\n",
            "    31 |      142 | -1.201406E+03 | -1.201492E+03\n",
            "    32 |      146 | -1.201492E+03 | -1.201492E+03\n",
            "    33 |      149 | -1.201492E+03 | -1.201493E+03\n",
            "    34 |      153 | -1.201451E+03 | -1.201493E+03\n",
            "    35 |      157 | -1.201493E+03 | -1.201493E+03\n",
            "    36 |      161 | -1.201493E+03 | -1.201493E+03\n",
            "    37 |      164 | -1.201493E+03 | -1.201493E+03\n",
            "    38 |      168 | -1.201450E+03 | -1.201493E+03\n",
            "    39 |      172 | -1.201493E+03 | -1.201493E+03\n",
            "    40 |      176 | -1.201407E+03 | -1.201493E+03\n",
            "    41 |      180 | -1.201493E+03 | -1.201493E+03\n",
            "    42 |      184 | -1.201493E+03 | -1.201493E+03\n",
            "    43 |      188 | -1.201493E+03 | -1.201493E+03\n",
            "    44 |      192 | -1.201450E+03 | -1.201493E+03\n",
            "    45 |      195 | -1.201493E+03 | -1.201493E+03\n",
            "    46 |      198 | -1.201363E+03 | -1.201493E+03\n",
            "    47 |      202 | -1.201493E+03 | -1.201493E+03\n",
            "    48 |      205 | -1.201493E+03 | -1.201493E+03\n",
            "    49 |      209 | -1.201450E+03 | -1.201493E+03\n",
            "    50 |      212 | -1.201493E+03 | -1.201493E+03\n",
            "    51 |      216 | -1.201450E+03 | -1.201493E+03\n",
            "    52 |      219 | -1.201493E+03 | -1.201493E+03\n",
            "    53 |      223 | -1.201450E+03 | -1.201493E+03\n",
            "    54 |      226 | -1.201493E+03 | -1.201493E+03\n",
            "    55 |      229 | -1.201363E+03 | -1.201493E+03\n",
            "    56 |      232 | -1.201493E+03 | -1.201493E+03\n",
            "    57 |      236 | -1.201450E+03 | -1.201493E+03\n",
            "    58 |      240 | -1.201493E+03 | -1.201493E+03\n",
            "    59 |      243 | -1.201493E+03 | -1.201493E+03\n",
            "    60 |      247 | -1.201450E+03 | -1.201493E+03\n",
            "    61 |      250 | -1.201493E+03 | -1.201493E+03\n",
            "    62 |      254 | -1.201450E+03 | -1.201493E+03\n",
            "    63 |      257 | -1.201493E+03 | -1.201493E+03\n",
            "    64 |      260 | -1.201363E+03 | -1.201493E+03\n",
            "    65 |      263 | -1.201493E+03 | -1.201493E+03\n",
            "    66 |      267 | -1.201407E+03 | -1.201493E+03\n",
            "    67 |      271 | -1.201493E+03 | -1.201493E+03\n",
            "    68 |      274 | -1.201493E+03 | -1.201493E+03\n",
            "    69 |      277 | -1.201363E+03 | -1.201493E+03\n",
            "    70 |      280 | -1.201493E+03 | -1.201493E+03\n",
            "    71 |      284 | -1.201407E+03 | -1.201493E+03\n"
          ]
        }
      ],
      "source": [
        "##Hooke-Jeeves Search\n",
        "from pymoo.algorithms.soo.nonconvex.pattern import PatternSearch\n",
        "from pymoo.optimize import minimize\n",
        "\n",
        "resHK=minimize(problem,algorithm=PatternSearch(),verbose=True)"
      ]
    },
    {
      "cell_type": "code",
      "execution_count": 31,
      "metadata": {
        "colab": {
          "base_uri": "https://localhost:8080/"
        },
        "id": "oRedQCEeQvFz",
        "outputId": "cff94e17-589b-49e4-aaa3-cfa18d4c26d0"
      },
      "outputs": [
        {
          "output_type": "stream",
          "name": "stdout",
          "text": [
            "Best solution found: \n",
            "X = [ 86.79011646 165.12180854]\n",
            "F = [-1201.49330907]\n"
          ]
        }
      ],
      "source": [
        "print(\"Best solution found: \\nX = %s\\nF = %s\" % (resHK.X, resHK.F))"
      ]
    },
    {
      "cell_type": "code",
      "execution_count": 32,
      "metadata": {
        "colab": {
          "base_uri": "https://localhost:8080/"
        },
        "id": "ajEMd92PRQsj",
        "outputId": "92918576-188b-4a61-a589-e79ae76df7af"
      },
      "outputs": [
        {
          "output_type": "stream",
          "name": "stderr",
          "text": [
            "<ipython-input-27-3dac94ad1545>:15: DeprecationWarning: Conversion of an array with ndim > 0 to a scalar is deprecated, and will error in future. Ensure you extract a single element from your array before performing this operation. (Deprecated NumPy 1.25.)\n",
            "  sold[s]=min(demand_s,Q)\n"
          ]
        },
        {
          "output_type": "stream",
          "name": "stdout",
          "text": [
            "=================================================\n",
            "n_gen  |  n_eval  |     f_avg     |     f_min    \n",
            "=================================================\n",
            "     1 |       20 |  5.823292E+01 | -1.127694E+03\n",
            "     2 |       22 | -1.079113E+03 | -1.127694E+03\n",
            "     3 |       23 | -1.039587E+03 | -1.127694E+03\n",
            "     4 |       25 | -1.100500E+03 | -1.176342E+03\n",
            "     5 |       27 | -1.163890E+03 | -1.187634E+03\n",
            "     6 |       29 | -1.186971E+03 | -1.196936E+03\n",
            "     7 |       31 | -1.193787E+03 | -1.196936E+03\n",
            "     8 |       33 | -1.196836E+03 | -1.196936E+03\n",
            "     9 |       37 | -1.198519E+03 | -1.199963E+03\n",
            "    10 |       41 | -1.199244E+03 | -1.199963E+03\n",
            "    11 |       43 | -1.199638E+03 | -1.199963E+03\n",
            "    12 |       45 | -1.199886E+03 | -1.200033E+03\n",
            "    13 |       47 | -1.200198E+03 | -1.200597E+03\n",
            "    14 |       49 | -1.200462E+03 | -1.200758E+03\n",
            "    15 |       51 | -1.200745E+03 | -1.200882E+03\n",
            "    16 |       55 | -1.200842E+03 | -1.201006E+03\n",
            "    17 |       57 | -1.200987E+03 | -1.201074E+03\n",
            "    18 |       61 | -1.200963E+03 | -1.201074E+03\n",
            "    19 |       63 | -1.201061E+03 | -1.201161E+03\n",
            "    20 |       65 | -1.201112E+03 | -1.201161E+03\n",
            "    21 |       69 | -1.201249E+03 | -1.201368E+03\n",
            "    22 |       73 | -1.201200E+03 | -1.201368E+03\n",
            "    23 |       74 | -1.201259E+03 | -1.201368E+03\n",
            "    24 |       76 | -1.201268E+03 | -1.201368E+03\n",
            "    25 |       78 | -1.201341E+03 | -1.201379E+03\n",
            "    26 |       80 | -1.201358E+03 | -1.201379E+03\n",
            "    27 |       82 | -1.201365E+03 | -1.201379E+03\n",
            "    28 |       84 | -1.201369E+03 | -1.201379E+03\n",
            "    29 |       86 | -1.201378E+03 | -1.201386E+03\n",
            "    30 |       88 | -1.201392E+03 | -1.201411E+03\n",
            "    31 |       90 | -1.201395E+03 | -1.201411E+03\n",
            "    32 |       92 | -1.201408E+03 | -1.201426E+03\n",
            "    33 |       94 | -1.201413E+03 | -1.201426E+03\n",
            "    34 |       96 | -1.201423E+03 | -1.201433E+03\n",
            "    35 |       98 | -1.201426E+03 | -1.201433E+03\n",
            "    36 |      100 | -1.201433E+03 | -1.201439E+03\n",
            "    37 |      102 | -1.201434E+03 | -1.201439E+03\n",
            "    38 |      104 | -1.201438E+03 | -1.201441E+03\n",
            "    39 |      106 | -1.201439E+03 | -1.201441E+03\n",
            "    40 |      108 | -1.201440E+03 | -1.201441E+03\n",
            "    41 |      110 | -1.201440E+03 | -1.201441E+03\n",
            "    42 |      112 | -1.201441E+03 | -1.201443E+03\n",
            "    43 |      114 | -1.201444E+03 | -1.201447E+03\n",
            "    44 |      116 | -1.201446E+03 | -1.201449E+03\n",
            "    45 |      118 | -1.201450E+03 | -1.201453E+03\n",
            "    46 |      120 | -1.201450E+03 | -1.201453E+03\n",
            "    47 |      122 | -1.201453E+03 | -1.201456E+03\n",
            "    48 |      124 | -1.201454E+03 | -1.201456E+03\n",
            "    49 |      126 | -1.201454E+03 | -1.201456E+03\n",
            "    50 |      128 | -1.201456E+03 | -1.201458E+03\n",
            "    51 |      130 | -1.201459E+03 | -1.201464E+03\n",
            "    52 |      132 | -1.201464E+03 | -1.201471E+03\n",
            "    53 |      134 | -1.201471E+03 | -1.201477E+03\n",
            "    54 |      136 | -1.201472E+03 | -1.201477E+03\n",
            "    55 |      138 | -1.201476E+03 | -1.201479E+03\n",
            "    56 |      140 | -1.201477E+03 | -1.201479E+03\n",
            "    57 |      142 | -1.201479E+03 | -1.201482E+03\n",
            "    58 |      144 | -1.201480E+03 | -1.201482E+03\n",
            "    59 |      146 | -1.201480E+03 | -1.201482E+03\n",
            "    60 |      148 | -1.201482E+03 | -1.201484E+03\n",
            "    61 |      150 | -1.201484E+03 | -1.201487E+03\n",
            "    62 |      152 | -1.201485E+03 | -1.201487E+03\n",
            "    63 |      154 | -1.201486E+03 | -1.201487E+03\n",
            "    64 |      156 | -1.201486E+03 | -1.201487E+03\n",
            "    65 |      158 | -1.201487E+03 | -1.201488E+03\n",
            "    66 |      160 | -1.201488E+03 | -1.201488E+03\n",
            "    67 |      162 | -1.201488E+03 | -1.201488E+03\n",
            "    68 |      164 | -1.201488E+03 | -1.201489E+03\n",
            "    69 |      166 | -1.201489E+03 | -1.201491E+03\n",
            "    70 |      168 | -1.201490E+03 | -1.201491E+03\n",
            "    71 |      170 | -1.201491E+03 | -1.201492E+03\n",
            "    72 |      172 | -1.201491E+03 | -1.201492E+03\n",
            "    73 |      174 | -1.201492E+03 | -1.201492E+03\n",
            "    74 |      176 | -1.201492E+03 | -1.201492E+03\n",
            "    75 |      178 | -1.201492E+03 | -1.201492E+03\n",
            "    76 |      180 | -1.201492E+03 | -1.201493E+03\n"
          ]
        }
      ],
      "source": [
        "##Nelder-Mead Search\n",
        "from pymoo.algorithms.soo.nonconvex.nelder import NelderMead\n",
        "resNM=minimize(problem,algorithm=NelderMead(),verbose=True)"
      ]
    },
    {
      "cell_type": "code",
      "execution_count": 33,
      "metadata": {
        "colab": {
          "base_uri": "https://localhost:8080/"
        },
        "id": "57vagF72ROAp",
        "outputId": "a031b77b-8e7b-4fc0-d867-98a5ff849e02"
      },
      "outputs": [
        {
          "output_type": "stream",
          "name": "stdout",
          "text": [
            "Best solution found: \n",
            "X = [ 86.79011487 165.12178416]\n",
            "F = [-1201.49253361]\n"
          ]
        }
      ],
      "source": [
        "print(\"Best solution found: \\nX = %s\\nF = %s\" % (resNM.X, resNM.F))"
      ]
    },
    {
      "cell_type": "code",
      "execution_count": null,
      "metadata": {
        "id": "w2cTfKf5D3gx"
      },
      "outputs": [],
      "source": []
    }
  ],
  "metadata": {
    "colab": {
      "provenance": []
    },
    "kernelspec": {
      "display_name": "Python 3",
      "name": "python3"
    },
    "language_info": {
      "name": "python"
    }
  },
  "nbformat": 4,
  "nbformat_minor": 0
}