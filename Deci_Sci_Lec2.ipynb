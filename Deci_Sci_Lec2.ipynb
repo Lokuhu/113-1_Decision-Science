{
  "nbformat": 4,
  "nbformat_minor": 0,
  "metadata": {
    "colab": {
      "provenance": []
    },
    "kernelspec": {
      "name": "python3",
      "display_name": "Python 3"
    },
    "language_info": {
      "name": "python"
    }
  },
  "cells": [
    {
      "cell_type": "code",
      "execution_count": 1,
      "metadata": {
        "id": "omOEcJU9pEG0",
        "colab": {
          "base_uri": "https://localhost:8080/"
        },
        "outputId": "453e546f-474c-440e-9019-433ca6e3fb77"
      },
      "outputs": [
        {
          "output_type": "stream",
          "name": "stdout",
          "text": [
            "Requirement already satisfied: scipy in /usr/local/lib/python3.10/dist-packages (1.13.1)\n",
            "Collecting scipy\n",
            "  Downloading scipy-1.14.1-cp310-cp310-manylinux_2_17_x86_64.manylinux2014_x86_64.whl.metadata (60 kB)\n",
            "\u001b[2K     \u001b[90m━━━━━━━━━━━━━━━━━━━━━━━━━━━━━━━━━━━━━━━━\u001b[0m \u001b[32m60.8/60.8 kB\u001b[0m \u001b[31m2.1 MB/s\u001b[0m eta \u001b[36m0:00:00\u001b[0m\n",
            "\u001b[?25hRequirement already satisfied: numpy<2.3,>=1.23.5 in /usr/local/lib/python3.10/dist-packages (from scipy) (1.26.4)\n",
            "Downloading scipy-1.14.1-cp310-cp310-manylinux_2_17_x86_64.manylinux2014_x86_64.whl (41.2 MB)\n",
            "\u001b[2K   \u001b[90m━━━━━━━━━━━━━━━━━━━━━━━━━━━━━━━━━━━━━━━━\u001b[0m \u001b[32m41.2/41.2 MB\u001b[0m \u001b[31m10.0 MB/s\u001b[0m eta \u001b[36m0:00:00\u001b[0m\n",
            "\u001b[?25hInstalling collected packages: scipy\n",
            "  Attempting uninstall: scipy\n",
            "    Found existing installation: scipy 1.13.1\n",
            "    Uninstalling scipy-1.13.1:\n",
            "      Successfully uninstalled scipy-1.13.1\n",
            "\u001b[31mERROR: pip's dependency resolver does not currently take into account all the packages that are installed. This behaviour is the source of the following dependency conflicts.\n",
            "gensim 4.3.3 requires scipy<1.14.0,>=1.7.0, but you have scipy 1.14.1 which is incompatible.\u001b[0m\u001b[31m\n",
            "\u001b[0mSuccessfully installed scipy-1.14.1\n"
          ]
        }
      ],
      "source": [
        "%pip install scipy --upgrade\n",
        "import math\n",
        "import matplotlib.pyplot as plt\n",
        "import scipy.stats as stats\n",
        "import scipy.optimize as opt\n",
        "import numpy as np"
      ]
    },
    {
      "cell_type": "code",
      "source": [
        "#Set the seed for reproducibility\n",
        "np.random.seed(5566)\n",
        "\n",
        "np.random.choice([1,0],5,replace=True,p=[0.5,0.5])"
      ],
      "metadata": {
        "id": "46svFz-05Ofx",
        "colab": {
          "base_uri": "https://localhost:8080/"
        },
        "outputId": "ed0f422f-81bb-4e60-e2cf-1a85e47a92e4"
      },
      "execution_count": 2,
      "outputs": [
        {
          "output_type": "execute_result",
          "data": {
            "text/plain": [
              "array([0, 1, 1, 1, 0])"
            ]
          },
          "metadata": {},
          "execution_count": 2
        }
      ]
    },
    {
      "cell_type": "code",
      "source": [
        "SPay=np.array([21600,16800,12000,6000,0])\n",
        "SPayProb=np.array([0.05,0.25,0.4,0.25,0.05])"
      ],
      "metadata": {
        "id": "CeiFO2_fut1I"
      },
      "execution_count": 3,
      "outputs": []
    },
    {
      "cell_type": "code",
      "source": [
        "plt.plot(SPay, SPayProb, 'bo', ms=8, label='School Pay')\n",
        "plt.vlines(SPay, 0, SPayProb, colors='b', lw=5, alpha=0.5)"
      ],
      "metadata": {
        "id": "o5EJ266ouowW",
        "colab": {
          "base_uri": "https://localhost:8080/",
          "height": 447
        },
        "outputId": "c3402980-e335-414f-960f-2dfb55f1056a"
      },
      "execution_count": 4,
      "outputs": [
        {
          "output_type": "execute_result",
          "data": {
            "text/plain": [
              "<matplotlib.collections.LineCollection at 0x7be05bee8400>"
            ]
          },
          "metadata": {},
          "execution_count": 4
        },
        {
          "output_type": "display_data",
          "data": {
            "text/plain": [
              "<Figure size 640x480 with 1 Axes>"
            ],
            "image/png": "[encoded data removed]"
          },
          "metadata": {}
        }
      ]
    },
    {
      "cell_type": "code",
      "source": [
        "JohnPay = 12000\n",
        "\n",
        "#Pay from Vanessa\n",
        "VPay=14000\n",
        "\n",
        "#The probability of getting the job from Vanessa\n",
        "probV = np.arange(0.1,1,0.1)\n",
        "print(probV)\n",
        "\n",
        "#Simulation runs\n",
        "S = 10000"
      ],
      "metadata": {
        "id": "fWyxarmV5V_7",
        "colab": {
          "base_uri": "https://localhost:8080/"
        },
        "outputId": "92d27edf-48da-4848-fcf0-e22697c05fde"
      },
      "execution_count": 5,
      "outputs": [
        {
          "output_type": "stream",
          "name": "stdout",
          "text": [
            "[0.1 0.2 0.3 0.4 0.5 0.6 0.7 0.8 0.9]\n"
          ]
        }
      ]
    },
    {
      "cell_type": "code",
      "source": [
        "#Earnings of Waiting for Vanessa's offer\n",
        "results1=np.empty([S,len(probV)])\n",
        "\n",
        "for v in range(len(probV)):\n",
        "  #Sample Vanessa's decision\n",
        "  VanessaOffer=np.random.choice([1,0],S,replace=True,p=[probV[v],1-probV[v]])\n",
        "  VYesid=np.where(VanessaOffer==1)\n",
        "  VNoid=np.where(VanessaOffer==0)\n",
        "  #Obtain 14000 if Vanessa says Yes\n",
        "  results1[VYesid,v]=VPay\n",
        "  #Obtain a random school pay if Vanessa says No\n",
        "  results1[VNoid,v]=np.random.choice(SPay,\n",
        "            np.sum(VanessaOffer==0),\n",
        "            replace=True,p=SPayProb)\n"
      ],
      "metadata": {
        "id": "UmnQI2wT6TaG"
      },
      "execution_count": 6,
      "outputs": []
    },
    {
      "cell_type": "code",
      "source": [
        "results1[0:10,0:5]"
      ],
      "metadata": {
        "id": "OQ0_1fOw6qBZ",
        "colab": {
          "base_uri": "https://localhost:8080/"
        },
        "outputId": "85b11977-3b2e-43e1-80f4-f4ba575d8648"
      },
      "execution_count": 7,
      "outputs": [
        {
          "output_type": "execute_result",
          "data": {
            "text/plain": [
              "array([[12000., 16800., 12000., 14000., 21600.],\n",
              "       [21600., 12000., 14000., 16800., 14000.],\n",
              "       [ 6000.,     0., 12000., 16800., 16800.],\n",
              "       [16800., 14000., 12000., 14000., 12000.],\n",
              "       [16800., 16800., 12000., 14000., 14000.],\n",
              "       [16800., 21600., 16800., 12000., 14000.],\n",
              "       [12000., 16800., 12000., 14000., 14000.],\n",
              "       [12000.,  6000., 14000., 16800., 14000.],\n",
              "       [12000., 14000., 14000., 16800., 16800.],\n",
              "       [12000., 16800., 12000.,  6000., 14000.]])"
            ]
          },
          "metadata": {},
          "execution_count": 7
        }
      ]
    },
    {
      "cell_type": "code",
      "source": [
        "#Compute percentiles of earnings under each probV\n",
        "pctiles=np.array([0.1,0.25,0.5,0.75,0.9])\n",
        "paytiles=np.empty([len(probV),len(pctiles)])\n",
        "\n",
        "pbetter=np.empty(len(probV))\n",
        "\n",
        "for i in range(len(probV)):\n",
        "  #Compute the percentiles of earning under each P(VanessaYes)\n",
        "  paytiles[i,]=np.quantile(results1[:,i],pctiles)\n",
        "  #Compute the probability of earning more than 12000\n",
        "  pbetter[i]=np.sum(results1[:,i]>=JohnPay)/S"
      ],
      "metadata": {
        "id": "-VbajOHSBrZt"
      },
      "execution_count": 8,
      "outputs": []
    },
    {
      "cell_type": "code",
      "source": [
        "paytiles"
      ],
      "metadata": {
        "id": "3QqaVf6lC1M6",
        "colab": {
          "base_uri": "https://localhost:8080/"
        },
        "outputId": "4dc83370-dd4a-4d53-8291-0e7c6c800353"
      },
      "execution_count": 9,
      "outputs": [
        {
          "output_type": "execute_result",
          "data": {
            "text/plain": [
              "array([[ 6000.,  6000., 12000., 16800., 16800.],\n",
              "       [ 6000., 12000., 12000., 14000., 16800.],\n",
              "       [ 6000., 12000., 14000., 14000., 16800.],\n",
              "       [ 6000., 12000., 14000., 14000., 16800.],\n",
              "       [ 6000., 12000., 14000., 14000., 16800.],\n",
              "       [ 6000., 12000., 14000., 14000., 16800.],\n",
              "       [12000., 14000., 14000., 14000., 14000.],\n",
              "       [12000., 14000., 14000., 14000., 14000.],\n",
              "       [14000., 14000., 14000., 14000., 14000.]])"
            ]
          },
          "metadata": {},
          "execution_count": 9
        }
      ]
    },
    {
      "cell_type": "code",
      "source": [
        "pbetter"
      ],
      "metadata": {
        "id": "wIvgXiGFC40t",
        "colab": {
          "base_uri": "https://localhost:8080/"
        },
        "outputId": "8ae82520-38db-4218-d645-2731bde34f3d"
      },
      "execution_count": 10,
      "outputs": [
        {
          "output_type": "execute_result",
          "data": {
            "text/plain": [
              "array([0.7289, 0.7574, 0.7945, 0.8274, 0.8515, 0.8842, 0.9134, 0.9402,\n",
              "       0.9691])"
            ]
          },
          "metadata": {},
          "execution_count": 10
        }
      ]
    },
    {
      "cell_type": "code",
      "source": [
        "plt.plot(probV,pbetter)\n",
        "plt.xlabel(\"P(VanessaOffer)\")\n",
        "plt.ylabel(\"P(Beat JohnPay)\")\n",
        "plt.title(\"\")\n",
        "plt.show()"
      ],
      "metadata": {
        "id": "Y2GWRrdmEYkr",
        "colab": {
          "base_uri": "https://localhost:8080/",
          "height": 449
        },
        "outputId": "d1b5b186-884c-4132-bd5d-ca660c3eb58a"
      },
      "execution_count": 11,
      "outputs": [
        {
          "output_type": "display_data",
          "data": {
            "text/plain": [
              "<Figure size 640x480 with 1 Axes>"
            ],
            "image/png": "[encoded data removed]"
          },
          "metadata": {}
        }
      ]
    },
    {
      "cell_type": "markdown",
      "source": [
        "# **Distance between Distributions**"
      ],
      "metadata": {
        "id": "VtCsX7yDqmDW"
      }
    },
    {
      "cell_type": "code",
      "source": [
        "from scipy.stats import wasserstein_distance"
      ],
      "metadata": {
        "id": "3-rQoLuJFuaX"
      },
      "execution_count": 12,
      "outputs": []
    },
    {
      "cell_type": "markdown",
      "source": [
        "https://docs.scipy.org/doc/scipy/reference/generated/scipy.stats.wasserstein_distance.html"
      ],
      "metadata": {
        "id": "NV9gjomUrhrf"
      }
    },
    {
      "cell_type": "code",
      "source": [
        "outcome=np.arange(1,7,1)\n",
        "outcome"
      ],
      "metadata": {
        "id": "OCSg_02MqyaS",
        "colab": {
          "base_uri": "https://localhost:8080/"
        },
        "outputId": "f3e8ffd2-e469-409c-d8ef-90813f7f4f80"
      },
      "execution_count": 13,
      "outputs": [
        {
          "output_type": "execute_result",
          "data": {
            "text/plain": [
              "array([1, 2, 3, 4, 5, 6])"
            ]
          },
          "metadata": {},
          "execution_count": 13
        }
      ]
    },
    {
      "cell_type": "code",
      "source": [
        "dieA_prob=np.array([0.3,0.1,0.1,0.2,0.2,0.1])\n",
        "dieB_prob=np.array([0.1,0.3,0.1,0.2,0.2,0.1])\n",
        "dieC_prob=np.array([0.1,0.1,0.1,0.2,0.2,0.3])"
      ],
      "metadata": {
        "id": "G1zplqW7rNQo"
      },
      "execution_count": 14,
      "outputs": []
    },
    {
      "cell_type": "code",
      "source": [
        "plt.plot(outcome, dieA_prob, 'bo', ms=8, label='Die A')\n",
        "plt.vlines(outcome, 0, dieA_prob, colors='b', lw=5, alpha=0.5)"
      ],
      "metadata": {
        "id": "PeALm_KpsD4F",
        "colab": {
          "base_uri": "https://localhost:8080/",
          "height": 447
        },
        "outputId": "d2217b35-1fed-495c-8b59-309cc6503634"
      },
      "execution_count": 15,
      "outputs": [
        {
          "output_type": "execute_result",
          "data": {
            "text/plain": [
              "<matplotlib.collections.LineCollection at 0x7be02741d870>"
            ]
          },
          "metadata": {},
          "execution_count": 15
        },
        {
          "output_type": "display_data",
          "data": {
            "text/plain": [
              "<Figure size 640x480 with 1 Axes>"
            ],
            "image/png": "[encoded data removed]"
          },
          "metadata": {}
        }
      ]
    },
    {
      "cell_type": "code",
      "source": [
        "plt.plot(outcome, dieB_prob, 'ro', ms=8, label='Die B')\n",
        "plt.vlines(outcome, 0, dieB_prob, colors='r', lw=5, alpha=0.5)"
      ],
      "metadata": {
        "id": "_yke5aK3t_kB",
        "colab": {
          "base_uri": "https://localhost:8080/",
          "height": 447
        },
        "outputId": "1711f3ae-3217-4492-a456-6a3241649f6c"
      },
      "execution_count": 16,
      "outputs": [
        {
          "output_type": "execute_result",
          "data": {
            "text/plain": [
              "<matplotlib.collections.LineCollection at 0x7be0272e7430>"
            ]
          },
          "metadata": {},
          "execution_count": 16
        },
        {
          "output_type": "display_data",
          "data": {
            "text/plain": [
              "<Figure size 640x480 with 1 Axes>"
            ],
            "image/png": "[encoded data removed]"
          },
          "metadata": {}
        }
      ]
    },
    {
      "cell_type": "code",
      "source": [
        "plt.plot(outcome, dieC_prob, 'go', ms=8, label='Die B')\n",
        "plt.vlines(outcome, 0, dieC_prob, colors='g', lw=5, alpha=0.5)"
      ],
      "metadata": {
        "id": "K0ZLNHaiuGX_",
        "colab": {
          "base_uri": "https://localhost:8080/",
          "height": 447
        },
        "outputId": "7beaee1d-2faf-4801-ff8e-1732a27f0d2c"
      },
      "execution_count": 17,
      "outputs": [
        {
          "output_type": "execute_result",
          "data": {
            "text/plain": [
              "<matplotlib.collections.LineCollection at 0x7be027449480>"
            ]
          },
          "metadata": {},
          "execution_count": 17
        },
        {
          "output_type": "display_data",
          "data": {
            "text/plain": [
              "<Figure size 640x480 with 1 Axes>"
            ],
            "image/png": "[encoded data removed]"
          },
          "metadata": {}
        }
      ]
    },
    {
      "cell_type": "code",
      "source": [
        "wasserstein_distance(outcome, outcome,dieA_prob,dieB_prob)"
      ],
      "metadata": {
        "id": "uImB8m5tr9Br",
        "colab": {
          "base_uri": "https://localhost:8080/"
        },
        "outputId": "4c78d286-1506-42a8-c4fc-523d4f286a71"
      },
      "execution_count": 18,
      "outputs": [
        {
          "output_type": "execute_result",
          "data": {
            "text/plain": [
              "0.2"
            ]
          },
          "metadata": {},
          "execution_count": 18
        }
      ]
    },
    {
      "cell_type": "code",
      "source": [
        "wasserstein_distance(outcome, outcome,dieA_prob,dieC_prob)"
      ],
      "metadata": {
        "id": "Ubv6SytBsTOe",
        "colab": {
          "base_uri": "https://localhost:8080/"
        },
        "outputId": "3598402c-6ccd-4fc0-d080-eabaa25ffe8f"
      },
      "execution_count": 19,
      "outputs": [
        {
          "output_type": "execute_result",
          "data": {
            "text/plain": [
              "1.0000000000000004"
            ]
          },
          "metadata": {},
          "execution_count": 19
        }
      ]
    },
    {
      "cell_type": "code",
      "source": [],
      "metadata": {
        "id": "7fxipTcs6dJ2"
      },
      "execution_count": null,
      "outputs": []
    }
  ]
}