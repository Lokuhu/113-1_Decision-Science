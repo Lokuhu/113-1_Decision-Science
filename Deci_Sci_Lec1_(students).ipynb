{
  "nbformat": 4,
  "nbformat_minor": 0,
  "metadata": {
    "colab": {
      "provenance": []
    },
    "kernelspec": {
      "name": "python3",
      "display_name": "Python 3"
    },
    "language_info": {
      "name": "python"
    }
  },
  "cells": [
    {
      "cell_type": "code",
      "execution_count": 1,
      "metadata": {
        "id": "h8VEgFppzsUm",
        "colab": {
          "base_uri": "https://localhost:8080/"
        },
        "outputId": "cd63a7b4-e40b-4d64-b535-ba2405a45798"
      },
      "outputs": [
        {
          "output_type": "stream",
          "name": "stdout",
          "text": [
            "Requirement already satisfied: scipy in /usr/local/lib/python3.10/dist-packages (1.13.1)\n",
            "Collecting scipy\n",
            "  Downloading scipy-1.14.1-cp310-cp310-manylinux_2_17_x86_64.manylinux2014_x86_64.whl.metadata (60 kB)\n",
            "\u001b[2K     \u001b[90m━━━━━━━━━━━━━━━━━━━━━━━━━━━━━━━━━━━━━━━━\u001b[0m \u001b[32m60.8/60.8 kB\u001b[0m \u001b[31m898.2 kB/s\u001b[0m eta \u001b[36m0:00:00\u001b[0m\n",
            "\u001b[?25hRequirement already satisfied: numpy<2.3,>=1.23.5 in /usr/local/lib/python3.10/dist-packages (from scipy) (1.26.4)\n",
            "Downloading scipy-1.14.1-cp310-cp310-manylinux_2_17_x86_64.manylinux2014_x86_64.whl (41.2 MB)\n",
            "\u001b[2K   \u001b[90m━━━━━━━━━━━━━━━━━━━━━━━━━━━━━━━━━━━━━━━━\u001b[0m \u001b[32m41.2/41.2 MB\u001b[0m \u001b[31m12.4 MB/s\u001b[0m eta \u001b[36m0:00:00\u001b[0m\n",
            "\u001b[?25hInstalling collected packages: scipy\n",
            "  Attempting uninstall: scipy\n",
            "    Found existing installation: scipy 1.13.1\n",
            "    Uninstalling scipy-1.13.1:\n",
            "      Successfully uninstalled scipy-1.13.1\n",
            "\u001b[31mERROR: pip's dependency resolver does not currently take into account all the packages that are installed. This behaviour is the source of the following dependency conflicts.\n",
            "gensim 4.3.3 requires scipy<1.14.0,>=1.7.0, but you have scipy 1.14.1 which is incompatible.\u001b[0m\u001b[31m\n",
            "\u001b[0mSuccessfully installed scipy-1.14.1\n"
          ]
        }
      ],
      "source": [
        "%pip install scipy --upgrade\n",
        "import math\n",
        "import matplotlib.pyplot as plt\n",
        "import scipy.stats as stats\n",
        "import scipy.optimize as opt\n",
        "import numpy as np"
      ]
    },
    {
      "cell_type": "markdown",
      "source": [
        "# **Toss A Coin**"
      ],
      "metadata": {
        "id": "WST86Wkwz5hk"
      }
    },
    {
      "cell_type": "code",
      "source": [
        "#Set the seed for reproducibility\n",
        "np.random.seed(5566)"
      ],
      "metadata": {
        "id": "4IiEeIzR0MTM"
      },
      "execution_count": null,
      "outputs": []
    },
    {
      "cell_type": "code",
      "source": [
        "#Toss a fair coin 10 times\n",
        "S=10\n",
        "x=np.random.choice([0,1],S,replace=True,p=[0.5,0.5])\n",
        "np.sum(x)\n",
        "np.sum(x)/len(x)"
      ],
      "metadata": {
        "id": "mcihtOBL0GSY",
        "colab": {
          "base_uri": "https://localhost:8080/"
        },
        "outputId": "e0e11f22-6318-494c-c57f-d89d1ada79f0"
      },
      "execution_count": null,
      "outputs": [
        {
          "output_type": "execute_result",
          "data": {
            "text/plain": [
              "0.7"
            ]
          },
          "metadata": {},
          "execution_count": 53
        }
      ]
    },
    {
      "cell_type": "code",
      "source": [
        "#Toss a fair coin 100 times\n",
        "S=100\n",
        "x=np.random.choice([0,1],S,replace=True,p=[0.5,0.5])\n",
        "np.sum(x)\n",
        "np.sum(x)/len(x)"
      ],
      "metadata": {
        "id": "8azIgXUb0Jq7",
        "colab": {
          "base_uri": "https://localhost:8080/"
        },
        "outputId": "3c57831b-d880-4af1-8bec-91f79d5533b9"
      },
      "execution_count": null,
      "outputs": [
        {
          "output_type": "execute_result",
          "data": {
            "text/plain": [
              "0.44"
            ]
          },
          "metadata": {},
          "execution_count": 4
        }
      ]
    },
    {
      "cell_type": "code",
      "source": [
        "#Toss a fair coin 10000 times\n",
        "S=10000\n",
        "x=np.random.choice([0,1],S,replace=True,p=[0.5,0.5])\n",
        "np.sum(x)\n",
        "np.sum(x)/len(x)"
      ],
      "metadata": {
        "id": "mGtA93pn0cGR",
        "colab": {
          "base_uri": "https://localhost:8080/"
        },
        "outputId": "e286c5a5-f65a-4eda-8260-7915d82df0a6"
      },
      "execution_count": null,
      "outputs": [
        {
          "output_type": "execute_result",
          "data": {
            "text/plain": [
              "0.5011"
            ]
          },
          "metadata": {},
          "execution_count": 5
        }
      ]
    },
    {
      "cell_type": "code",
      "source": [
        "np.random.choice([-1,1],50,replace=True,p=[0.5,0.5])"
      ],
      "metadata": {
        "id": "CENQ5Cf80fVK",
        "colab": {
          "base_uri": "https://localhost:8080/"
        },
        "outputId": "110a009e-94fe-43b8-b30a-3e22d6d3a98f"
      },
      "execution_count": null,
      "outputs": [
        {
          "output_type": "execute_result",
          "data": {
            "text/plain": [
              "array([ 1, -1, -1, -1, -1,  1,  1, -1,  1, -1, -1,  1,  1, -1, -1,  1, -1,\n",
              "        1, -1, -1, -1, -1, -1,  1, -1, -1, -1, -1,  1, -1, -1,  1,  1, -1,\n",
              "       -1, -1, -1, -1,  1,  1,  1,  1, -1, -1,  1,  1,  1,  1,  1,  1])"
            ]
          },
          "metadata": {},
          "execution_count": 13
        }
      ]
    },
    {
      "cell_type": "code",
      "source": [
        "#Let Han & Ko play the game\n",
        "S=10000\n",
        "earning=np.empty(S)\n",
        "k=0\n",
        "#counter\n",
        "for s in range(S):\n",
        "  x=np.random.choice([-1,1],50,replace=True,p=[0.5,0.5])\n",
        "  earning[s]=np.sum(x)\n",
        "  if earning[s] == 0:\n",
        "    k=k+1\n",
        "\n",
        "#Check if there is any nan (not a number)\n",
        "print(np.isnan(earning).any())\n",
        "\n",
        "#Summary statistics\n",
        "print(stats.describe(earning))"
      ],
      "metadata": {
        "id": "cxJbWWPR0oCj",
        "colab": {
          "base_uri": "https://localhost:8080/"
        },
        "outputId": "d559d43b-f373-460b-ec2b-0258f7cd6594"
      },
      "execution_count": null,
      "outputs": [
        {
          "output_type": "stream",
          "name": "stdout",
          "text": [
            "False\n",
            "DescribeResult(nobs=10000, minmax=(-24.0, 26.0), mean=0.1156, variance=49.88842548254824, skewness=-0.047903120574425806, kurtosis=-0.07981764390953083)\n"
          ]
        }
      ]
    },
    {
      "cell_type": "code",
      "source": [
        "#Plot the distribution of earning\n",
        "plt.hist(earning, bins=20)\n",
        "plt.xlabel(\"Earning\")\n",
        "plt.ylabel(\"Frequency\")\n",
        "plt.title(\"Histogram with 20 bins\")\n",
        "plt.show()"
      ],
      "metadata": {
        "id": "Kya_uYEF0vhC",
        "colab": {
          "base_uri": "https://localhost:8080/",
          "height": 472
        },
        "outputId": "91a07e2c-e3a5-4243-fea3-7de6d200327d"
      },
      "execution_count": null,
      "outputs": [
        {
          "output_type": "display_data",
          "data": {
            "text/plain": [
              "<Figure size 640x480 with 1 Axes>"
            ],
            "image/png": "[encoded data removed]"
          },
          "metadata": {}
        }
      ]
    },
    {
      "cell_type": "code",
      "source": [
        "#Pring the # of runs in which KeP breaks even\n",
        "print(k)\n",
        "print(k/S)\n",
        "\n",
        "#Theoretical probability\n",
        "stats.binom.pmf(25,50,0.5)"
      ],
      "metadata": {
        "id": "3MbPyNFk03t6",
        "colab": {
          "base_uri": "https://localhost:8080/"
        },
        "outputId": "dc59306a-344f-42b3-e4f7-4c99b034a0f5"
      },
      "execution_count": null,
      "outputs": [
        {
          "output_type": "stream",
          "name": "stdout",
          "text": [
            "1150\n",
            "0.115\n"
          ]
        },
        {
          "output_type": "execute_result",
          "data": {
            "text/plain": [
              "0.11227517265921712"
            ]
          },
          "metadata": {},
          "execution_count": 15
        }
      ]
    },
    {
      "cell_type": "code",
      "source": [
        "x=np.random.choice([-1,1],50,replace=True,p=[0.5,0.5])\n",
        "cumx=np.cumsum(x)\n",
        "\n",
        "leadid=np.where(cumx>0)\n",
        "maxx=np.max(cumx)\n",
        "\n",
        "print(x)\n",
        "print(cumx)\n",
        "print(leadid)\n",
        "print(len(cumx[leadid]))\n",
        "print(maxx)"
      ],
      "metadata": {
        "id": "-KnFWc7G4wZh",
        "colab": {
          "base_uri": "https://localhost:8080/"
        },
        "outputId": "32bd0510-7387-49ed-c038-d1504c6cc49b"
      },
      "execution_count": null,
      "outputs": [
        {
          "output_type": "stream",
          "name": "stdout",
          "text": [
            "[-1  1 -1  1  1  1  1  1 -1 -1 -1  1  1 -1 -1  1 -1 -1  1  1 -1  1 -1 -1\n",
            " -1  1 -1 -1  1  1  1 -1 -1  1 -1 -1 -1 -1 -1  1  1  1 -1  1  1  1  1 -1\n",
            "  1  1]\n",
            "[-1  0 -1  0  1  2  3  4  3  2  1  2  3  2  1  2  1  0  1  2  1  2  1  0\n",
            " -1  0 -1 -2 -1  0  1  0 -1  0 -1 -2 -3 -4 -5 -4 -3 -2 -3 -2 -1  0  1  0\n",
            "  1  2]\n",
            "(array([ 4,  5,  6,  7,  8,  9, 10, 11, 12, 13, 14, 15, 16, 18, 19, 20, 21,\n",
            "       22, 30, 46, 48, 49]),)\n",
            "22\n",
            "4\n"
          ]
        }
      ]
    },
    {
      "cell_type": "code",
      "source": [
        "#Let Han & Ko play the game\n",
        "S=10000\n",
        "earning=np.empty(S)\n",
        "positive=np.empty(S)\n",
        "maxearning=np.empty(S)\n",
        "k=0\n",
        "for s in range(S):\n",
        "  x=np.random.choice([-1,1],50,replace=True,p=[0.5,0.5])\n",
        "  earning[s]=np.sum(x)\n",
        "  #\n",
        "  cumx=np.cumsum(x)\n",
        "  leadid=np.where(cumx>0)\n",
        "  positive[s]=len(cumx[leadid])\n",
        "  #\n",
        "  maxx=np.max(cumx)\n",
        "  maxearning[s]=maxx"
      ],
      "metadata": {
        "id": "2NgftJug5ogm"
      },
      "execution_count": null,
      "outputs": []
    },
    {
      "cell_type": "code",
      "source": [
        "#Estimate the number of rounds KoP with >$0\n",
        "print(np.mean(positive))\n",
        "print(np.median(positive))"
      ],
      "metadata": {
        "id": "jQ54LXrq6xcD"
      },
      "execution_count": null,
      "outputs": []
    },
    {
      "cell_type": "code",
      "source": [
        "#Estimate KoP's highest fortune in the game\n",
        "print(np.mean(maxearning))\n",
        "print(np.median(maxearning))"
      ],
      "metadata": {
        "id": "cnKg3mI_7L5i"
      },
      "execution_count": null,
      "outputs": []
    },
    {
      "cell_type": "code",
      "source": [
        "#Estimate KoP's chance with maxearning > 10 in the game\n",
        "id=np.where(maxearning>10)\n",
        "len(maxearning[id])\n",
        "print(len(maxearning[id]))\n",
        "print(len(maxearning[id])/S)"
      ],
      "metadata": {
        "id": "CrBG0dtI7mtM"
      },
      "execution_count": null,
      "outputs": []
    },
    {
      "cell_type": "code",
      "source": [],
      "metadata": {
        "id": "Z48_3-Fx1pOo"
      },
      "execution_count": null,
      "outputs": []
    }
  ]
}