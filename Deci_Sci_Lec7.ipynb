{
  "cells": [
    {
      "cell_type": "code",
      "execution_count": null,
      "metadata": {
        "colab": {
          "base_uri": "https://localhost:8080/"
        },
        "id": "V-9o97esjqAx",
        "outputId": "0661d708-2207-4776-f213-668553afc71d"
      },
      "outputs": [
        {
          "output_type": "stream",
          "name": "stdout",
          "text": [
            "Requirement already satisfied: scipy in /usr/local/lib/python3.10/dist-packages (1.13.1)\n",
            "Collecting scipy\n",
            "  Downloading scipy-1.14.1-cp310-cp310-manylinux_2_17_x86_64.manylinux2014_x86_64.whl.metadata (60 kB)\n",
            "\u001b[2K     \u001b[90m━━━━━━━━━━━━━━━━━━━━━━━━━━━━━━━━━━━━━━━━\u001b[0m \u001b[32m60.8/60.8 kB\u001b[0m \u001b[31m1.9 MB/s\u001b[0m eta \u001b[36m0:00:00\u001b[0m\n",
            "\u001b[?25hRequirement already satisfied: numpy<2.3,>=1.23.5 in /usr/local/lib/python3.10/dist-packages (from scipy) (1.26.4)\n",
            "Downloading scipy-1.14.1-cp310-cp310-manylinux_2_17_x86_64.manylinux2014_x86_64.whl (41.2 MB)\n",
            "\u001b[2K   \u001b[90m━━━━━━━━━━━━━━━━━━━━━━━━━━━━━━━━━━━━━━━━\u001b[0m \u001b[32m41.2/41.2 MB\u001b[0m \u001b[31m10.2 MB/s\u001b[0m eta \u001b[36m0:00:00\u001b[0m\n",
            "\u001b[?25hInstalling collected packages: scipy\n",
            "  Attempting uninstall: scipy\n",
            "    Found existing installation: scipy 1.13.1\n",
            "    Uninstalling scipy-1.13.1:\n",
            "      Successfully uninstalled scipy-1.13.1\n",
            "\u001b[31mERROR: pip's dependency resolver does not currently take into account all the packages that are installed. This behaviour is the source of the following dependency conflicts.\n",
            "gensim 4.3.3 requires scipy<1.14.0,>=1.7.0, but you have scipy 1.14.1 which is incompatible.\u001b[0m\u001b[31m\n",
            "\u001b[0mSuccessfully installed scipy-1.14.1\n",
            "Collecting pymoo\n",
            "  Downloading pymoo-0.6.1.3-cp310-cp310-manylinux_2_17_x86_64.manylinux2014_x86_64.whl.metadata (5.0 kB)\n",
            "Requirement already satisfied: numpy>=1.15 in /usr/local/lib/python3.10/dist-packages (from pymoo) (1.26.4)\n",
            "Requirement already satisfied: scipy>=1.1 in /usr/local/lib/python3.10/dist-packages (from pymoo) (1.14.1)\n",
            "Requirement already satisfied: matplotlib>=3 in /usr/local/lib/python3.10/dist-packages (from pymoo) (3.8.0)\n",
            "Requirement already satisfied: autograd>=1.4 in /usr/local/lib/python3.10/dist-packages (from pymoo) (1.7.0)\n",
            "Collecting cma==3.2.2 (from pymoo)\n",
            "  Downloading cma-3.2.2-py2.py3-none-any.whl.metadata (8.0 kB)\n",
            "Collecting alive-progress (from pymoo)\n",
            "  Downloading alive_progress-3.2.0-py3-none-any.whl.metadata (70 kB)\n",
            "\u001b[2K     \u001b[90m━━━━━━━━━━━━━━━━━━━━━━━━━━━━━━━━━━━━━━━━\u001b[0m \u001b[32m70.6/70.6 kB\u001b[0m \u001b[31m5.6 MB/s\u001b[0m eta \u001b[36m0:00:00\u001b[0m\n",
            "\u001b[?25hCollecting dill (from pymoo)\n",
            "  Downloading dill-0.3.9-py3-none-any.whl.metadata (10 kB)\n",
            "Requirement already satisfied: Deprecated in /usr/local/lib/python3.10/dist-packages (from pymoo) (1.2.14)\n",
            "Requirement already satisfied: contourpy>=1.0.1 in /usr/local/lib/python3.10/dist-packages (from matplotlib>=3->pymoo) (1.3.0)\n",
            "Requirement already satisfied: cycler>=0.10 in /usr/local/lib/python3.10/dist-packages (from matplotlib>=3->pymoo) (0.12.1)\n",
            "Requirement already satisfied: fonttools>=4.22.0 in /usr/local/lib/python3.10/dist-packages (from matplotlib>=3->pymoo) (4.54.1)\n",
            "Requirement already satisfied: kiwisolver>=1.0.1 in /usr/local/lib/python3.10/dist-packages (from matplotlib>=3->pymoo) (1.4.7)\n",
            "Requirement already satisfied: packaging>=20.0 in /usr/local/lib/python3.10/dist-packages (from matplotlib>=3->pymoo) (24.2)\n",
            "Requirement already satisfied: pillow>=6.2.0 in /usr/local/lib/python3.10/dist-packages (from matplotlib>=3->pymoo) (11.0.0)\n",
            "Requirement already satisfied: pyparsing>=2.3.1 in /usr/local/lib/python3.10/dist-packages (from matplotlib>=3->pymoo) (3.2.0)\n",
            "Requirement already satisfied: python-dateutil>=2.7 in /usr/local/lib/python3.10/dist-packages (from matplotlib>=3->pymoo) (2.8.2)\n",
            "Collecting about-time==4.2.1 (from alive-progress->pymoo)\n",
            "  Downloading about_time-4.2.1-py3-none-any.whl.metadata (13 kB)\n",
            "Collecting grapheme==0.6.0 (from alive-progress->pymoo)\n",
            "  Downloading grapheme-0.6.0.tar.gz (207 kB)\n",
            "\u001b[2K     \u001b[90m━━━━━━━━━━━━━━━━━━━━━━━━━━━━━━━━━━━━━━━━\u001b[0m \u001b[32m207.3/207.3 kB\u001b[0m \u001b[31m15.7 MB/s\u001b[0m eta \u001b[36m0:00:00\u001b[0m\n",
            "\u001b[?25h  Preparing metadata (setup.py) ... \u001b[?25l\u001b[?25hdone\n",
            "Requirement already satisfied: wrapt<2,>=1.10 in /usr/local/lib/python3.10/dist-packages (from Deprecated->pymoo) (1.16.0)\n",
            "Requirement already satisfied: six>=1.5 in /usr/local/lib/python3.10/dist-packages (from python-dateutil>=2.7->matplotlib>=3->pymoo) (1.16.0)\n",
            "Downloading pymoo-0.6.1.3-cp310-cp310-manylinux_2_17_x86_64.manylinux2014_x86_64.whl (4.2 MB)\n",
            "\u001b[2K   \u001b[90m━━━━━━━━━━━━━━━━━━━━━━━━━━━━━━━━━━━━━━━━\u001b[0m \u001b[32m4.2/4.2 MB\u001b[0m \u001b[31m90.4 MB/s\u001b[0m eta \u001b[36m0:00:00\u001b[0m\n",
            "\u001b[?25hDownloading cma-3.2.2-py2.py3-none-any.whl (249 kB)\n",
            "\u001b[2K   \u001b[90m━━━━━━━━━━━━━━━━━━━━━━━━━━━━━━━━━━━━━━━━\u001b[0m \u001b[32m249.1/249.1 kB\u001b[0m \u001b[31m19.8 MB/s\u001b[0m eta \u001b[36m0:00:00\u001b[0m\n",
            "\u001b[?25hDownloading alive_progress-3.2.0-py3-none-any.whl (77 kB)\n",
            "\u001b[2K   \u001b[90m━━━━━━━━━━━━━━━━━━━━━━━━━━━━━━━━━━━━━━━━\u001b[0m \u001b[32m77.1/77.1 kB\u001b[0m \u001b[31m6.5 MB/s\u001b[0m eta \u001b[36m0:00:00\u001b[0m\n",
            "\u001b[?25hDownloading about_time-4.2.1-py3-none-any.whl (13 kB)\n",
            "Downloading dill-0.3.9-py3-none-any.whl (119 kB)\n",
            "\u001b[2K   \u001b[90m━━━━━━━━━━━━━━━━━━━━━━━━━━━━━━━━━━━━━━━━\u001b[0m \u001b[32m119.4/119.4 kB\u001b[0m \u001b[31m10.6 MB/s\u001b[0m eta \u001b[36m0:00:00\u001b[0m\n",
            "\u001b[?25hBuilding wheels for collected packages: grapheme\n",
            "  Building wheel for grapheme (setup.py) ... \u001b[?25l\u001b[?25hdone\n",
            "  Created wheel for grapheme: filename=grapheme-0.6.0-py3-none-any.whl size=210082 sha256=114dcc6774bb83bd855f517d64b15df489a336a1ea08146d50cb64e2aac4ef9d\n",
            "  Stored in directory: /root/.cache/pip/wheels/01/e1/49/37e6bde9886439057450c494a79b0bef8bbe897a54aebfc757\n",
            "Successfully built grapheme\n",
            "Installing collected packages: grapheme, dill, cma, about-time, alive-progress, pymoo\n",
            "Successfully installed about-time-4.2.1 alive-progress-3.2.0 cma-3.2.2 dill-0.3.9 grapheme-0.6.0 pymoo-0.6.1.3\n"
          ]
        }
      ],
      "source": [
        "%pip install scipy --upgrade\n",
        "import math\n",
        "import matplotlib.pyplot as plt\n",
        "import scipy.stats as stats\n",
        "import scipy.optimize as opt\n",
        "import numpy as np\n",
        "import pandas as pd\n",
        "import statsmodels.api as sm\n",
        "%pip install pymoo\n",
        "import pymoo as pymoo"
      ]
    },
    {
      "cell_type": "markdown",
      "metadata": {
        "id": "fuMTEu3Uj7yg"
      },
      "source": [
        "# **Bidding Decisions (Multi-Agent)**"
      ]
    },
    {
      "cell_type": "markdown",
      "metadata": {
        "id": "wm4kEf4tVAKT"
      },
      "source": [
        "## **Myerson Distribution**\n",
        "Below is a function that simulates random samples from the Myerson distribution in section 4.4 of Roger Myerson's 2005 book.\n",
        "This is a generalized version of normal & lognormal distribution.\n"
      ]
    },
    {
      "cell_type": "code",
      "execution_count": null,
      "metadata": {
        "id": "Gz3VM7YKVIRv"
      },
      "outputs": [],
      "source": [
        "# https://www.solver.com/risk-solver-help/psi-function-help/simulation/distributions/psimyerson\n",
        "# https://en.wikipedia.org/wiki/Roger_Myerson\n",
        "\n",
        "def randomMyerson(n,q1,q2,q3,lower=-1*math.inf,upper=math.inf,tl=0.5):\n",
        "   #n: the number of random samples\n",
        "   #q1: xx percentile, xx<50 & usually xx=25\n",
        "   #q2: 50 percentile\n",
        "   #q3: xx percentile, xx>50 & usually xx=75\n",
        "   #lower: minimum possible value\n",
        "   #upper: maximum possible value\n",
        "   #tl: tail probability = P(X<q1)+P(X>q3)\n",
        "   ######################################\n",
        "   x=np.random.uniform(0,1,n)\n",
        "   id=np.where(x>0.999999)\n",
        "   x[id]=0.999999\n",
        "   id=np.where(x<0.000001)\n",
        "   x[id]=0.000001\n",
        "   #Above avoids sampling values that are too extreme\n",
        "   norml=stats.norm.ppf(x)/stats.norm.ppf(1-tl/2)\n",
        "   br=(q3-q2)/(q2-q1)\n",
        "   if br==1:\n",
        "     res=q2+(q3-q2)*norml\n",
        "   else:\n",
        "     res=q2+(q3-q2)*(br**norml-1)/(br-1)\n",
        "   #\n",
        "   #Below is R code operations\n",
        "   #pmin(pmax(res, lower), upper)\n",
        "   #\n",
        "   id=np.where(res<lower)\n",
        "   res[id]=lower\n",
        "   id=np.where(res>upper)\n",
        "   res[id]=upper\n",
        "   return res"
      ]
    },
    {
      "cell_type": "code",
      "execution_count": null,
      "metadata": {
        "id": "Lh-SvaE-VXiJ"
      },
      "outputs": [],
      "source": [
        "#cost parameters\n",
        "costq1=86\n",
        "costq2=100\n",
        "costq3=120\n",
        "\n",
        "#parameters of opponents' bids\n",
        "oppbidq1=120\n",
        "oppbidq2=140\n",
        "oppbidq3=180\n"
      ]
    },
    {
      "cell_type": "code",
      "execution_count": null,
      "metadata": {
        "colab": {
          "base_uri": "https://localhost:8080/"
        },
        "id": "q1y450apko5p",
        "outputId": "6784c337-da86-4068-d747-cb984bc64d3a"
      },
      "outputs": [
        {
          "output_type": "stream",
          "name": "stdout",
          "text": [
            "[2 2 2 5 3]\n",
            "[115.7423522  131.12997084  94.08198377 125.89174399  73.67353936]\n"
          ]
        }
      ],
      "source": [
        "#Number of simulation runs\n",
        "S=10000\n",
        "\n",
        "np.random.seed(9527)\n",
        "\n",
        "##Pre-draw independent oppbids & costs\n",
        "oppbids_ind=np.empty(S)\n",
        "cost_ind=np.empty(S)\n",
        "\n",
        "opponents_ind=np.random.choice(np.array([1,2,3,4,5]),S,replace=True,\n",
        "                 p=np.array([0.2,0.3,0.3,0.1,0.1]))\n",
        "\n",
        "print(opponents_ind[0:5])\n",
        "\n",
        "cost_ind=randomMyerson(S,costq1,costq2,costq3,lower=0)\n",
        "\n",
        "print(cost_ind[0:5])\n"
      ]
    },
    {
      "cell_type": "code",
      "execution_count": null,
      "metadata": {
        "id": "e919lGpelrr3"
      },
      "outputs": [],
      "source": [
        "for s in range(0,S):\n",
        "  oppbids=randomMyerson(opponents_ind[s],oppbidq1,oppbidq2,oppbidq3,lower=0)\n",
        "  #print(oppbids)\n",
        "  oppbids_ind[s]=np.min(oppbids)\n",
        "  #print(np.min(oppbids))\n",
        "  cost_ind[s]=cost_ind[s]\n"
      ]
    },
    {
      "cell_type": "code",
      "execution_count": null,
      "metadata": {
        "id": "eK0JEUZbmVyT"
      },
      "outputs": [],
      "source": [
        "#Try different bidding values\n",
        "bval=np.arange(100,201,5)\n",
        "\n",
        "win=np.empty([S,len(bval)])\n",
        "profit=np.empty([S,len(bval)])\n",
        "avgprofit=np.empty(len(bval))\n",
        "sdprofit=np.empty(len(bval))\n",
        "wins=np.empty(len(bval))\n",
        "\n",
        "for i in range(0,len(bval)):\n",
        "  win[:,i]=(bval[i]<oppbids_ind)\n",
        "  wins[i]=np.sum(win[:,i])\n",
        "  #\n",
        "  profit[:,i]=win[:,i]*(bval[i]-cost_ind)\n",
        "  avgprofit[i]=np.mean(profit[:,i])\n",
        "  sdprofit[i]=np.std(profit[:,i])"
      ]
    },
    {
      "cell_type": "code",
      "execution_count": null,
      "metadata": {
        "colab": {
          "base_uri": "https://localhost:8080/"
        },
        "id": "lE-svjcs4VbR",
        "outputId": "d70b48aa-e4b3-4886-d64a-172fdba114ae"
      },
      "outputs": [
        {
          "output_type": "stream",
          "name": "stdout",
          "text": [
            "[1. 1. 0. 1. 0.]\n",
            "[ -5.7423522  -21.12997084  15.91801623 -15.89174399  36.32646064]\n"
          ]
        },
        {
          "output_type": "execute_result",
          "data": {
            "text/plain": [
              "array([ -5.7423522 , -21.12997084,   0.        , -15.89174399,\n",
              "         0.        ])"
            ]
          },
          "metadata": {},
          "execution_count": 11
        }
      ],
      "source": [
        "print(win[0:5,2])\n",
        "print(bval[2]-cost_ind[0:5])\n",
        "win[0:5,2]*(bval[2]-cost_ind[0:5])"
      ]
    },
    {
      "cell_type": "code",
      "execution_count": null,
      "metadata": {
        "colab": {
          "base_uri": "https://localhost:8080/",
          "height": 466
        },
        "id": "ZQ_lo4-TnhtK",
        "outputId": "2e8a4d20-8fb3-42f1-9c01-bebec9a48317"
      },
      "outputs": [
        {
          "output_type": "execute_result",
          "data": {
            "text/plain": [
              "Text(0, 0.5, 'E[Profit]')"
            ]
          },
          "metadata": {},
          "execution_count": 12
        },
        {
          "output_type": "display_data",
          "data": {
            "text/plain": [
              "<Figure size 640x480 with 1 Axes>"
            ],
            "image/png": "[encoded data removed]"
          },
          "metadata": {}
        }
      ],
      "source": [
        "plt.figure()\n",
        "plt.plot(bval,avgprofit, marker='o')\n",
        "plt.xlabel(\"bidding value\")\n",
        "plt.ylabel(\"E[Profit]\")"
      ]
    },
    {
      "cell_type": "code",
      "execution_count": null,
      "metadata": {
        "colab": {
          "base_uri": "https://localhost:8080/"
        },
        "id": "Qfr5BluU6Nux",
        "outputId": "4ff39df3-4d3f-4f99-abb7-58d40e3229fa"
      },
      "outputs": [
        {
          "output_type": "execute_result",
          "data": {
            "text/plain": [
              "135"
            ]
          },
          "metadata": {},
          "execution_count": 13
        }
      ],
      "source": [
        "bval[np.argmax(avgprofit)]"
      ]
    },
    {
      "cell_type": "markdown",
      "metadata": {
        "id": "3Fx6HZuA6oeW"
      },
      "source": [
        "# **The Winners' Curse**"
      ]
    },
    {
      "cell_type": "code",
      "execution_count": null,
      "metadata": {
        "colab": {
          "base_uri": "https://localhost:8080/"
        },
        "id": "oeDL8k3r6lk0",
        "outputId": "59cf35bc-7e50-43c1-e7ac-7269e3854ae0"
      },
      "outputs": [
        {
          "output_type": "execute_result",
          "data": {
            "text/plain": [
              "array([[1. , 0.4],\n",
              "       [0.4, 1. ]])"
            ]
          },
          "metadata": {},
          "execution_count": 14
        }
      ],
      "source": [
        "#Capture stochastic dependencies between C and A\n",
        "#corrleation coefficient\n",
        "corr_oppcost=0.4\n",
        "\n",
        "#Below simulates bivariate standard normal variates\n",
        "#both have standard deviation of 1\n",
        "cov_oppcost=corr_oppcost*1*1\n",
        "#variance-covariance matrix\n",
        "Sigma_oppcost=np.array([1, cov_oppcost, cov_oppcost, 1]).reshape(2, 2)\n",
        "Sigma_oppcost"
      ]
    },
    {
      "cell_type": "code",
      "execution_count": null,
      "metadata": {
        "colab": {
          "base_uri": "https://localhost:8080/"
        },
        "id": "D_zvP9ZC70FV",
        "outputId": "dd4ae485-1ad7-4d2c-f018-6f1aa7a1d73f"
      },
      "outputs": [
        {
          "output_type": "execute_result",
          "data": {
            "text/plain": [
              "0.4024848945618465"
            ]
          },
          "metadata": {},
          "execution_count": 15
        }
      ],
      "source": [
        "S=10000\n",
        "np.random.seed(9527)\n",
        "binorm=np.random.multivariate_normal([0,0], Sigma_oppcost, S)\n",
        "\n",
        "#check the correlation of simulated values\n",
        "np.corrcoef(binorm[:,0], binorm[:,1])[0, 1]"
      ]
    },
    {
      "cell_type": "code",
      "execution_count": null,
      "metadata": {
        "colab": {
          "base_uri": "https://localhost:8080/",
          "height": 843
        },
        "id": "6Nx0JPGK9bJl",
        "outputId": "ce7978f5-b37a-4c7e-d8bc-7cae131accb4"
      },
      "outputs": [
        {
          "output_type": "display_data",
          "data": {
            "text/plain": [
              "<Figure size 640x480 with 1 Axes>"
            ],
            "image/png": "[encoded data removed]"
          },
          "metadata": {}
        },
        {
          "output_type": "display_data",
          "data": {
            "text/plain": [
              "<Figure size 640x480 with 1 Axes>"
            ],
            "image/png": "[encoded data removed]"
          },
          "metadata": {}
        }
      ],
      "source": [
        "plt.hist(binorm[:,0],bins=20,alpha=0.1,color='blue')\n",
        "plt.show()\n",
        "\n",
        "plt.hist(binorm[:,1],bins=20,alpha=0.1,color='green')\n",
        "plt.show()"
      ]
    },
    {
      "cell_type": "code",
      "execution_count": null,
      "metadata": {
        "colab": {
          "base_uri": "https://localhost:8080/"
        },
        "id": "3bXGRMbe0PXk",
        "outputId": "8691e69a-7c37-4282-c122-432575108739"
      },
      "outputs": [
        {
          "output_type": "execute_result",
          "data": {
            "text/plain": [
              "array([-0.56379424,  2.1269154 , -0.76731339,  0.34186664, -1.31057903])"
            ]
          },
          "metadata": {},
          "execution_count": 17
        }
      ],
      "source": [
        "binorm[0:5,1]"
      ]
    },
    {
      "cell_type": "code",
      "execution_count": null,
      "metadata": {
        "colab": {
          "base_uri": "https://localhost:8080/"
        },
        "id": "8h_thxkb0T4i",
        "outputId": "aab86abf-2c3c-4688-ac52-8fd32bcb3982"
      },
      "outputs": [
        {
          "output_type": "execute_result",
          "data": {
            "text/plain": [
              "array([0.28644709, 0.98328644, 0.2214476 , 0.63377437, 0.09500001])"
            ]
          },
          "metadata": {},
          "execution_count": 18
        }
      ],
      "source": [
        "stats.norm.cdf(binorm[0:5,1],0,1)"
      ]
    },
    {
      "cell_type": "code",
      "execution_count": null,
      "metadata": {
        "colab": {
          "base_uri": "https://localhost:8080/"
        },
        "id": "27HOIrr88Eac",
        "outputId": "5812db7b-bd6d-4f66-94c6-2a47be7456d2"
      },
      "outputs": [
        {
          "output_type": "execute_result",
          "data": {
            "text/plain": [
              "0.3881647088977288"
            ]
          },
          "metadata": {},
          "execution_count": 19
        }
      ],
      "source": [
        "#Transform the simulated standard normal variates\n",
        "#into uniform (0, 1) variates\n",
        "\n",
        "birand=np.empty([S,2])\n",
        "birand[:,0]=stats.norm.cdf(binorm[:,0],0,1)\n",
        "birand[:,1]=stats.norm.cdf(binorm[:,1],0,1)\n",
        "\n",
        "#check correlation between two uniform(0, 1) variates\n",
        "np.corrcoef(birand[:,0], birand[:,1])[0, 1]"
      ]
    },
    {
      "cell_type": "code",
      "execution_count": null,
      "metadata": {
        "colab": {
          "base_uri": "https://localhost:8080/",
          "height": 843
        },
        "id": "FuPcLTmi8-TM",
        "outputId": "e6a137e9-7289-477e-ef9d-1f3f274b7b6c"
      },
      "outputs": [
        {
          "output_type": "display_data",
          "data": {
            "text/plain": [
              "<Figure size 640x480 with 1 Axes>"
            ],
            "image/png": "[encoded data removed]"
          },
          "metadata": {}
        },
        {
          "output_type": "display_data",
          "data": {
            "text/plain": [
              "<Figure size 640x480 with 1 Axes>"
            ],
            "image/png": "[encoded data removed]"
          },
          "metadata": {}
        }
      ],
      "source": [
        "plt.hist(birand[:,0],bins=20,alpha=0.1,color='blue')\n",
        "plt.show()\n",
        "\n",
        "plt.hist(birand[:,1],bins=20,alpha=0.1,color='green')\n",
        "plt.show()"
      ]
    },
    {
      "cell_type": "code",
      "execution_count": null,
      "metadata": {
        "colab": {
          "base_uri": "https://localhost:8080/"
        },
        "id": "9uwlft5d_jq2",
        "outputId": "c4586e76-4d20-4826-a08f-5f52b92484a0"
      },
      "outputs": [
        {
          "output_type": "stream",
          "name": "stdout",
          "text": [
            "DescribeResult(nobs=10000, minmax=(100.82374421299569, 913.7032854078661), mean=133.10246554306136, variance=2052.564785619102, skewness=5.790991191415649, kurtosis=56.28647881509349)\n"
          ]
        },
        {
          "output_type": "execute_result",
          "data": {
            "text/plain": [
              "DescribeResult(nobs=10000, minmax=(59.81910140985481, 370.41910634220125), mean=107.13854055461469, variance=916.8787794138905, skewness=1.7300383250452893, kurtosis=4.9597318925061336)"
            ]
          },
          "metadata": {},
          "execution_count": 21
        }
      ],
      "source": [
        "print(stats.describe(oppbids_ind))\n",
        "stats.describe(cost_ind)"
      ]
    },
    {
      "cell_type": "code",
      "execution_count": null,
      "metadata": {
        "colab": {
          "base_uri": "https://localhost:8080/",
          "height": 843
        },
        "id": "90VX2SHH-llt",
        "outputId": "407b8d36-a273-4468-877b-4670039c26d7"
      },
      "outputs": [
        {
          "output_type": "display_data",
          "data": {
            "text/plain": [
              "<Figure size 640x480 with 1 Axes>"
            ],
            "image/png": "[encoded data removed]"
          },
          "metadata": {}
        },
        {
          "output_type": "display_data",
          "data": {
            "text/plain": [
              "<Figure size 640x480 with 1 Axes>"
            ],
            "image/png": "[encoded data removed]"
          },
          "metadata": {}
        }
      ],
      "source": [
        "plt.hist(cost_ind,bins=20,alpha=0.1,color='blue')\n",
        "plt.show()\n",
        "\n",
        "plt.hist(oppbids_ind,bins=20,alpha=0.1,color='green')\n",
        "plt.show()"
      ]
    },
    {
      "cell_type": "code",
      "execution_count": null,
      "metadata": {
        "colab": {
          "base_uri": "https://localhost:8080/"
        },
        "id": "cPkCUZwj9g2Y",
        "outputId": "0e311d44-31c1-4d20-8cbc-386477188d5a"
      },
      "outputs": [
        {
          "output_type": "execute_result",
          "data": {
            "text/plain": [
              "0.3219363606141219"
            ]
          },
          "metadata": {},
          "execution_count": 23
        }
      ],
      "source": [
        "##Pre-draw correlated oppbids & costs\n",
        "cost_corr=np.round(np.quantile(cost_ind,birand[:,0]),0)\n",
        "oppbids_corr=np.round(np.quantile(oppbids_ind,birand[:,1]),0)\n",
        "\n",
        "#check correlation between simulated oppbids & costs\n",
        "np.corrcoef(cost_corr, oppbids_corr)[0, 1]"
      ]
    },
    {
      "cell_type": "code",
      "execution_count": null,
      "metadata": {
        "id": "3X9JZZM_AnOy"
      },
      "outputs": [],
      "source": [
        "win_corr=np.empty([S,len(bval)])\n",
        "profit_corr=np.empty([S,len(bval)])\n",
        "avgprofit_corr=np.empty(len(bval))\n",
        "sdprofit_corr=np.empty(len(bval))\n",
        "wins_corr=np.empty(len(bval))\n",
        "\n",
        "for i in range(0,len(bval)):\n",
        "  win_corr[:,i]=(bval[i]<oppbids_corr)\n",
        "  wins_corr[i]=np.sum(win_corr[:,i])\n",
        "  #\n",
        "  profit_corr[:,i]=win_corr[:,i]*(bval[i]-cost_corr)\n",
        "  avgprofit_corr[i]=np.mean(profit_corr[:,i])\n",
        "  sdprofit_corr[i]=np.std(profit_corr[:,i])"
      ]
    },
    {
      "cell_type": "code",
      "execution_count": null,
      "metadata": {
        "colab": {
          "base_uri": "https://localhost:8080/",
          "height": 449
        },
        "id": "65_O69qLBLpf",
        "outputId": "0950ef3d-af5c-4ad3-f81e-f046a90a1a7c"
      },
      "outputs": [
        {
          "output_type": "display_data",
          "data": {
            "text/plain": [
              "<Figure size 640x480 with 1 Axes>"
            ],
            "image/png": "[encoded data removed]"
          },
          "metadata": {}
        }
      ],
      "source": [
        "plt.ylim([-8, 9])\n",
        "plt.plot(bval,avgprofit, marker='o',color='blue')\n",
        "plt.plot(bval,avgprofit_corr, marker='v',color='green')\n",
        "plt.axhline(0, color = 'r',linestyle='dashed')\n",
        "plt.xlabel(\"bidding value\")\n",
        "plt.ylabel(\"E[Profit]\")\n",
        "plt.show()"
      ]
    },
    {
      "cell_type": "code",
      "execution_count": null,
      "metadata": {
        "colab": {
          "base_uri": "https://localhost:8080/"
        },
        "id": "EX1Q4ufSCgpM",
        "outputId": "3f42a476-875d-48a7-f25f-dff90e1b3511"
      },
      "outputs": [
        {
          "output_type": "execute_result",
          "data": {
            "text/plain": [
              "150"
            ]
          },
          "metadata": {},
          "execution_count": 27
        }
      ],
      "source": [
        "bval[np.argmax(avgprofit_corr)]"
      ]
    },
    {
      "cell_type": "code",
      "execution_count": null,
      "metadata": {
        "id": "GIcFcK-G8g3D"
      },
      "outputs": [],
      "source": []
    },
    {
      "cell_type": "markdown",
      "source": [
        "# **The Optimal Stopping Problem**"
      ],
      "metadata": {
        "id": "_rozUrYYMDvi"
      }
    },
    {
      "cell_type": "markdown",
      "source": [
        "# A Model for Strict Success"
      ],
      "metadata": {
        "id": "euHwpcaNyVVI"
      }
    },
    {
      "cell_type": "code",
      "execution_count": null,
      "metadata": {
        "id": "_5Vykb9gyMh3"
      },
      "outputs": [],
      "source": [
        "def simulate_dating(population=100, phase1_fraction=1/np.exp(1), num_iterations=1):\n",
        "    is_soulmate = np.zeros(num_iterations)\n",
        "    phase1_size = round(population * phase1_fraction)\n",
        "    np.random.seed(9527)\n",
        "    for case_idx in range(num_iterations):\n",
        "        # scores of potential mates\n",
        "        score = np.random.normal(size = population)\n",
        "        #\n",
        "        #score = np.random.uniform(size = population)\n",
        "        optimal_score = max(score)\n",
        "\n",
        "        # we date the first phase1_size people\n",
        "        # and note the maximum score in that group\n",
        "        cutoff_score = max(score[:phase1_size])\n",
        "\n",
        "        # now select as your life partner the next date with a better score\n",
        "        # pick the last one if nobody better came along before then\n",
        "        if len(np.where(score[phase1_size:population] > cutoff_score)[0]) == 0:\n",
        "            spouse_index = population - 1\n",
        "        else:\n",
        "            spouse_index = phase1_size + np.where(score[phase1_size:population] > cutoff_score)[0][0]\n",
        "\n",
        "        is_soulmate[case_idx] = (score[spouse_index] == optimal_score)\n",
        "\n",
        "    return np.mean(is_soulmate)"
      ]
    },
    {
      "cell_type": "code",
      "source": [],
      "metadata": {
        "id": "iHUh5VUvyctw"
      },
      "execution_count": null,
      "outputs": []
    },
    {
      "cell_type": "code",
      "execution_count": null,
      "metadata": {
        "id": "BGtxrLVkyMh4",
        "colab": {
          "base_uri": "https://localhost:8080/"
        },
        "outputId": "2cea0ac0-ce86-4364-d0d1-07af12c6c08a"
      },
      "outputs": [
        {
          "output_type": "stream",
          "name": "stdout",
          "text": [
            "0\n",
            "1\n",
            "2\n",
            "3\n",
            "4\n",
            "5\n",
            "6\n",
            "7\n",
            "8\n",
            "9\n",
            "10\n",
            "11\n",
            "12\n",
            "13\n",
            "14\n",
            "15\n",
            "16\n",
            "17\n",
            "18\n",
            "19\n",
            "20\n",
            "21\n",
            "22\n",
            "23\n",
            "24\n",
            "25\n",
            "26\n",
            "27\n",
            "28\n",
            "29\n",
            "30\n",
            "31\n",
            "32\n",
            "33\n",
            "34\n",
            "35\n",
            "36\n",
            "37\n",
            "38\n",
            "39\n",
            "40\n",
            "41\n",
            "42\n",
            "43\n",
            "44\n",
            "45\n",
            "46\n",
            "47\n",
            "48\n",
            "49\n",
            "50\n",
            "51\n",
            "52\n",
            "53\n",
            "54\n",
            "55\n",
            "56\n",
            "57\n",
            "58\n",
            "59\n",
            "60\n",
            "61\n",
            "62\n",
            "63\n",
            "64\n",
            "65\n",
            "66\n",
            "67\n",
            "68\n",
            "69\n",
            "70\n",
            "71\n",
            "72\n",
            "73\n",
            "74\n",
            "75\n",
            "76\n",
            "77\n",
            "78\n",
            "79\n",
            "80\n",
            "81\n",
            "82\n",
            "83\n",
            "84\n",
            "85\n",
            "86\n",
            "87\n",
            "88\n",
            "89\n",
            "90\n"
          ]
        }
      ],
      "source": [
        "phase1_fractions = np.round(np.arange(0.05, 0.96, 0.01).tolist(), 2)\n",
        "means = np.zeros(len(phase1_fractions))\n",
        "for idx in range(len(phase1_fractions)):\n",
        "    means[idx]=simulate_dating(population=100,\n",
        "                phase1_fraction=phase1_fractions[idx],\n",
        "                num_iterations = 10000)\n",
        "    print(idx)"
      ]
    },
    {
      "cell_type": "code",
      "source": [
        "max_means_frac = phase1_fractions[np.where(means == max(means))]\n",
        "print(\"The phase1_fractions has max mean: \", max_means_frac[0])\n",
        "plt.plot(phase1_fractions, means)\n",
        "plt.axvline(max_means_frac, color = 'r')\n",
        "plt.xlabel('phase1_fractions')\n",
        "plt.ylabel('means')"
      ],
      "metadata": {
        "id": "kNMawh-xygjb",
        "colab": {
          "base_uri": "https://localhost:8080/",
          "height": 485
        },
        "outputId": "37ad439b-36ff-462b-a690-e1c58c630a03"
      },
      "execution_count": null,
      "outputs": [
        {
          "output_type": "stream",
          "name": "stdout",
          "text": [
            "The phase1_fractions has max mean:  0.39\n"
          ]
        },
        {
          "output_type": "execute_result",
          "data": {
            "text/plain": [
              "Text(0, 0.5, 'means')"
            ]
          },
          "metadata": {},
          "execution_count": 45
        },
        {
          "output_type": "display_data",
          "data": {
            "text/plain": [
              "<Figure size 640x480 with 1 Axes>"
            ],
            "image/png": "[encoded data removed]"
          },
          "metadata": {}
        }
      ]
    },
    {
      "cell_type": "markdown",
      "source": [
        "# A Model for Average Score Maximization"
      ],
      "metadata": {
        "id": "41-1C1--y3VB"
      }
    },
    {
      "cell_type": "code",
      "source": [
        "def simulate_dating_2(population = 100, phase1_fraction = 1 / np.exp(1), num_iterations = 1):\n",
        "    spouse_scores = np.zeros(num_iterations)\n",
        "    phase1_size = round(population * phase1_fraction)\n",
        "    np.random.seed(9527)\n",
        "    for case_idx in range(num_iterations):\n",
        "        # scores of potential mates\n",
        "        score = np.random.normal(size = population)\n",
        "        #\n",
        "        #score = np.random.uniform(size = population)\n",
        "        optimal_score = max(score)\n",
        "\n",
        "        # we date the first phase1_size people\n",
        "        # and note the maximum score in that group\n",
        "        cutoff_score = max(score[:phase1_size])\n",
        "\n",
        "        # now select as your life partner the next date with a better score\n",
        "        # pick the last one if nobody better came along before then\n",
        "        if len(np.where(score[phase1_size:population] > cutoff_score)[0]) == 0:\n",
        "            spouse_index = population - 1\n",
        "        else:\n",
        "            spouse_index = phase1_size + np.where(score[phase1_size:population] > cutoff_score)[0][0]\n",
        "\n",
        "        spouse_scores[case_idx] = score[spouse_index]\n",
        "\n",
        "    return np.mean(spouse_scores)"
      ],
      "metadata": {
        "id": "fwOUnqHQypKT"
      },
      "execution_count": null,
      "outputs": []
    },
    {
      "cell_type": "code",
      "source": [
        "np.random.seed(9527)\n",
        "\n",
        "phase1_fractions = np.round(np.arange(0.05, 0.96, 0.01).tolist(), 2)\n",
        "means = np.zeros(len(phase1_fractions))\n",
        "for idx in range(len(phase1_fractions)):\n",
        "    means[idx] = simulate_dating_2(population = 100,\n",
        "                                phase1_fraction = phase1_fractions[idx],\n",
        "                                num_iterations = 10000)\n",
        "    print(idx)"
      ],
      "metadata": {
        "id": "Nm6TjqdMytWF",
        "colab": {
          "base_uri": "https://localhost:8080/"
        },
        "outputId": "2a7e86a0-2178-4cca-e919-2767be36aa24"
      },
      "execution_count": null,
      "outputs": [
        {
          "output_type": "stream",
          "name": "stdout",
          "text": [
            "0\n",
            "1\n",
            "2\n",
            "3\n",
            "4\n",
            "5\n",
            "6\n",
            "7\n",
            "8\n",
            "9\n",
            "10\n",
            "11\n",
            "12\n",
            "13\n",
            "14\n",
            "15\n",
            "16\n",
            "17\n",
            "18\n",
            "19\n",
            "20\n",
            "21\n",
            "22\n",
            "23\n",
            "24\n",
            "25\n",
            "26\n",
            "27\n",
            "28\n",
            "29\n",
            "30\n",
            "31\n",
            "32\n",
            "33\n",
            "34\n",
            "35\n",
            "36\n",
            "37\n",
            "38\n",
            "39\n",
            "40\n",
            "41\n",
            "42\n",
            "43\n",
            "44\n",
            "45\n",
            "46\n",
            "47\n",
            "48\n",
            "49\n",
            "50\n",
            "51\n",
            "52\n",
            "53\n",
            "54\n",
            "55\n",
            "56\n",
            "57\n",
            "58\n",
            "59\n",
            "60\n",
            "61\n",
            "62\n",
            "63\n",
            "64\n",
            "65\n",
            "66\n",
            "67\n",
            "68\n",
            "69\n",
            "70\n",
            "71\n",
            "72\n",
            "73\n",
            "74\n",
            "75\n",
            "76\n",
            "77\n",
            "78\n",
            "79\n",
            "80\n",
            "81\n",
            "82\n",
            "83\n",
            "84\n",
            "85\n",
            "86\n",
            "87\n",
            "88\n",
            "89\n",
            "90\n"
          ]
        }
      ]
    },
    {
      "cell_type": "code",
      "source": [
        "max_means_frac = phase1_fractions[np.where(means == max(means))]\n",
        "print(\"The phase1_fractions has max mean: \", max_means_frac[0])\n",
        "plt.plot(phase1_fractions, means)\n",
        "plt.axvline(max_means_frac, color = 'r')\n",
        "plt.xlabel('phase1_fractions')\n",
        "plt.ylabel('means')"
      ],
      "metadata": {
        "id": "Q3qS1_Jxyu5_",
        "colab": {
          "base_uri": "https://localhost:8080/",
          "height": 490
        },
        "outputId": "90d4209b-76db-4f72-e8d1-3294be188538"
      },
      "execution_count": null,
      "outputs": [
        {
          "output_type": "stream",
          "name": "stdout",
          "text": [
            "The phase1_fractions has max mean:  0.14\n"
          ]
        },
        {
          "output_type": "execute_result",
          "data": {
            "text/plain": [
              "Text(0, 0.5, 'means')"
            ]
          },
          "metadata": {},
          "execution_count": 48
        },
        {
          "output_type": "display_data",
          "data": {
            "text/plain": [
              "<Figure size 640x480 with 1 Axes>"
            ],
            "image/png": "[encoded data removed]"
          },
          "metadata": {}
        }
      ]
    },
    {
      "cell_type": "markdown",
      "metadata": {
        "id": "4yBAoPQEf8-C"
      },
      "source": [
        "# **Retirement Planning (Multi-Period)**"
      ]
    },
    {
      "cell_type": "code",
      "execution_count": null,
      "metadata": {
        "colab": {
          "base_uri": "https://localhost:8080/"
        },
        "id": "F7eQn8kMf8-C",
        "outputId": "0131660d-e542-4231-d06c-395db34cb5a4"
      },
      "outputs": [
        {
          "output_type": "execute_result",
          "data": {
            "text/plain": [
              "DescribeResult(nobs=5000, minmax=(1, 73), mean=19.6734, variance=94.14396123224644, skewness=0.9880236845638098, kurtosis=1.424256348426793)"
            ]
          },
          "metadata": {},
          "execution_count": 49
        }
      ],
      "source": [
        "###Howard's retirement fund\n",
        "savings=1000000\n",
        "inflation=0.03\n",
        "withdraw=np.arange(50000,80001,500)\n",
        "\n",
        "lifemu=20\n",
        "lifesd=10\n",
        "scalehat=(10**2)/20\n",
        "ahat=lifemu/scalehat\n",
        "\n",
        "S=5000\n",
        "\n",
        "life=np.rint(stats.gamma.rvs(a=ahat,scale=scalehat,size=S))\n",
        "life=np.array(life,dtype=int)\n",
        "\n",
        "stats.describe(life)"
      ]
    },
    {
      "cell_type": "code",
      "execution_count": null,
      "metadata": {
        "colab": {
          "base_uri": "https://localhost:8080/"
        },
        "id": "Po-kvFyGf8-C",
        "outputId": "71dc4102-bbe5-4022-b3a4-970702e26cf9"
      },
      "outputs": [
        {
          "output_type": "execute_result",
          "data": {
            "text/plain": [
              "array([14, 22, 37, 25])"
            ]
          },
          "metadata": {},
          "execution_count": 50
        }
      ],
      "source": [
        "life[0:4]"
      ]
    },
    {
      "cell_type": "code",
      "execution_count": null,
      "metadata": {
        "colab": {
          "base_uri": "https://localhost:8080/"
        },
        "id": "qJc_vI1rf8-D",
        "outputId": "3ec01f5b-c7b8-40b6-9502-2419230cf054"
      },
      "outputs": [
        {
          "output_type": "execute_result",
          "data": {
            "text/plain": [
              "[array([0.063, 0.138, 0.074, 0.105, 0.063, 0.098, 0.084, 0.046, 0.141,\n",
              "        0.089, 0.097, 0.102, 0.082, 0.101]),\n",
              " array([0.104, 0.069, 0.116, 0.069, 0.105, 0.055, 0.068, 0.121, 0.101,\n",
              "        0.071, 0.064, 0.09 , 0.087, 0.069, 0.093, 0.098, 0.124, 0.095,\n",
              "        0.083, 0.091, 0.082, 0.075]),\n",
              " array([0.057, 0.061, 0.095, 0.057, 0.066, 0.088, 0.058, 0.093, 0.085,\n",
              "        0.1  , 0.092, 0.08 , 0.042, 0.074, 0.087, 0.077, 0.085, 0.089,\n",
              "        0.103, 0.092, 0.045, 0.075, 0.086, 0.107, 0.095, 0.101, 0.105,\n",
              "        0.084, 0.065, 0.059, 0.086, 0.066, 0.085, 0.099, 0.038, 0.079,\n",
              "        0.077]),\n",
              " array([0.055, 0.108, 0.089, 0.074, 0.068, 0.077, 0.087, 0.074, 0.102,\n",
              "        0.042, 0.062, 0.073, 0.104, 0.088, 0.081, 0.091, 0.06 , 0.077,\n",
              "        0.105, 0.11 , 0.055, 0.11 , 0.062, 0.067, 0.095])]"
            ]
          },
          "metadata": {},
          "execution_count": 51
        }
      ],
      "source": [
        "growthmu=0.08\n",
        "growthsd=0.02\n",
        "simgrowth=[]\n",
        "\n",
        "for s in range(S):\n",
        "  growth_s=np.round(np.random.normal(growthmu, growthsd, life[s]),3)\n",
        "  simgrowth.append(growth_s)\n",
        "\n",
        "simgrowth[0:4]"
      ]
    },
    {
      "cell_type": "code",
      "execution_count": null,
      "metadata": {
        "colab": {
          "base_uri": "https://localhost:8080/"
        },
        "id": "O8WcsNHMf8-D",
        "outputId": "cd9fc1a2-e6b8-4ff3-8101-bebd38f8acdd"
      },
      "outputs": [
        {
          "output_type": "execute_result",
          "data": {
            "text/plain": [
              "0.105"
            ]
          },
          "metadata": {},
          "execution_count": 52
        }
      ],
      "source": [
        "simgrowth[0][3]"
      ]
    },
    {
      "cell_type": "code",
      "execution_count": null,
      "metadata": {
        "colab": {
          "base_uri": "https://localhost:8080/"
        },
        "id": "tJjXciz1f8-D",
        "outputId": "eeb849a7-9154-48c2-bc86-d9d2b3778ca6"
      },
      "outputs": [
        {
          "output_type": "stream",
          "name": "stdout",
          "text": [
            "annual spending= 50000\n",
            "annual spending= 50500\n",
            "annual spending= 51000\n",
            "annual spending= 51500\n",
            "annual spending= 52000\n",
            "annual spending= 52500\n",
            "annual spending= 53000\n",
            "annual spending= 53500\n",
            "annual spending= 54000\n",
            "annual spending= 54500\n",
            "annual spending= 55000\n",
            "annual spending= 55500\n",
            "annual spending= 56000\n",
            "annual spending= 56500\n",
            "annual spending= 57000\n",
            "annual spending= 57500\n",
            "annual spending= 58000\n",
            "annual spending= 58500\n",
            "annual spending= 59000\n",
            "annual spending= 59500\n",
            "annual spending= 60000\n",
            "annual spending= 60500\n",
            "annual spending= 61000\n",
            "annual spending= 61500\n",
            "annual spending= 62000\n",
            "annual spending= 62500\n",
            "annual spending= 63000\n",
            "annual spending= 63500\n",
            "annual spending= 64000\n",
            "annual spending= 64500\n",
            "annual spending= 65000\n",
            "annual spending= 65500\n",
            "annual spending= 66000\n",
            "annual spending= 66500\n",
            "annual spending= 67000\n",
            "annual spending= 67500\n",
            "annual spending= 68000\n",
            "annual spending= 68500\n",
            "annual spending= 69000\n",
            "annual spending= 69500\n",
            "annual spending= 70000\n",
            "annual spending= 70500\n",
            "annual spending= 71000\n",
            "annual spending= 71500\n",
            "annual spending= 72000\n",
            "annual spending= 72500\n",
            "annual spending= 73000\n",
            "annual spending= 73500\n",
            "annual spending= 74000\n",
            "annual spending= 74500\n",
            "annual spending= 75000\n",
            "annual spending= 75500\n",
            "annual spending= 76000\n",
            "annual spending= 76500\n",
            "annual spending= 77000\n",
            "annual spending= 77500\n",
            "annual spending= 78000\n",
            "annual spending= 78500\n",
            "annual spending= 79000\n",
            "annual spending= 79500\n",
            "annual spending= 80000\n"
          ]
        }
      ],
      "source": [
        "S=5000\n",
        "pbroke=np.empty(len(withdraw))\n",
        "\n",
        "for i in range(0,len(withdraw)):\n",
        "  broke_i=0\n",
        "  for s in range(0,S):\n",
        "    reslife=life[s]\n",
        "    j=1\n",
        "    spending=withdraw[i]\n",
        "    savings_left=savings\n",
        "    while j<=reslife and savings_left>0:\n",
        "      savings_left=savings_left-spending\n",
        "      savings_left=savings_left*(1+simgrowth[s][j-1])\n",
        "      spending=spending*(1+inflation)\n",
        "      j=j+1\n",
        "    #\n",
        "    if savings_left<=0:\n",
        "      broke_i=broke_i+1\n",
        "    #\n",
        "  print('annual spending=',withdraw[i])\n",
        "  pbroke[i]=broke_i/S\n"
      ]
    },
    {
      "cell_type": "code",
      "execution_count": null,
      "metadata": {
        "colab": {
          "base_uri": "https://localhost:8080/"
        },
        "id": "xyLr_JuEf8-D",
        "outputId": "6e96478d-dbca-4bdd-d2bd-fd5b6fb8f683"
      },
      "outputs": [
        {
          "output_type": "execute_result",
          "data": {
            "text/plain": [
              "array([50000, 50500, 51000, 51500, 52000, 52500, 53000, 53500, 54000,\n",
              "       54500])"
            ]
          },
          "metadata": {},
          "execution_count": 54
        }
      ],
      "source": [
        "withdraw[np.where(pbroke<0.05)]"
      ]
    },
    {
      "cell_type": "code",
      "execution_count": null,
      "metadata": {
        "colab": {
          "base_uri": "https://localhost:8080/",
          "height": 466
        },
        "id": "j2XCZufNf8-D",
        "outputId": "cbcf8210-e448-4d24-bd2d-fb89466e89e9"
      },
      "outputs": [
        {
          "output_type": "execute_result",
          "data": {
            "text/plain": [
              "<matplotlib.collections.LineCollection at 0x7e6f4795b310>"
            ]
          },
          "metadata": {},
          "execution_count": 55
        },
        {
          "output_type": "display_data",
          "data": {
            "text/plain": [
              "<Figure size 640x480 with 1 Axes>"
            ],
            "image/png": "[encoded data removed]"
          },
          "metadata": {}
        }
      ],
      "source": [
        "plt.figure()\n",
        "plt.plot(withdraw,pbroke,marker='.',color='b',lw=1,alpha=0.5)\n",
        "plt.xlabel(\"Annual Spending\")\n",
        "plt.ylabel(\"P(Broke)\")\n",
        "plt.hlines(y=0.05, xmin=min(withdraw), xmax=max(withdraw),\n",
        "             colors='green', linestyles='--',lw=3)"
      ]
    },
    {
      "cell_type": "markdown",
      "metadata": {
        "id": "79U7wE8kPQoD"
      },
      "source": [
        "# **(s,S) Inventory Decisions (Multi-Period)**"
      ]
    },
    {
      "cell_type": "code",
      "execution_count": null,
      "metadata": {
        "id": "AGSeolAtPc4j"
      },
      "outputs": [],
      "source": [
        "#Poisson demand parameter: 6 TVs per day\n",
        "lambda_est=6\n",
        "\n",
        "#Holding cost per item per day\n",
        "h_val=0.6\n",
        "\n",
        "unit_price=400\n",
        "unit_cost=250\n",
        "\n",
        "#Profit margin per TV sold\n",
        "unit_profit=unit_price-unit_cost\n",
        "\n",
        "#Cost per delivery from supplier to the dealer\n",
        "shipping_cost=500\n",
        "\n",
        "def InvModelsS(x):\n",
        "  #\n",
        "  #Set the seed for reproducibility\n",
        "  np.random.seed(5566)\n",
        "  s=x[0]\n",
        "  S=x[1]\n",
        "  #The number of simulation runs\n",
        "  M=500\n",
        "  #The number of days\n",
        "  T=360\n",
        "  #The experiment will be repeated for\n",
        "  #m in 1:M repetitions & t in 1:T duration\n",
        "  #Vector initialization\n",
        "  #SL: service level\n",
        "  SL=np.empty(M)\n",
        "  daily_profit=np.empty(M)\n",
        "  #\n",
        "  for m in range(M):\n",
        "    inv_onhand=np.empty(T+1)\n",
        "    inv_onhand[0]=S\n",
        "    sales=np.zeros(T)\n",
        "    orderQ=np.zeros(T)\n",
        "    #Keep track of inventory on-order but not arrived yet\n",
        "    inv_onorder=np.array([])\n",
        "    inv_onorder_stamp=np.array([])\n",
        "    #The number of deliveries from the supplier\n",
        "    delivery=0\n",
        "    #The total amount of lost sales\n",
        "    loss=0\n",
        "    #The number of stockouts in a repetition\n",
        "    stockout=0\n",
        "    #Simulate Poisson demand for T periods\n",
        "    d=np.random.poisson(lambda_est,T)\n",
        "    arrival=0\n",
        "    for t in range(T):\n",
        "      if t==0:\n",
        "        #Selling process\n",
        "        sales[t]=min(inv_onhand[t],d[t])\n",
        "        #Check stockout\n",
        "        if (d[t]>sales[t]):\n",
        "          stockout=stockout+1\n",
        "          loss=loss+(d[t]-sales[t])\n",
        "        #Compute inventory position\n",
        "        inv_position=inv_onhand[0]\n",
        "        #Ordering mechanism of (s, S)\n",
        "        if inv_position<=s:\n",
        "          #Compute order quantity\n",
        "          Q=S-inv_position\n",
        "          #Update inventory on-order\n",
        "          inv_onorder=np.append(inv_onorder,Q)\n",
        "          #Simulate stochastic lead time\n",
        "          time_to_arrive=t+np.random.choice([4,5],size=1,p=[0.5,0.5])+1\n",
        "          #Update time stamp for invenory on-order\n",
        "          inv_onorder_stamp=np.append(inv_onorder_stamp,time_to_arrive)\n",
        "          #Record order quantity\n",
        "          orderQ[t]=Q\n",
        "        #Update inventory on-hand in the end of each day\n",
        "        inv_onhand[t+1]=inv_onhand[t]-sales[t]\n",
        "       ###End t==0\n",
        "      if t>0:\n",
        "        #Check if any inventory on-order should arrive\n",
        "        if np.any(inv_onorder_stamp==t):\n",
        "          #Update the number of deliveries\n",
        "          delivery=delivery+1\n",
        "          #Compute the total of arrived inventories\n",
        "          index=np.where(inv_onorder_stamp==t)\n",
        "          arrival=np.sum(inv_onorder[index])\n",
        "          #Update inventory on-hand before starting the day\n",
        "          inv_onhand[t]=inv_onhand[t]+arrival\n",
        "          #Removed those just arrived from inventory on-order\n",
        "          inv_onorder=np.delete(inv_onorder,index)\n",
        "          inv_onorder_stamp=np.delete(inv_onorder_stamp,index)\n",
        "        #Record sales\n",
        "        sales[t]=min(inv_onhand[t],d[t])\n",
        "        #Check if any stockout takes place\n",
        "        if d[t]>sales[t]:\n",
        "          stockout=stockout+1\n",
        "          loss=loss+d[t]-sales[t]\n",
        "        #End if\n",
        "        #Update inventory position\n",
        "        inv_position=inv_onhand[t]+np.sum(inv_onorder)\n",
        "        #Ordering mechanism of (s, S) inventory policy\n",
        "        if (inv_position<=s):\n",
        "          Q=S-inv_position\n",
        "          inv_onorder=np.append(inv_onorder,Q)\n",
        "          time_to_arrive=t+np.random.choice([4,5],size=1,p=[0.5,0.5])+1\n",
        "          inv_onorder_stamp=np.append(inv_onorder_stamp,time_to_arrive)\n",
        "          orderQ[t]=Q\n",
        "        #Update inventory on-hand in the end of the day\n",
        "        inv_onhand[t+1]=inv_onhand[t]-sales[t]\n",
        "        ###End t>0\n",
        "      #print(\"t=\",t,\"d=\",d[t],\"arrival=\",arrival,\"; inv_onhand=\",inv_onhand[t],\"; order(t)=\",orderQ[t])\n",
        "    ###End t loop\n",
        "    #Calculate the service level (i.e., in-stock probability)\n",
        "    SL[m]=(T-stockout)/t\n",
        "    #Calculate the average daily profit\n",
        "    daily_profit[m]=(unit_profit*np.sum(sales)-np.sum(h_val*inv_onhand)-shipping_cost*delivery-unit_profit*loss)/T\n",
        "    #Print simulation progrss\n",
        "    #if (np.remainder(m,100)==0):\n",
        "    #  print(\"m=\",m)\n",
        "  return -1*np.mean(daily_profit)\n"
      ]
    },
    {
      "cell_type": "code",
      "execution_count": null,
      "metadata": {
        "colab": {
          "base_uri": "https://localhost:8080/"
        },
        "id": "H9r7OoATN693",
        "outputId": "7e03f31e-210f-40b5-8223-90d6940ab5ee"
      },
      "outputs": [
        {
          "output_type": "execute_result",
          "data": {
            "text/plain": [
              "-578.8271377777778"
            ]
          },
          "metadata": {},
          "execution_count": 57
        }
      ],
      "source": [
        "InvModelsS([10,150])"
      ]
    },
    {
      "cell_type": "code",
      "execution_count": null,
      "metadata": {
        "id": "LHLiCXD5OLf2",
        "colab": {
          "base_uri": "https://localhost:8080/",
          "height": 321
        },
        "outputId": "9930307e-ff8b-467c-e35c-5dd748e31ac4"
      },
      "outputs": [
        {
          "output_type": "error",
          "ename": "KeyboardInterrupt",
          "evalue": "",
          "traceback": [
            "\u001b[0;31m---------------------------------------------------------------------------\u001b[0m",
            "\u001b[0;31mKeyboardInterrupt\u001b[0m                         Traceback (most recent call last)",
            "\u001b[0;32m<ipython-input-58-d5dd663c0d6b>\u001b[0m in \u001b[0;36m<cell line: 8>\u001b[0;34m()\u001b[0m\n\u001b[1;32m      7\u001b[0m \u001b[0;34m\u001b[0m\u001b[0m\n\u001b[1;32m      8\u001b[0m \u001b[0;32mfor\u001b[0m \u001b[0mi\u001b[0m \u001b[0;32min\u001b[0m \u001b[0mrange\u001b[0m\u001b[0;34m(\u001b[0m\u001b[0mxval\u001b[0m\u001b[0;34m.\u001b[0m\u001b[0mshape\u001b[0m\u001b[0;34m[\u001b[0m\u001b[0;36m0\u001b[0m\u001b[0;34m]\u001b[0m\u001b[0;34m)\u001b[0m\u001b[0;34m:\u001b[0m\u001b[0;34m\u001b[0m\u001b[0;34m\u001b[0m\u001b[0m\n\u001b[0;32m----> 9\u001b[0;31m   \u001b[0mresgrid\u001b[0m\u001b[0;34m[\u001b[0m\u001b[0mi\u001b[0m\u001b[0;34m]\u001b[0m\u001b[0;34m=\u001b[0m\u001b[0mInvModelsS\u001b[0m\u001b[0;34m(\u001b[0m\u001b[0mxval\u001b[0m\u001b[0;34m[\u001b[0m\u001b[0mi\u001b[0m\u001b[0;34m,\u001b[0m\u001b[0;34m]\u001b[0m\u001b[0;34m)\u001b[0m\u001b[0;34m\u001b[0m\u001b[0;34m\u001b[0m\u001b[0m\n\u001b[0m",
            "\u001b[0;32m<ipython-input-56-0195218325b6>\u001b[0m in \u001b[0;36mInvModelsS\u001b[0;34m(x)\u001b[0m\n\u001b[1;32m     94\u001b[0m         \u001b[0;31m#End if\u001b[0m\u001b[0;34m\u001b[0m\u001b[0;34m\u001b[0m\u001b[0m\n\u001b[1;32m     95\u001b[0m         \u001b[0;31m#Update inventory position\u001b[0m\u001b[0;34m\u001b[0m\u001b[0;34m\u001b[0m\u001b[0m\n\u001b[0;32m---> 96\u001b[0;31m         \u001b[0minv_position\u001b[0m\u001b[0;34m=\u001b[0m\u001b[0minv_onhand\u001b[0m\u001b[0;34m[\u001b[0m\u001b[0mt\u001b[0m\u001b[0;34m]\u001b[0m\u001b[0;34m+\u001b[0m\u001b[0mnp\u001b[0m\u001b[0;34m.\u001b[0m\u001b[0msum\u001b[0m\u001b[0;34m(\u001b[0m\u001b[0minv_onorder\u001b[0m\u001b[0;34m)\u001b[0m\u001b[0;34m\u001b[0m\u001b[0;34m\u001b[0m\u001b[0m\n\u001b[0m\u001b[1;32m     97\u001b[0m         \u001b[0;31m#Ordering mechanism of (s, S) inventory policy\u001b[0m\u001b[0;34m\u001b[0m\u001b[0;34m\u001b[0m\u001b[0m\n\u001b[1;32m     98\u001b[0m         \u001b[0;32mif\u001b[0m \u001b[0;34m(\u001b[0m\u001b[0minv_position\u001b[0m\u001b[0;34m<=\u001b[0m\u001b[0ms\u001b[0m\u001b[0;34m)\u001b[0m\u001b[0;34m:\u001b[0m\u001b[0;34m\u001b[0m\u001b[0;34m\u001b[0m\u001b[0m\n",
            "\u001b[0;32m/usr/local/lib/python3.10/dist-packages/numpy/core/fromnumeric.py\u001b[0m in \u001b[0;36msum\u001b[0;34m(a, axis, dtype, out, keepdims, initial, where)\u001b[0m\n\u001b[1;32m   2311\u001b[0m         \u001b[0;32mreturn\u001b[0m \u001b[0mres\u001b[0m\u001b[0;34m\u001b[0m\u001b[0;34m\u001b[0m\u001b[0m\n\u001b[1;32m   2312\u001b[0m \u001b[0;34m\u001b[0m\u001b[0m\n\u001b[0;32m-> 2313\u001b[0;31m     return _wrapreduction(a, np.add, 'sum', axis, dtype, out, keepdims=keepdims,\n\u001b[0m\u001b[1;32m   2314\u001b[0m                           initial=initial, where=where)\n\u001b[1;32m   2315\u001b[0m \u001b[0;34m\u001b[0m\u001b[0m\n",
            "\u001b[0;32m/usr/local/lib/python3.10/dist-packages/numpy/core/fromnumeric.py\u001b[0m in \u001b[0;36m_wrapreduction\u001b[0;34m(obj, ufunc, method, axis, dtype, out, **kwargs)\u001b[0m\n\u001b[1;32m     86\u001b[0m                 \u001b[0;32mreturn\u001b[0m \u001b[0mreduction\u001b[0m\u001b[0;34m(\u001b[0m\u001b[0maxis\u001b[0m\u001b[0;34m=\u001b[0m\u001b[0maxis\u001b[0m\u001b[0;34m,\u001b[0m \u001b[0mout\u001b[0m\u001b[0;34m=\u001b[0m\u001b[0mout\u001b[0m\u001b[0;34m,\u001b[0m \u001b[0;34m**\u001b[0m\u001b[0mpasskwargs\u001b[0m\u001b[0;34m)\u001b[0m\u001b[0;34m\u001b[0m\u001b[0;34m\u001b[0m\u001b[0m\n\u001b[1;32m     87\u001b[0m \u001b[0;34m\u001b[0m\u001b[0m\n\u001b[0;32m---> 88\u001b[0;31m     \u001b[0;32mreturn\u001b[0m \u001b[0mufunc\u001b[0m\u001b[0;34m.\u001b[0m\u001b[0mreduce\u001b[0m\u001b[0;34m(\u001b[0m\u001b[0mobj\u001b[0m\u001b[0;34m,\u001b[0m \u001b[0maxis\u001b[0m\u001b[0;34m,\u001b[0m \u001b[0mdtype\u001b[0m\u001b[0;34m,\u001b[0m \u001b[0mout\u001b[0m\u001b[0;34m,\u001b[0m \u001b[0;34m**\u001b[0m\u001b[0mpasskwargs\u001b[0m\u001b[0;34m)\u001b[0m\u001b[0;34m\u001b[0m\u001b[0;34m\u001b[0m\u001b[0m\n\u001b[0m\u001b[1;32m     89\u001b[0m \u001b[0;34m\u001b[0m\u001b[0m\n\u001b[1;32m     90\u001b[0m \u001b[0;34m\u001b[0m\u001b[0m\n",
            "\u001b[0;31mKeyboardInterrupt\u001b[0m: "
          ]
        }
      ],
      "source": [
        "##Grid Search for optimal (s*, S*)\n",
        "xval=np.array([(sval,Sval) for sval in range(10,61,5) for Sval in range(90,361,10)])\n",
        "xval.shape\n",
        "xval.shape[0]\n",
        "resgrid=np.empty(xval.shape[0])\n",
        "xval[0,]\n",
        "\n",
        "for i in range(xval.shape[0]):\n",
        "  resgrid[i]=InvModelsS(xval[i,])\n"
      ]
    },
    {
      "cell_type": "code",
      "execution_count": null,
      "metadata": {
        "colab": {
          "base_uri": "https://localhost:8080/"
        },
        "id": "e8XRLxVpa_xW",
        "outputId": "dcbb2989-ca1f-43c0-d685-6851d49a20d7"
      },
      "outputs": [
        {
          "output_type": "stream",
          "name": "stdout",
          "text": [
            "-828.3000677777778\n",
            "[ 50 150]\n"
          ]
        }
      ],
      "source": [
        "id=np.argmin(resgrid)\n",
        "print(resgrid[id])\n",
        "print(xval[id])"
      ]
    },
    {
      "cell_type": "code",
      "execution_count": null,
      "metadata": {
        "colab": {
          "base_uri": "https://localhost:8080/"
        },
        "id": "yYuhJ7MKSB_D",
        "outputId": "66804cc2-96ca-47b8-f615-f33c6b0ce0b2"
      },
      "outputs": [
        {
          "output_type": "execute_result",
          "data": {
            "text/plain": [
              "array([-735.55821333])"
            ]
          },
          "metadata": {},
          "execution_count": 7
        }
      ],
      "source": [
        "##Use Pymoo for numerical optimization\n",
        "## https://pymoo.org/index.html\n",
        "\n",
        "##Define the optimization problem first\n",
        "from pymoo.problems.functional import FunctionalProblem\n",
        "\n",
        "problemInv=FunctionalProblem(n_var=2,objs=InvModelsS,\n",
        "             xl=np.array([20,100]),xu=np.array([90,200]))\n",
        "problemInv.evaluate(np.array([30,130]))"
      ]
    },
    {
      "cell_type": "code",
      "execution_count": null,
      "metadata": {
        "id": "bqSWZbG3SB_N",
        "colab": {
          "base_uri": "https://localhost:8080/",
          "height": 1000
        },
        "outputId": "92514fa0-f987-4f62-b40f-4312e8b917d6"
      },
      "outputs": [
        {
          "output_type": "stream",
          "name": "stdout",
          "text": [
            "=================================================\n",
            "n_gen  |  n_eval  |     f_avg     |     f_min    \n",
            "=================================================\n",
            "     1 |       20 | -7.937889E+02 | -8.270817E+02\n",
            "     2 |       24 | -8.272122E+02 | -8.273428E+02\n",
            "     3 |       29 | -8.273428E+02 | -8.273428E+02\n",
            "     4 |       32 | -8.279084E+02 | -8.284741E+02\n",
            "     5 |       37 | -8.284741E+02 | -8.284741E+02\n",
            "     6 |       40 | -8.284776E+02 | -8.284811E+02\n",
            "     7 |       44 | -8.284023E+02 | -8.284811E+02\n",
            "     8 |       48 | -8.284811E+02 | -8.284811E+02\n",
            "     9 |       51 | -8.284813E+02 | -8.284815E+02\n",
            "    10 |       55 | -8.284892E+02 | -8.284968E+02\n",
            "    11 |       60 | -8.284400E+02 | -8.284968E+02\n",
            "    12 |       64 | -8.284968E+02 | -8.284968E+02\n",
            "    13 |       68 | -8.284987E+02 | -8.285005E+02\n",
            "    14 |       73 | -8.285005E+02 | -8.285005E+02\n",
            "    15 |       77 | -8.285021E+02 | -8.285037E+02\n",
            "    16 |       82 | -8.285037E+02 | -8.285037E+02\n",
            "    17 |       86 | -8.285037E+02 | -8.285037E+02\n",
            "    18 |       89 | -8.285041E+02 | -8.285045E+02\n",
            "    19 |       94 | -8.285045E+02 | -8.285045E+02\n",
            "    20 |       98 | -8.285045E+02 | -8.285045E+02\n",
            "    21 |      101 | -8.285046E+02 | -8.285047E+02\n",
            "    22 |      106 | -8.285047E+02 | -8.285047E+02\n",
            "    23 |      110 | -8.285047E+02 | -8.285047E+02\n",
            "    24 |      114 | -8.285047E+02 | -8.285047E+02\n",
            "    25 |      118 | -8.285047E+02 | -8.285047E+02\n",
            "    26 |      122 | -8.285047E+02 | -8.285047E+02\n",
            "    27 |      126 | -8.285047E+02 | -8.285047E+02\n",
            "    28 |      129 | -8.285047E+02 | -8.285047E+02\n",
            "    29 |      134 | -8.285047E+02 | -8.285047E+02\n",
            "    30 |      138 | -8.285047E+02 | -8.285047E+02\n",
            "    31 |      141 | -8.285047E+02 | -8.285047E+02\n",
            "    32 |      146 | -8.285047E+02 | -8.285047E+02\n",
            "    33 |      150 | -8.285047E+02 | -8.285047E+02\n",
            "    34 |      155 | -8.285047E+02 | -8.285047E+02\n"
          ]
        },
        {
          "output_type": "error",
          "ename": "KeyboardInterrupt",
          "evalue": "ignored",
          "traceback": [
            "\u001b[0;31m---------------------------------------------------------------------------\u001b[0m",
            "\u001b[0;31mKeyboardInterrupt\u001b[0m                         Traceback (most recent call last)",
            "\u001b[0;32m<ipython-input-105-6975161bb5f0>\u001b[0m in \u001b[0;36m<cell line: 5>\u001b[0;34m()\u001b[0m\n\u001b[1;32m      3\u001b[0m \u001b[0;32mfrom\u001b[0m \u001b[0mpymoo\u001b[0m\u001b[0;34m.\u001b[0m\u001b[0moptimize\u001b[0m \u001b[0;32mimport\u001b[0m \u001b[0mminimize\u001b[0m\u001b[0;34m\u001b[0m\u001b[0;34m\u001b[0m\u001b[0m\n\u001b[1;32m      4\u001b[0m \u001b[0;34m\u001b[0m\u001b[0m\n\u001b[0;32m----> 5\u001b[0;31m \u001b[0mresHK\u001b[0m\u001b[0;34m=\u001b[0m\u001b[0mminimize\u001b[0m\u001b[0;34m(\u001b[0m\u001b[0mproblemInv\u001b[0m\u001b[0;34m,\u001b[0m\u001b[0malgorithm\u001b[0m\u001b[0;34m=\u001b[0m\u001b[0mPatternSearch\u001b[0m\u001b[0;34m(\u001b[0m\u001b[0;34m)\u001b[0m\u001b[0;34m,\u001b[0m\u001b[0mverbose\u001b[0m\u001b[0;34m=\u001b[0m\u001b[0;32mTrue\u001b[0m\u001b[0;34m)\u001b[0m\u001b[0;34m\u001b[0m\u001b[0;34m\u001b[0m\u001b[0m\n\u001b[0m",
            "\u001b[0;32m/usr/local/lib/python3.10/dist-packages/pymoo/optimize.py\u001b[0m in \u001b[0;36mminimize\u001b[0;34m(problem, algorithm, termination, copy_algorithm, copy_termination, **kwargs)\u001b[0m\n\u001b[1;32m     65\u001b[0m \u001b[0;34m\u001b[0m\u001b[0m\n\u001b[1;32m     66\u001b[0m     \u001b[0;31m# actually execute the algorithm\u001b[0m\u001b[0;34m\u001b[0m\u001b[0;34m\u001b[0m\u001b[0m\n\u001b[0;32m---> 67\u001b[0;31m     \u001b[0mres\u001b[0m \u001b[0;34m=\u001b[0m \u001b[0malgorithm\u001b[0m\u001b[0;34m.\u001b[0m\u001b[0mrun\u001b[0m\u001b[0;34m(\u001b[0m\u001b[0;34m)\u001b[0m\u001b[0;34m\u001b[0m\u001b[0;34m\u001b[0m\u001b[0m\n\u001b[0m\u001b[1;32m     68\u001b[0m \u001b[0;34m\u001b[0m\u001b[0m\n\u001b[1;32m     69\u001b[0m     \u001b[0;31m# store the deep copied algorithm in the result object\u001b[0m\u001b[0;34m\u001b[0m\u001b[0;34m\u001b[0m\u001b[0m\n",
            "\u001b[0;32m/usr/local/lib/python3.10/dist-packages/pymoo/core/algorithm.py\u001b[0m in \u001b[0;36mrun\u001b[0;34m(self)\u001b[0m\n\u001b[1;32m    139\u001b[0m     \u001b[0;32mdef\u001b[0m \u001b[0mrun\u001b[0m\u001b[0;34m(\u001b[0m\u001b[0mself\u001b[0m\u001b[0;34m)\u001b[0m\u001b[0;34m:\u001b[0m\u001b[0;34m\u001b[0m\u001b[0;34m\u001b[0m\u001b[0m\n\u001b[1;32m    140\u001b[0m         \u001b[0;32mwhile\u001b[0m \u001b[0mself\u001b[0m\u001b[0;34m.\u001b[0m\u001b[0mhas_next\u001b[0m\u001b[0;34m(\u001b[0m\u001b[0;34m)\u001b[0m\u001b[0;34m:\u001b[0m\u001b[0;34m\u001b[0m\u001b[0;34m\u001b[0m\u001b[0m\n\u001b[0;32m--> 141\u001b[0;31m             \u001b[0mself\u001b[0m\u001b[0;34m.\u001b[0m\u001b[0mnext\u001b[0m\u001b[0;34m(\u001b[0m\u001b[0;34m)\u001b[0m\u001b[0;34m\u001b[0m\u001b[0;34m\u001b[0m\u001b[0m\n\u001b[0m\u001b[1;32m    142\u001b[0m         \u001b[0;32mreturn\u001b[0m \u001b[0mself\u001b[0m\u001b[0;34m.\u001b[0m\u001b[0mresult\u001b[0m\u001b[0;34m(\u001b[0m\u001b[0;34m)\u001b[0m\u001b[0;34m\u001b[0m\u001b[0;34m\u001b[0m\u001b[0m\n\u001b[1;32m    143\u001b[0m \u001b[0;34m\u001b[0m\u001b[0m\n",
            "\u001b[0;32m/usr/local/lib/python3.10/dist-packages/pymoo/core/algorithm.py\u001b[0m in \u001b[0;36mnext\u001b[0;34m(self)\u001b[0m\n\u001b[1;32m    159\u001b[0m         \u001b[0;31m# call the advance with them after evaluation\u001b[0m\u001b[0;34m\u001b[0m\u001b[0;34m\u001b[0m\u001b[0m\n\u001b[1;32m    160\u001b[0m         \u001b[0;32mif\u001b[0m \u001b[0minfills\u001b[0m \u001b[0;32mis\u001b[0m \u001b[0;32mnot\u001b[0m \u001b[0;32mNone\u001b[0m\u001b[0;34m:\u001b[0m\u001b[0;34m\u001b[0m\u001b[0;34m\u001b[0m\u001b[0m\n\u001b[0;32m--> 161\u001b[0;31m             \u001b[0mself\u001b[0m\u001b[0;34m.\u001b[0m\u001b[0mevaluator\u001b[0m\u001b[0;34m.\u001b[0m\u001b[0meval\u001b[0m\u001b[0;34m(\u001b[0m\u001b[0mself\u001b[0m\u001b[0;34m.\u001b[0m\u001b[0mproblem\u001b[0m\u001b[0;34m,\u001b[0m \u001b[0minfills\u001b[0m\u001b[0;34m,\u001b[0m \u001b[0malgorithm\u001b[0m\u001b[0;34m=\u001b[0m\u001b[0mself\u001b[0m\u001b[0;34m)\u001b[0m\u001b[0;34m\u001b[0m\u001b[0;34m\u001b[0m\u001b[0m\n\u001b[0m\u001b[1;32m    162\u001b[0m             \u001b[0mself\u001b[0m\u001b[0;34m.\u001b[0m\u001b[0madvance\u001b[0m\u001b[0;34m(\u001b[0m\u001b[0minfills\u001b[0m\u001b[0;34m=\u001b[0m\u001b[0minfills\u001b[0m\u001b[0;34m)\u001b[0m\u001b[0;34m\u001b[0m\u001b[0;34m\u001b[0m\u001b[0m\n\u001b[1;32m    163\u001b[0m \u001b[0;34m\u001b[0m\u001b[0m\n",
            "\u001b[0;32m/usr/local/lib/python3.10/dist-packages/pymoo/core/evaluator.py\u001b[0m in \u001b[0;36meval\u001b[0;34m(self, problem, pop, skip_already_evaluated, evaluate_values_of, count_evals, **kwargs)\u001b[0m\n\u001b[1;32m     67\u001b[0m \u001b[0;34m\u001b[0m\u001b[0m\n\u001b[1;32m     68\u001b[0m             \u001b[0;31m# do the actual evaluation - call the sub-function to set the corresponding values to the population\u001b[0m\u001b[0;34m\u001b[0m\u001b[0;34m\u001b[0m\u001b[0m\n\u001b[0;32m---> 69\u001b[0;31m             \u001b[0mself\u001b[0m\u001b[0;34m.\u001b[0m\u001b[0m_eval\u001b[0m\u001b[0;34m(\u001b[0m\u001b[0mproblem\u001b[0m\u001b[0;34m,\u001b[0m \u001b[0mpop\u001b[0m\u001b[0;34m[\u001b[0m\u001b[0mI\u001b[0m\u001b[0;34m]\u001b[0m\u001b[0;34m,\u001b[0m \u001b[0mevaluate_values_of\u001b[0m\u001b[0;34m,\u001b[0m \u001b[0;34m**\u001b[0m\u001b[0mkwargs\u001b[0m\u001b[0;34m)\u001b[0m\u001b[0;34m\u001b[0m\u001b[0;34m\u001b[0m\u001b[0m\n\u001b[0m\u001b[1;32m     70\u001b[0m \u001b[0;34m\u001b[0m\u001b[0m\n\u001b[1;32m     71\u001b[0m         \u001b[0;31m# update the function evaluation counter\u001b[0m\u001b[0;34m\u001b[0m\u001b[0;34m\u001b[0m\u001b[0m\n",
            "\u001b[0;32m/usr/local/lib/python3.10/dist-packages/pymoo/core/evaluator.py\u001b[0m in \u001b[0;36m_eval\u001b[0;34m(self, problem, pop, evaluate_values_of, **kwargs)\u001b[0m\n\u001b[1;32m     88\u001b[0m \u001b[0;34m\u001b[0m\u001b[0m\n\u001b[1;32m     89\u001b[0m         \u001b[0;31m# call the problem to evaluate the solutions\u001b[0m\u001b[0;34m\u001b[0m\u001b[0;34m\u001b[0m\u001b[0m\n\u001b[0;32m---> 90\u001b[0;31m         \u001b[0mout\u001b[0m \u001b[0;34m=\u001b[0m \u001b[0mproblem\u001b[0m\u001b[0;34m.\u001b[0m\u001b[0mevaluate\u001b[0m\u001b[0;34m(\u001b[0m\u001b[0mX\u001b[0m\u001b[0;34m,\u001b[0m \u001b[0mreturn_values_of\u001b[0m\u001b[0;34m=\u001b[0m\u001b[0mevaluate_values_of\u001b[0m\u001b[0;34m,\u001b[0m \u001b[0mreturn_as_dictionary\u001b[0m\u001b[0;34m=\u001b[0m\u001b[0;32mTrue\u001b[0m\u001b[0;34m,\u001b[0m \u001b[0;34m**\u001b[0m\u001b[0mkwargs\u001b[0m\u001b[0;34m)\u001b[0m\u001b[0;34m\u001b[0m\u001b[0;34m\u001b[0m\u001b[0m\n\u001b[0m\u001b[1;32m     91\u001b[0m \u001b[0;34m\u001b[0m\u001b[0m\n\u001b[1;32m     92\u001b[0m         \u001b[0;31m# for each of the attributes set it to the problem\u001b[0m\u001b[0;34m\u001b[0m\u001b[0;34m\u001b[0m\u001b[0m\n",
            "\u001b[0;32m/usr/local/lib/python3.10/dist-packages/pymoo/core/problem.py\u001b[0m in \u001b[0;36mevaluate\u001b[0;34m(self, X, return_values_of, return_as_dictionary, *args, **kwargs)\u001b[0m\n\u001b[1;32m    185\u001b[0m \u001b[0;34m\u001b[0m\u001b[0m\n\u001b[1;32m    186\u001b[0m         \u001b[0;31m# this is where the actual evaluation takes place\u001b[0m\u001b[0;34m\u001b[0m\u001b[0;34m\u001b[0m\u001b[0m\n\u001b[0;32m--> 187\u001b[0;31m         \u001b[0m_out\u001b[0m \u001b[0;34m=\u001b[0m \u001b[0mself\u001b[0m\u001b[0;34m.\u001b[0m\u001b[0mdo\u001b[0m\u001b[0;34m(\u001b[0m\u001b[0mX\u001b[0m\u001b[0;34m,\u001b[0m \u001b[0mreturn_values_of\u001b[0m\u001b[0;34m,\u001b[0m \u001b[0;34m*\u001b[0m\u001b[0margs\u001b[0m\u001b[0;34m,\u001b[0m \u001b[0;34m**\u001b[0m\u001b[0mkwargs\u001b[0m\u001b[0;34m)\u001b[0m\u001b[0;34m\u001b[0m\u001b[0;34m\u001b[0m\u001b[0m\n\u001b[0m\u001b[1;32m    188\u001b[0m \u001b[0;34m\u001b[0m\u001b[0m\n\u001b[1;32m    189\u001b[0m         \u001b[0mout\u001b[0m \u001b[0;34m=\u001b[0m \u001b[0;34m{\u001b[0m\u001b[0;34m}\u001b[0m\u001b[0;34m\u001b[0m\u001b[0;34m\u001b[0m\u001b[0m\n",
            "\u001b[0;32m/usr/local/lib/python3.10/dist-packages/pymoo/core/problem.py\u001b[0m in \u001b[0;36mdo\u001b[0;34m(self, X, return_values_of, *args, **kwargs)\u001b[0m\n\u001b[1;32m    225\u001b[0m         \u001b[0;31m# do the function evaluation\u001b[0m\u001b[0;34m\u001b[0m\u001b[0;34m\u001b[0m\u001b[0m\n\u001b[1;32m    226\u001b[0m         \u001b[0;32mif\u001b[0m \u001b[0mself\u001b[0m\u001b[0;34m.\u001b[0m\u001b[0melementwise\u001b[0m\u001b[0;34m:\u001b[0m\u001b[0;34m\u001b[0m\u001b[0;34m\u001b[0m\u001b[0m\n\u001b[0;32m--> 227\u001b[0;31m             \u001b[0mself\u001b[0m\u001b[0;34m.\u001b[0m\u001b[0m_evaluate_elementwise\u001b[0m\u001b[0;34m(\u001b[0m\u001b[0mX\u001b[0m\u001b[0;34m,\u001b[0m \u001b[0mout\u001b[0m\u001b[0;34m,\u001b[0m \u001b[0;34m*\u001b[0m\u001b[0margs\u001b[0m\u001b[0;34m,\u001b[0m \u001b[0;34m**\u001b[0m\u001b[0mkwargs\u001b[0m\u001b[0;34m)\u001b[0m\u001b[0;34m\u001b[0m\u001b[0;34m\u001b[0m\u001b[0m\n\u001b[0m\u001b[1;32m    228\u001b[0m         \u001b[0;32melse\u001b[0m\u001b[0;34m:\u001b[0m\u001b[0;34m\u001b[0m\u001b[0;34m\u001b[0m\u001b[0m\n\u001b[1;32m    229\u001b[0m             \u001b[0mself\u001b[0m\u001b[0;34m.\u001b[0m\u001b[0m_evaluate_vectorized\u001b[0m\u001b[0;34m(\u001b[0m\u001b[0mX\u001b[0m\u001b[0;34m,\u001b[0m \u001b[0mout\u001b[0m\u001b[0;34m,\u001b[0m \u001b[0;34m*\u001b[0m\u001b[0margs\u001b[0m\u001b[0;34m,\u001b[0m \u001b[0;34m**\u001b[0m\u001b[0mkwargs\u001b[0m\u001b[0;34m)\u001b[0m\u001b[0;34m\u001b[0m\u001b[0;34m\u001b[0m\u001b[0m\n",
            "\u001b[0;32m/usr/local/lib/python3.10/dist-packages/pymoo/core/problem.py\u001b[0m in \u001b[0;36m_evaluate_elementwise\u001b[0;34m(self, X, out, *args, **kwargs)\u001b[0m\n\u001b[1;32m    243\u001b[0m \u001b[0;34m\u001b[0m\u001b[0m\n\u001b[1;32m    244\u001b[0m         \u001b[0;31m# execute the runner\u001b[0m\u001b[0;34m\u001b[0m\u001b[0;34m\u001b[0m\u001b[0m\n\u001b[0;32m--> 245\u001b[0;31m         \u001b[0melems\u001b[0m \u001b[0;34m=\u001b[0m \u001b[0mself\u001b[0m\u001b[0;34m.\u001b[0m\u001b[0melementwise_runner\u001b[0m\u001b[0;34m(\u001b[0m\u001b[0mf\u001b[0m\u001b[0;34m,\u001b[0m \u001b[0mX\u001b[0m\u001b[0;34m)\u001b[0m\u001b[0;34m\u001b[0m\u001b[0;34m\u001b[0m\u001b[0m\n\u001b[0m\u001b[1;32m    246\u001b[0m \u001b[0;34m\u001b[0m\u001b[0m\n\u001b[1;32m    247\u001b[0m         \u001b[0;31m# for each evaluation call\u001b[0m\u001b[0;34m\u001b[0m\u001b[0;34m\u001b[0m\u001b[0m\n",
            "\u001b[0;32m/usr/local/lib/python3.10/dist-packages/pymoo/core/problem.py\u001b[0m in \u001b[0;36m__call__\u001b[0;34m(self, f, X)\u001b[0m\n\u001b[1;32m     25\u001b[0m \u001b[0;34m\u001b[0m\u001b[0m\n\u001b[1;32m     26\u001b[0m     \u001b[0;32mdef\u001b[0m \u001b[0m__call__\u001b[0m\u001b[0;34m(\u001b[0m\u001b[0mself\u001b[0m\u001b[0;34m,\u001b[0m \u001b[0mf\u001b[0m\u001b[0;34m,\u001b[0m \u001b[0mX\u001b[0m\u001b[0;34m)\u001b[0m\u001b[0;34m:\u001b[0m\u001b[0;34m\u001b[0m\u001b[0;34m\u001b[0m\u001b[0m\n\u001b[0;32m---> 27\u001b[0;31m         \u001b[0;32mreturn\u001b[0m \u001b[0;34m[\u001b[0m\u001b[0mf\u001b[0m\u001b[0;34m(\u001b[0m\u001b[0mx\u001b[0m\u001b[0;34m)\u001b[0m \u001b[0;32mfor\u001b[0m \u001b[0mx\u001b[0m \u001b[0;32min\u001b[0m \u001b[0mX\u001b[0m\u001b[0;34m]\u001b[0m\u001b[0;34m\u001b[0m\u001b[0;34m\u001b[0m\u001b[0m\n\u001b[0m\u001b[1;32m     28\u001b[0m \u001b[0;34m\u001b[0m\u001b[0m\n\u001b[1;32m     29\u001b[0m \u001b[0;34m\u001b[0m\u001b[0m\n",
            "\u001b[0;32m/usr/local/lib/python3.10/dist-packages/pymoo/core/problem.py\u001b[0m in \u001b[0;36m<listcomp>\u001b[0;34m(.0)\u001b[0m\n\u001b[1;32m     25\u001b[0m \u001b[0;34m\u001b[0m\u001b[0m\n\u001b[1;32m     26\u001b[0m     \u001b[0;32mdef\u001b[0m \u001b[0m__call__\u001b[0m\u001b[0;34m(\u001b[0m\u001b[0mself\u001b[0m\u001b[0;34m,\u001b[0m \u001b[0mf\u001b[0m\u001b[0;34m,\u001b[0m \u001b[0mX\u001b[0m\u001b[0;34m)\u001b[0m\u001b[0;34m:\u001b[0m\u001b[0;34m\u001b[0m\u001b[0;34m\u001b[0m\u001b[0m\n\u001b[0;32m---> 27\u001b[0;31m         \u001b[0;32mreturn\u001b[0m \u001b[0;34m[\u001b[0m\u001b[0mf\u001b[0m\u001b[0;34m(\u001b[0m\u001b[0mx\u001b[0m\u001b[0;34m)\u001b[0m \u001b[0;32mfor\u001b[0m \u001b[0mx\u001b[0m \u001b[0;32min\u001b[0m \u001b[0mX\u001b[0m\u001b[0;34m]\u001b[0m\u001b[0;34m\u001b[0m\u001b[0;34m\u001b[0m\u001b[0m\n\u001b[0m\u001b[1;32m     28\u001b[0m \u001b[0;34m\u001b[0m\u001b[0m\n\u001b[1;32m     29\u001b[0m \u001b[0;34m\u001b[0m\u001b[0m\n",
            "\u001b[0;32m/usr/local/lib/python3.10/dist-packages/pymoo/core/problem.py\u001b[0m in \u001b[0;36m__call__\u001b[0;34m(self, x)\u001b[0m\n\u001b[1;32m     18\u001b[0m     \u001b[0;32mdef\u001b[0m \u001b[0m__call__\u001b[0m\u001b[0;34m(\u001b[0m\u001b[0mself\u001b[0m\u001b[0;34m,\u001b[0m \u001b[0mx\u001b[0m\u001b[0;34m)\u001b[0m\u001b[0;34m:\u001b[0m\u001b[0;34m\u001b[0m\u001b[0;34m\u001b[0m\u001b[0m\n\u001b[1;32m     19\u001b[0m         \u001b[0mout\u001b[0m \u001b[0;34m=\u001b[0m \u001b[0mdict\u001b[0m\u001b[0;34m(\u001b[0m\u001b[0;34m)\u001b[0m\u001b[0;34m\u001b[0m\u001b[0;34m\u001b[0m\u001b[0m\n\u001b[0;32m---> 20\u001b[0;31m         \u001b[0mself\u001b[0m\u001b[0;34m.\u001b[0m\u001b[0mproblem\u001b[0m\u001b[0;34m.\u001b[0m\u001b[0m_evaluate\u001b[0m\u001b[0;34m(\u001b[0m\u001b[0mx\u001b[0m\u001b[0;34m,\u001b[0m \u001b[0mout\u001b[0m\u001b[0;34m,\u001b[0m \u001b[0;34m*\u001b[0m\u001b[0mself\u001b[0m\u001b[0;34m.\u001b[0m\u001b[0margs\u001b[0m\u001b[0;34m,\u001b[0m \u001b[0;34m**\u001b[0m\u001b[0mself\u001b[0m\u001b[0;34m.\u001b[0m\u001b[0mkwargs\u001b[0m\u001b[0;34m)\u001b[0m\u001b[0;34m\u001b[0m\u001b[0;34m\u001b[0m\u001b[0m\n\u001b[0m\u001b[1;32m     21\u001b[0m         \u001b[0;32mreturn\u001b[0m \u001b[0mout\u001b[0m\u001b[0;34m\u001b[0m\u001b[0;34m\u001b[0m\u001b[0m\n\u001b[1;32m     22\u001b[0m \u001b[0;34m\u001b[0m\u001b[0m\n",
            "\u001b[0;32m/usr/local/lib/python3.10/dist-packages/pymoo/problems/functional.py\u001b[0m in \u001b[0;36m_evaluate\u001b[0;34m(self, x, out, *args, **kwargs)\u001b[0m\n\u001b[1;32m     37\u001b[0m \u001b[0;34m\u001b[0m\u001b[0m\n\u001b[1;32m     38\u001b[0m     \u001b[0;32mdef\u001b[0m \u001b[0m_evaluate\u001b[0m\u001b[0;34m(\u001b[0m\u001b[0mself\u001b[0m\u001b[0;34m,\u001b[0m \u001b[0mx\u001b[0m\u001b[0;34m,\u001b[0m \u001b[0mout\u001b[0m\u001b[0;34m,\u001b[0m \u001b[0;34m*\u001b[0m\u001b[0margs\u001b[0m\u001b[0;34m,\u001b[0m \u001b[0;34m**\u001b[0m\u001b[0mkwargs\u001b[0m\u001b[0;34m)\u001b[0m\u001b[0;34m:\u001b[0m\u001b[0;34m\u001b[0m\u001b[0;34m\u001b[0m\u001b[0m\n\u001b[0;32m---> 39\u001b[0;31m         \u001b[0mout\u001b[0m\u001b[0;34m[\u001b[0m\u001b[0;34m\"F\"\u001b[0m\u001b[0;34m]\u001b[0m \u001b[0;34m=\u001b[0m \u001b[0mnp\u001b[0m\u001b[0;34m.\u001b[0m\u001b[0marray\u001b[0m\u001b[0;34m(\u001b[0m\u001b[0;34m[\u001b[0m\u001b[0mobj\u001b[0m\u001b[0;34m(\u001b[0m\u001b[0mx\u001b[0m\u001b[0;34m)\u001b[0m \u001b[0;32mfor\u001b[0m \u001b[0mobj\u001b[0m \u001b[0;32min\u001b[0m \u001b[0mself\u001b[0m\u001b[0;34m.\u001b[0m\u001b[0mobjs\u001b[0m\u001b[0;34m]\u001b[0m\u001b[0;34m)\u001b[0m\u001b[0;34m\u001b[0m\u001b[0;34m\u001b[0m\u001b[0m\n\u001b[0m\u001b[1;32m     40\u001b[0m         \u001b[0mout\u001b[0m\u001b[0;34m[\u001b[0m\u001b[0;34m\"G\"\u001b[0m\u001b[0;34m]\u001b[0m \u001b[0;34m=\u001b[0m \u001b[0mnp\u001b[0m\u001b[0;34m.\u001b[0m\u001b[0marray\u001b[0m\u001b[0;34m(\u001b[0m\u001b[0;34m[\u001b[0m\u001b[0mconstr\u001b[0m\u001b[0;34m(\u001b[0m\u001b[0mx\u001b[0m\u001b[0;34m)\u001b[0m \u001b[0;32mfor\u001b[0m \u001b[0mconstr\u001b[0m \u001b[0;32min\u001b[0m \u001b[0mself\u001b[0m\u001b[0;34m.\u001b[0m\u001b[0mconstr_ieq\u001b[0m\u001b[0;34m]\u001b[0m\u001b[0;34m)\u001b[0m\u001b[0;34m\u001b[0m\u001b[0;34m\u001b[0m\u001b[0m\n\u001b[1;32m     41\u001b[0m         \u001b[0mout\u001b[0m\u001b[0;34m[\u001b[0m\u001b[0;34m\"H\"\u001b[0m\u001b[0;34m]\u001b[0m \u001b[0;34m=\u001b[0m \u001b[0mnp\u001b[0m\u001b[0;34m.\u001b[0m\u001b[0marray\u001b[0m\u001b[0;34m(\u001b[0m\u001b[0;34m[\u001b[0m\u001b[0mconstr\u001b[0m\u001b[0;34m(\u001b[0m\u001b[0mx\u001b[0m\u001b[0;34m)\u001b[0m \u001b[0;32mfor\u001b[0m \u001b[0mconstr\u001b[0m \u001b[0;32min\u001b[0m \u001b[0mself\u001b[0m\u001b[0;34m.\u001b[0m\u001b[0mconstr_eq\u001b[0m\u001b[0;34m]\u001b[0m\u001b[0;34m)\u001b[0m\u001b[0;34m\u001b[0m\u001b[0;34m\u001b[0m\u001b[0m\n",
            "\u001b[0;32m/usr/local/lib/python3.10/dist-packages/pymoo/problems/functional.py\u001b[0m in \u001b[0;36m<listcomp>\u001b[0;34m(.0)\u001b[0m\n\u001b[1;32m     37\u001b[0m \u001b[0;34m\u001b[0m\u001b[0m\n\u001b[1;32m     38\u001b[0m     \u001b[0;32mdef\u001b[0m \u001b[0m_evaluate\u001b[0m\u001b[0;34m(\u001b[0m\u001b[0mself\u001b[0m\u001b[0;34m,\u001b[0m \u001b[0mx\u001b[0m\u001b[0;34m,\u001b[0m \u001b[0mout\u001b[0m\u001b[0;34m,\u001b[0m \u001b[0;34m*\u001b[0m\u001b[0margs\u001b[0m\u001b[0;34m,\u001b[0m \u001b[0;34m**\u001b[0m\u001b[0mkwargs\u001b[0m\u001b[0;34m)\u001b[0m\u001b[0;34m:\u001b[0m\u001b[0;34m\u001b[0m\u001b[0;34m\u001b[0m\u001b[0m\n\u001b[0;32m---> 39\u001b[0;31m         \u001b[0mout\u001b[0m\u001b[0;34m[\u001b[0m\u001b[0;34m\"F\"\u001b[0m\u001b[0;34m]\u001b[0m \u001b[0;34m=\u001b[0m \u001b[0mnp\u001b[0m\u001b[0;34m.\u001b[0m\u001b[0marray\u001b[0m\u001b[0;34m(\u001b[0m\u001b[0;34m[\u001b[0m\u001b[0mobj\u001b[0m\u001b[0;34m(\u001b[0m\u001b[0mx\u001b[0m\u001b[0;34m)\u001b[0m \u001b[0;32mfor\u001b[0m \u001b[0mobj\u001b[0m \u001b[0;32min\u001b[0m \u001b[0mself\u001b[0m\u001b[0;34m.\u001b[0m\u001b[0mobjs\u001b[0m\u001b[0;34m]\u001b[0m\u001b[0;34m)\u001b[0m\u001b[0;34m\u001b[0m\u001b[0;34m\u001b[0m\u001b[0m\n\u001b[0m\u001b[1;32m     40\u001b[0m         \u001b[0mout\u001b[0m\u001b[0;34m[\u001b[0m\u001b[0;34m\"G\"\u001b[0m\u001b[0;34m]\u001b[0m \u001b[0;34m=\u001b[0m \u001b[0mnp\u001b[0m\u001b[0;34m.\u001b[0m\u001b[0marray\u001b[0m\u001b[0;34m(\u001b[0m\u001b[0;34m[\u001b[0m\u001b[0mconstr\u001b[0m\u001b[0;34m(\u001b[0m\u001b[0mx\u001b[0m\u001b[0;34m)\u001b[0m \u001b[0;32mfor\u001b[0m \u001b[0mconstr\u001b[0m \u001b[0;32min\u001b[0m \u001b[0mself\u001b[0m\u001b[0;34m.\u001b[0m\u001b[0mconstr_ieq\u001b[0m\u001b[0;34m]\u001b[0m\u001b[0;34m)\u001b[0m\u001b[0;34m\u001b[0m\u001b[0;34m\u001b[0m\u001b[0m\n\u001b[1;32m     41\u001b[0m         \u001b[0mout\u001b[0m\u001b[0;34m[\u001b[0m\u001b[0;34m\"H\"\u001b[0m\u001b[0;34m]\u001b[0m \u001b[0;34m=\u001b[0m \u001b[0mnp\u001b[0m\u001b[0;34m.\u001b[0m\u001b[0marray\u001b[0m\u001b[0;34m(\u001b[0m\u001b[0;34m[\u001b[0m\u001b[0mconstr\u001b[0m\u001b[0;34m(\u001b[0m\u001b[0mx\u001b[0m\u001b[0;34m)\u001b[0m \u001b[0;32mfor\u001b[0m \u001b[0mconstr\u001b[0m \u001b[0;32min\u001b[0m \u001b[0mself\u001b[0m\u001b[0;34m.\u001b[0m\u001b[0mconstr_eq\u001b[0m\u001b[0;34m]\u001b[0m\u001b[0;34m)\u001b[0m\u001b[0;34m\u001b[0m\u001b[0;34m\u001b[0m\u001b[0m\n",
            "\u001b[0;32m<ipython-input-99-0195218325b6>\u001b[0m in \u001b[0;36mInvModelsS\u001b[0;34m(x)\u001b[0m\n\u001b[1;32m     87\u001b[0m           \u001b[0minv_onorder_stamp\u001b[0m\u001b[0;34m=\u001b[0m\u001b[0mnp\u001b[0m\u001b[0;34m.\u001b[0m\u001b[0mdelete\u001b[0m\u001b[0;34m(\u001b[0m\u001b[0minv_onorder_stamp\u001b[0m\u001b[0;34m,\u001b[0m\u001b[0mindex\u001b[0m\u001b[0;34m)\u001b[0m\u001b[0;34m\u001b[0m\u001b[0;34m\u001b[0m\u001b[0m\n\u001b[1;32m     88\u001b[0m         \u001b[0;31m#Record sales\u001b[0m\u001b[0;34m\u001b[0m\u001b[0;34m\u001b[0m\u001b[0m\n\u001b[0;32m---> 89\u001b[0;31m         \u001b[0msales\u001b[0m\u001b[0;34m[\u001b[0m\u001b[0mt\u001b[0m\u001b[0;34m]\u001b[0m\u001b[0;34m=\u001b[0m\u001b[0mmin\u001b[0m\u001b[0;34m(\u001b[0m\u001b[0minv_onhand\u001b[0m\u001b[0;34m[\u001b[0m\u001b[0mt\u001b[0m\u001b[0;34m]\u001b[0m\u001b[0;34m,\u001b[0m\u001b[0md\u001b[0m\u001b[0;34m[\u001b[0m\u001b[0mt\u001b[0m\u001b[0;34m]\u001b[0m\u001b[0;34m)\u001b[0m\u001b[0;34m\u001b[0m\u001b[0;34m\u001b[0m\u001b[0m\n\u001b[0m\u001b[1;32m     90\u001b[0m         \u001b[0;31m#Check if any stockout takes place\u001b[0m\u001b[0;34m\u001b[0m\u001b[0;34m\u001b[0m\u001b[0m\n\u001b[1;32m     91\u001b[0m         \u001b[0;32mif\u001b[0m \u001b[0md\u001b[0m\u001b[0;34m[\u001b[0m\u001b[0mt\u001b[0m\u001b[0;34m]\u001b[0m\u001b[0;34m>\u001b[0m\u001b[0msales\u001b[0m\u001b[0;34m[\u001b[0m\u001b[0mt\u001b[0m\u001b[0;34m]\u001b[0m\u001b[0;34m:\u001b[0m\u001b[0;34m\u001b[0m\u001b[0;34m\u001b[0m\u001b[0m\n",
            "\u001b[0;31mKeyboardInterrupt\u001b[0m: "
          ]
        }
      ],
      "source": [
        "##Hooke-Jeeves Search\n",
        "from pymoo.algorithms.soo.nonconvex.pattern import PatternSearch\n",
        "from pymoo.optimize import minimize\n",
        "\n",
        "resHK=minimize(problemInv,algorithm=PatternSearch(),verbose=True)"
      ]
    },
    {
      "cell_type": "code",
      "execution_count": null,
      "metadata": {
        "colab": {
          "base_uri": "https://localhost:8080/"
        },
        "id": "ITN-imp5SB_N",
        "outputId": "08cdecc3-c884-4e70-ac7f-776c40bdc10a"
      },
      "outputs": [
        {
          "name": "stdout",
          "output_type": "stream",
          "text": [
            "Best solution found: \n",
            "X = [ 49.41016442 143.        ]\n",
            "F = [-828.50465778]\n"
          ]
        }
      ],
      "source": [
        "print(\"Best solution found: \\nX = %s\\nF = %s\" % (resHK.X, resHK.F))"
      ]
    },
    {
      "cell_type": "code",
      "execution_count": null,
      "metadata": {
        "colab": {
          "base_uri": "https://localhost:8080/"
        },
        "id": "4QMHQayYSB_N",
        "outputId": "b0fd62b1-7a19-4ac0-d6d4-1533a6d0cf02"
      },
      "outputs": [
        {
          "name": "stdout",
          "output_type": "stream",
          "text": [
            "=================================================\n",
            "n_gen  |  n_eval  |     f_avg     |     f_min    \n",
            "=================================================\n",
            "     1 |       20 | -7.851385E+02 | -8.280648E+02\n",
            "     2 |       22 | -8.277352E+02 | -8.284646E+02\n",
            "     3 |       26 | -8.278441E+02 | -8.280648E+02\n",
            "     4 |       28 | -8.280908E+02 | -8.283070E+02\n",
            "     5 |       30 | -8.281496E+02 | -8.283070E+02\n",
            "     6 |       34 | -8.282211E+02 | -8.283070E+02\n",
            "     7 |       36 | -8.282892E+02 | -8.283124E+02\n",
            "     8 |       38 | -8.283381E+02 | -8.283950E+02\n",
            "     9 |       42 | -8.283639E+02 | -8.283950E+02\n",
            "    10 |       44 | -8.283774E+02 | -8.283950E+02\n",
            "    11 |       46 | -8.283801E+02 | -8.283950E+02\n",
            "    12 |       48 | -8.283944E+02 | -8.284136E+02\n",
            "    13 |       50 | -8.283994E+02 | -8.284136E+02\n",
            "    14 |       52 | -8.284018E+02 | -8.284136E+02\n",
            "    15 |       54 | -8.284121E+02 | -8.284259E+02\n",
            "    16 |       56 | -8.284350E+02 | -8.284655E+02\n",
            "    17 |       58 | -8.284636E+02 | -8.284994E+02\n",
            "    18 |       59 | -8.284847E+02 | -8.284994E+02\n",
            "    19 |       61 | -8.284915E+02 | -8.284994E+02\n",
            "    20 |       63 | -8.284971E+02 | -8.285026E+02\n",
            "    21 |       65 | -8.284990E+02 | -8.285026E+02\n",
            "    22 |       67 | -8.285020E+02 | -8.285040E+02\n",
            "    23 |       69 | -8.285026E+02 | -8.285040E+02\n",
            "    24 |       70 | -8.285031E+02 | -8.285040E+02\n",
            "    25 |       72 | -8.285034E+02 | -8.285040E+02\n",
            "    26 |       74 | -8.285040E+02 | -8.285045E+02\n",
            "    27 |       76 | -8.285043E+02 | -8.285046E+02\n",
            "    28 |       78 | -8.285044E+02 | -8.285046E+02\n",
            "    29 |       80 | -8.285045E+02 | -8.285046E+02\n",
            "    30 |       82 | -8.285046E+02 | -8.285046E+02\n",
            "    31 |       84 | -8.285046E+02 | -8.285046E+02\n",
            "    32 |       85 | -8.285046E+02 | -8.285046E+02\n",
            "    33 |       87 | -8.285046E+02 | -8.285046E+02\n",
            "    34 |       89 | -8.285046E+02 | -8.285046E+02\n",
            "    35 |       91 | -8.285046E+02 | -8.285046E+02\n",
            "    36 |       92 | -8.285046E+02 | -8.285046E+02\n",
            "    37 |       94 | -8.285047E+02 | -8.285047E+02\n",
            "    38 |       96 | -8.285047E+02 | -8.285047E+02\n",
            "    39 |       98 | -8.285047E+02 | -8.285047E+02\n",
            "    40 |      100 | -8.285047E+02 | -8.285047E+02\n",
            "    41 |      102 | -8.285047E+02 | -8.285047E+02\n",
            "    42 |      104 | -8.285047E+02 | -8.285047E+02\n",
            "    43 |      105 | -8.285047E+02 | -8.285047E+02\n"
          ]
        }
      ],
      "source": [
        "##Nelder-Mead Search\n",
        "from pymoo.algorithms.soo.nonconvex.nelder import NelderMead\n",
        "resNM=minimize(problemInv,algorithm=NelderMead(),verbose=True)"
      ]
    },
    {
      "cell_type": "code",
      "execution_count": null,
      "metadata": {
        "id": "8NrRG0ceSB_N"
      },
      "outputs": [],
      "source": [
        "print(\"Best solution found: \\nX = %s\\nF = %s\" % (resNM.X, resNM.F))"
      ]
    }
  ],
  "metadata": {
    "colab": {
      "provenance": []
    },
    "kernelspec": {
      "display_name": "Python 3",
      "name": "python3"
    },
    "language_info": {
      "name": "python"
    }
  },
  "nbformat": 4,
  "nbformat_minor": 0
}