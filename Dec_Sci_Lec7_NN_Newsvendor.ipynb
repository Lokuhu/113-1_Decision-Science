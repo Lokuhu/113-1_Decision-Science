{
  "nbformat": 4,
  "nbformat_minor": 0,
  "metadata": {
    "colab": {
      "provenance": []
    },
    "kernelspec": {
      "name": "python3",
      "display_name": "Python 3"
    },
    "language_info": {
      "name": "python"
    }
  },
  "cells": [
    {
      "cell_type": "code",
      "execution_count": 1,
      "metadata": {
        "id": "iUFJZ1B1EorM",
        "colab": {
          "base_uri": "https://localhost:8080/"
        },
        "outputId": "1e816cd1-5d3b-4202-fb78-287a2a0e2729"
      },
      "outputs": [
        {
          "output_type": "stream",
          "name": "stdout",
          "text": [
            "Requirement already satisfied: scipy in /usr/local/lib/python3.10/dist-packages (1.13.1)\n",
            "Collecting scipy\n",
            "  Downloading scipy-1.14.1-cp310-cp310-manylinux_2_17_x86_64.manylinux2014_x86_64.whl.metadata (60 kB)\n",
            "\u001b[2K     \u001b[90m━━━━━━━━━━━━━━━━━━━━━━━━━━━━━━━━━━━━━━━━\u001b[0m \u001b[32m60.8/60.8 kB\u001b[0m \u001b[31m2.7 MB/s\u001b[0m eta \u001b[36m0:00:00\u001b[0m\n",
            "\u001b[?25hRequirement already satisfied: numpy<2.3,>=1.23.5 in /usr/local/lib/python3.10/dist-packages (from scipy) (1.26.4)\n",
            "Downloading scipy-1.14.1-cp310-cp310-manylinux_2_17_x86_64.manylinux2014_x86_64.whl (41.2 MB)\n",
            "\u001b[2K   \u001b[90m━━━━━━━━━━━━━━━━━━━━━━━━━━━━━━━━━━━━━━━━\u001b[0m \u001b[32m41.2/41.2 MB\u001b[0m \u001b[31m13.8 MB/s\u001b[0m eta \u001b[36m0:00:00\u001b[0m\n",
            "\u001b[?25hInstalling collected packages: scipy\n",
            "  Attempting uninstall: scipy\n",
            "    Found existing installation: scipy 1.13.1\n",
            "    Uninstalling scipy-1.13.1:\n",
            "      Successfully uninstalled scipy-1.13.1\n",
            "\u001b[31mERROR: pip's dependency resolver does not currently take into account all the packages that are installed. This behaviour is the source of the following dependency conflicts.\n",
            "gensim 4.3.3 requires scipy<1.14.0,>=1.7.0, but you have scipy 1.14.1 which is incompatible.\u001b[0m\u001b[31m\n",
            "\u001b[0mSuccessfully installed scipy-1.14.1\n"
          ]
        }
      ],
      "source": [
        "import numpy as np\n",
        "%pip install scipy --upgrade\n",
        "import math\n",
        "import matplotlib.pyplot as plt\n",
        "import scipy.stats as stats"
      ]
    },
    {
      "cell_type": "code",
      "source": [
        "#Simulate demand data\n",
        "np.random.seed(9527)\n",
        "\n",
        "n=5000\n",
        "temp=np.random.uniform(0,30,n)\n",
        "weather=np.random.binomial(1,0.3,n)\n",
        "\n",
        "demand=np.zeros(n)\n",
        "for i in range(n):\n",
        "  mu_d=5*temp[i]+50\n",
        "  if weather[i]==0: sigma_d=0.5*mu_d\n",
        "  else: sigma_d=0.6*mu_d\n",
        "  d=np.random.normal(mu_d,sigma_d)\n",
        "  if d<0: d=0\n",
        "  demand[i]=d\n",
        "\n",
        "print(temp[0:10])\n",
        "print(weather[0:10])\n",
        "print(demand[0:10])"
      ],
      "metadata": {
        "colab": {
          "base_uri": "https://localhost:8080/"
        },
        "id": "LSjr7PdsE8CU",
        "outputId": "8c2b8f45-7cd9-4c50-f476-ab7403b54d6c"
      },
      "execution_count": 2,
      "outputs": [
        {
          "output_type": "stream",
          "name": "stdout",
          "text": [
            "[ 9.92044955 13.43312395  7.04903863 28.44601981 23.76884188 27.80970292\n",
            " 17.71132662 10.99108418  8.0699376  25.93554339]\n",
            "[1 0 0 0 0 1 0 0 1 0]\n",
            "[149.27771845 147.68114425 140.1597962  150.18420846 324.72786791\n",
            " 120.42596578 311.49141948  47.18988438 129.78639333 199.83862194]\n"
          ]
        }
      ]
    },
    {
      "cell_type": "code",
      "source": [
        "p=8000\n",
        "c=2000\n",
        "s=0\n",
        "Cu=p-c\n",
        "Co=c-s\n",
        "\n",
        "sum_profit=0\n",
        "sum_Q=0\n",
        "for i in range(n):\n",
        "  mu_d=5*temp[i]+50\n",
        "  Q=mu_d\n",
        "  d=demand[i]\n",
        "  profit=-c*Q\n",
        "  if d<=Q: profit=profit+p*d+s*(Q-d)\n",
        "  else: profit=profit+p*Q\n",
        "  sum_Q=sum_Q+Q\n",
        "  sum_profit=sum_profit+profit\n",
        "\n",
        "avg_Q=sum_Q/n\n",
        "avg_profit=sum_profit/n\n",
        "print(\"Quantity=\",avg_Q)\n",
        "print(\"Expected profit=\",avg_profit)"
      ],
      "metadata": {
        "colab": {
          "base_uri": "https://localhost:8080/"
        },
        "id": "ffXe4my2tQnl",
        "outputId": "d9bac04c-b3ad-4849-f4f8-8f3814413b20"
      },
      "execution_count": 3,
      "outputs": [
        {
          "output_type": "stream",
          "name": "stdout",
          "text": [
            "Quantity= 124.571692270642\n",
            "Expected profit= 540994.6992436528\n"
          ]
        }
      ]
    },
    {
      "cell_type": "code",
      "source": [
        "import tensorflow as tf\n",
        "def inventory_loss(demand_true, q):\n",
        "  stock=q-demand_true\n",
        "  is_understock=stock<0\n",
        "  inventory_error=tf.abs(stock)\n",
        "  understock_loss=Cu*inventory_error\n",
        "  overstock_loss=Co*inventory_error\n",
        "  return tf.where(is_understock, understock_loss, overstock_loss)"
      ],
      "metadata": {
        "id": "TNlQsdQJuaT9"
      },
      "execution_count": 4,
      "outputs": []
    },
    {
      "cell_type": "code",
      "source": [
        "x_train=np.zeros((n,2))\n",
        "x_train[:,0]=(temp-min(temp))/(max(temp)-min(temp))\n",
        "x_train[:,1]=weather\n",
        "demand_train=(demand-min(demand))/(max(demand)-min(demand))"
      ],
      "metadata": {
        "id": "5L1bC-rOu7vh"
      },
      "execution_count": 5,
      "outputs": []
    },
    {
      "cell_type": "code",
      "source": [
        "from tensorflow import keras\n",
        "model=keras.Sequential([\n",
        "    keras.layers.Dense(2,input_shape=(2,),activation='sigmoid'),\n",
        "    keras.layers.Dense(1,activation=None),\n",
        "])"
      ],
      "metadata": {
        "id": "gMUqk0CgvT_d",
        "colab": {
          "base_uri": "https://localhost:8080/"
        },
        "outputId": "6031fb2b-dc70-4548-f5a8-49c9f03fb7b1"
      },
      "execution_count": 6,
      "outputs": [
        {
          "output_type": "stream",
          "name": "stderr",
          "text": [
            "/usr/local/lib/python3.10/dist-packages/keras/src/layers/core/dense.py:87: UserWarning: Do not pass an `input_shape`/`input_dim` argument to a layer. When using Sequential models, prefer using an `Input(shape)` object as the first layer in the model instead.\n",
            "  super().__init__(activity_regularizer=activity_regularizer, **kwargs)\n"
          ]
        }
      ]
    },
    {
      "cell_type": "code",
      "source": [
        "model.compile(optimizer='adam',loss=inventory_loss)\n",
        "model.fit(x_train,demand_train,epochs=20)"
      ],
      "metadata": {
        "colab": {
          "base_uri": "https://localhost:8080/"
        },
        "id": "wuAeHfzKv8DC",
        "outputId": "54f4bedb-2ac0-42d9-e6cf-796ffc7ba434"
      },
      "execution_count": 7,
      "outputs": [
        {
          "output_type": "stream",
          "name": "stdout",
          "text": [
            "Epoch 1/20\n",
            "\u001b[1m157/157\u001b[0m \u001b[32m━━━━━━━━━━━━━━━━━━━━\u001b[0m\u001b[37m\u001b[0m \u001b[1m1s\u001b[0m 2ms/step - loss: 754.0297\n",
            "Epoch 2/20\n",
            "\u001b[1m157/157\u001b[0m \u001b[32m━━━━━━━━━━━━━━━━━━━━\u001b[0m\u001b[37m\u001b[0m \u001b[1m0s\u001b[0m 1ms/step - loss: 562.8675\n",
            "Epoch 3/20\n",
            "\u001b[1m157/157\u001b[0m \u001b[32m━━━━━━━━━━━━━━━━━━━━\u001b[0m\u001b[37m\u001b[0m \u001b[1m0s\u001b[0m 1ms/step - loss: 472.8244\n",
            "Epoch 4/20\n",
            "\u001b[1m157/157\u001b[0m \u001b[32m━━━━━━━━━━━━━━━━━━━━\u001b[0m\u001b[37m\u001b[0m \u001b[1m0s\u001b[0m 1ms/step - loss: 417.9902\n",
            "Epoch 5/20\n",
            "\u001b[1m157/157\u001b[0m \u001b[32m━━━━━━━━━━━━━━━━━━━━\u001b[0m\u001b[37m\u001b[0m \u001b[1m0s\u001b[0m 1ms/step - loss: 377.6353\n",
            "Epoch 6/20\n",
            "\u001b[1m157/157\u001b[0m \u001b[32m━━━━━━━━━━━━━━━━━━━━\u001b[0m\u001b[37m\u001b[0m \u001b[1m0s\u001b[0m 1ms/step - loss: 349.5010\n",
            "Epoch 7/20\n",
            "\u001b[1m157/157\u001b[0m \u001b[32m━━━━━━━━━━━━━━━━━━━━\u001b[0m\u001b[37m\u001b[0m \u001b[1m0s\u001b[0m 2ms/step - loss: 342.2074\n",
            "Epoch 8/20\n",
            "\u001b[1m157/157\u001b[0m \u001b[32m━━━━━━━━━━━━━━━━━━━━\u001b[0m\u001b[37m\u001b[0m \u001b[1m0s\u001b[0m 2ms/step - loss: 330.6565\n",
            "Epoch 9/20\n",
            "\u001b[1m157/157\u001b[0m \u001b[32m━━━━━━━━━━━━━━━━━━━━\u001b[0m\u001b[37m\u001b[0m \u001b[1m0s\u001b[0m 1ms/step - loss: 320.9987\n",
            "Epoch 10/20\n",
            "\u001b[1m157/157\u001b[0m \u001b[32m━━━━━━━━━━━━━━━━━━━━\u001b[0m\u001b[37m\u001b[0m \u001b[1m0s\u001b[0m 1ms/step - loss: 327.0235\n",
            "Epoch 11/20\n",
            "\u001b[1m157/157\u001b[0m \u001b[32m━━━━━━━━━━━━━━━━━━━━\u001b[0m\u001b[37m\u001b[0m \u001b[1m1s\u001b[0m 4ms/step - loss: 325.4329\n",
            "Epoch 12/20\n",
            "\u001b[1m157/157\u001b[0m \u001b[32m━━━━━━━━━━━━━━━━━━━━\u001b[0m\u001b[37m\u001b[0m \u001b[1m0s\u001b[0m 1ms/step - loss: 322.3495\n",
            "Epoch 13/20\n",
            "\u001b[1m157/157\u001b[0m \u001b[32m━━━━━━━━━━━━━━━━━━━━\u001b[0m\u001b[37m\u001b[0m \u001b[1m0s\u001b[0m 3ms/step - loss: 325.6596\n",
            "Epoch 14/20\n",
            "\u001b[1m157/157\u001b[0m \u001b[32m━━━━━━━━━━━━━━━━━━━━\u001b[0m\u001b[37m\u001b[0m \u001b[1m1s\u001b[0m 3ms/step - loss: 327.8972\n",
            "Epoch 15/20\n",
            "\u001b[1m157/157\u001b[0m \u001b[32m━━━━━━━━━━━━━━━━━━━━\u001b[0m\u001b[37m\u001b[0m \u001b[1m1s\u001b[0m 7ms/step - loss: 320.1494\n",
            "Epoch 16/20\n",
            "\u001b[1m157/157\u001b[0m \u001b[32m━━━━━━━━━━━━━━━━━━━━\u001b[0m\u001b[37m\u001b[0m \u001b[1m1s\u001b[0m 3ms/step - loss: 319.5455\n",
            "Epoch 17/20\n",
            "\u001b[1m157/157\u001b[0m \u001b[32m━━━━━━━━━━━━━━━━━━━━\u001b[0m\u001b[37m\u001b[0m \u001b[1m1s\u001b[0m 3ms/step - loss: 316.8224\n",
            "Epoch 18/20\n",
            "\u001b[1m157/157\u001b[0m \u001b[32m━━━━━━━━━━━━━━━━━━━━\u001b[0m\u001b[37m\u001b[0m \u001b[1m0s\u001b[0m 2ms/step - loss: 314.5998\n",
            "Epoch 19/20\n",
            "\u001b[1m157/157\u001b[0m \u001b[32m━━━━━━━━━━━━━━━━━━━━\u001b[0m\u001b[37m\u001b[0m \u001b[1m1s\u001b[0m 2ms/step - loss: 322.3843\n",
            "Epoch 20/20\n",
            "\u001b[1m157/157\u001b[0m \u001b[32m━━━━━━━━━━━━━━━━━━━━\u001b[0m\u001b[37m\u001b[0m \u001b[1m0s\u001b[0m 1ms/step - loss: 322.9279\n"
          ]
        },
        {
          "output_type": "execute_result",
          "data": {
            "text/plain": [
              "<keras.src.callbacks.history.History at 0x7fa537b177f0>"
            ]
          },
          "metadata": {},
          "execution_count": 7
        }
      ]
    },
    {
      "cell_type": "code",
      "source": [
        "n_test=5000\n",
        "temp_new=np.random.uniform(0,30,n_test)\n",
        "weather_new=np.random.binomial(1,0.3,n_test)\n",
        "x_test=np.zeros((n_test,2))\n",
        "x_test[:,0]=(temp_new-min(temp))/(max(temp)-min(temp))\n",
        "x_test[:,1]=weather_new\n",
        "\n",
        "pred=model.predict(x_test)\n",
        "stats.describe(pred)"
      ],
      "metadata": {
        "colab": {
          "base_uri": "https://localhost:8080/"
        },
        "id": "mn2G_Nu7wHi4",
        "outputId": "2fc50d70-0492-409b-86a4-6462573c13c8"
      },
      "execution_count": 8,
      "outputs": [
        {
          "output_type": "stream",
          "name": "stdout",
          "text": [
            "\u001b[1m157/157\u001b[0m \u001b[32m━━━━━━━━━━━━━━━━━━━━\u001b[0m\u001b[37m\u001b[0m \u001b[1m0s\u001b[0m 2ms/step\n"
          ]
        },
        {
          "output_type": "execute_result",
          "data": {
            "text/plain": [
              "DescribeResult(nobs=5000, minmax=(array([0.11462304], dtype=float32), array([0.5136452], dtype=float32)), mean=array([0.31941867], dtype=float32), variance=array([0.01258622], dtype=float32), skewness=array([-0.10091436], dtype=float32), kurtosis=array([-1.2058223], dtype=float32))"
            ]
          },
          "metadata": {},
          "execution_count": 8
        }
      ]
    },
    {
      "cell_type": "code",
      "source": [
        "Q_hat=pred*(max(demand)-min(demand))+min(demand)\n",
        "print(\"Mean of Q_hat=\",np.mean(Q_hat))\n",
        "stats.describe(Q_hat)"
      ],
      "metadata": {
        "colab": {
          "base_uri": "https://localhost:8080/"
        },
        "id": "aRkEHA3VysWo",
        "outputId": "f5bce107-0420-46a5-9882-380821341748"
      },
      "execution_count": 9,
      "outputs": [
        {
          "output_type": "stream",
          "name": "stdout",
          "text": [
            "Mean of Q_hat= 167.64456\n"
          ]
        },
        {
          "output_type": "execute_result",
          "data": {
            "text/plain": [
              "DescribeResult(nobs=5000, minmax=(array([60.15907], dtype=float32), array([269.58292], dtype=float32)), mean=array([167.64456], dtype=float32), variance=array([3466.9973], dtype=float32), skewness=array([-0.10091443], dtype=float32), kurtosis=array([-1.205822], dtype=float32))"
            ]
          },
          "metadata": {},
          "execution_count": 9
        }
      ]
    },
    {
      "cell_type": "code",
      "source": [
        "np.sum(Q_hat)/n"
      ],
      "metadata": {
        "colab": {
          "base_uri": "https://localhost:8080/"
        },
        "id": "Bba2ZTiWzSV4",
        "outputId": "4da8175a-e50d-4548-d071-0c36e7e0344b"
      },
      "execution_count": 10,
      "outputs": [
        {
          "output_type": "execute_result",
          "data": {
            "text/plain": [
              "167.6445625"
            ]
          },
          "metadata": {},
          "execution_count": 10
        }
      ]
    },
    {
      "cell_type": "code",
      "source": [
        "sum_profit=0\n",
        "sum_Q=0\n",
        "for i in range(n_test):\n",
        "  mu_d=5*temp_new[i]+50\n",
        "  Q=mu_d\n",
        "  if weather_new[i]==0: sigma_d=0.5*mu_d\n",
        "  else: sigma_d=0.6*mu_d\n",
        "  d=np.random.normal(mu_d,sigma_d)\n",
        "  if d<0: d=0\n",
        "  #\n",
        "  Q=Q_hat[i]\n",
        "  profit=-c*Q\n",
        "  if d<=Q: profit=profit+p*d+s*(Q-d)\n",
        "  else: profit=profit+p*Q\n",
        "  sum_Q=sum_Q+Q\n",
        "  sum_profit=sum_profit+profit\n",
        "\n",
        "avg_Q=sum_Q/n_test\n",
        "avg_profit=sum_profit/n_test\n",
        "print(\"Quantity=\",avg_Q)\n",
        "print(\"Expected profit=\",avg_profit)"
      ],
      "metadata": {
        "colab": {
          "base_uri": "https://localhost:8080/"
        },
        "id": "GSE034aSw-Br",
        "outputId": "5c6a3a58-cc79-46ac-abb0-87605902508d"
      },
      "execution_count": 11,
      "outputs": [
        {
          "output_type": "stream",
          "name": "stdout",
          "text": [
            "Quantity= [167.64455]\n",
            "Expected profit= [587000.4]\n"
          ]
        }
      ]
    },
    {
      "cell_type": "code",
      "source": [],
      "metadata": {
        "id": "RLtjPjN3yDGU"
      },
      "execution_count": null,
      "outputs": []
    }
  ]
}