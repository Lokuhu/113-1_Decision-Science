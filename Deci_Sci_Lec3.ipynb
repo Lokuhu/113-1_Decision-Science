{
  "cells": [
    {
      "cell_type": "code",
      "execution_count": 3,
      "metadata": {
        "colab": {
          "base_uri": "https://localhost:8080/"
        },
        "id": "oPpnoRXQPL6Q",
        "outputId": "4143ea7d-55ae-446f-af34-e6feeb18bc2c"
      },
      "outputs": [
        {
          "output_type": "stream",
          "name": "stdout",
          "text": [
            "Requirement already satisfied: scipy in /usr/local/lib/python3.10/dist-packages (1.14.1)\n",
            "Requirement already satisfied: numpy<2.3,>=1.23.5 in /usr/local/lib/python3.10/dist-packages (from scipy) (1.26.4)\n"
          ]
        }
      ],
      "source": [
        "%pip install scipy --upgrade\n",
        "import math\n",
        "import matplotlib.pyplot as plt\n",
        "import scipy\n",
        "from scipy import stats\n",
        "from scipy import optimize as opt\n",
        "import numpy as np"
      ]
    },
    {
      "cell_type": "markdown",
      "metadata": {
        "id": "bevzNR1UPyNa"
      },
      "source": [
        "# **Demo pdf & cdf of Binomial(n,p)**"
      ]
    },
    {
      "cell_type": "code",
      "execution_count": 4,
      "metadata": {
        "id": "SLc_K2ZCPOg8"
      },
      "outputs": [],
      "source": [
        "n=50\n",
        "p=0.02\n",
        "x=np.array(range(0,6,1))"
      ]
    },
    {
      "cell_type": "code",
      "execution_count": 5,
      "metadata": {
        "colab": {
          "base_uri": "https://localhost:8080/",
          "height": 447
        },
        "id": "z7ZPHJyFQGYS",
        "outputId": "e4329edc-c760-4caa-f4aa-b69213c9d760"
      },
      "outputs": [
        {
          "output_type": "execute_result",
          "data": {
            "text/plain": [
              "<matplotlib.collections.LineCollection at 0x7dbb56308d00>"
            ]
          },
          "metadata": {},
          "execution_count": 5
        },
        {
          "output_type": "display_data",
          "data": {
            "text/plain": [
              "<Figure size 640x480 with 1 Axes>"
            ],
            "image/png": "[encoded data removed]"
          },
          "metadata": {}
        }
      ],
      "source": [
        "plt.plot(x, stats.binom.pmf(x, n, p), 'bo', ms=8, label='binom pmf')\n",
        "plt.vlines(x, 0, stats.binom.pmf(x, n, p), colors='b', lw=5, alpha=0.5)"
      ]
    },
    {
      "cell_type": "code",
      "execution_count": 6,
      "metadata": {
        "colab": {
          "base_uri": "https://localhost:8080/"
        },
        "id": "lilPJehaHFy_",
        "outputId": "796f6d25-605d-4527-e47b-f5e2e6075fae"
      },
      "outputs": [
        {
          "output_type": "execute_result",
          "data": {
            "text/plain": [
              "0.078427748350969"
            ]
          },
          "metadata": {},
          "execution_count": 6
        }
      ],
      "source": [
        "1-stats.binom.cdf(2,n=50,p=0.02)"
      ]
    },
    {
      "cell_type": "code",
      "execution_count": 7,
      "metadata": {
        "colab": {
          "base_uri": "https://localhost:8080/"
        },
        "id": "TtIS48F2HvB3",
        "outputId": "929075b7-ee07-4f9b-cb2c-eefa9d6dd17f"
      },
      "outputs": [
        {
          "output_type": "execute_result",
          "data": {
            "text/plain": [
              "0.921572251649031"
            ]
          },
          "metadata": {},
          "execution_count": 7
        }
      ],
      "source": [
        "stats.binom.cdf(2,n=50,p=0.02)"
      ]
    },
    {
      "cell_type": "code",
      "execution_count": 8,
      "metadata": {
        "colab": {
          "base_uri": "https://localhost:8080/"
        },
        "id": "AR04r-vNKSX9",
        "outputId": "e7046f35-00c7-4e6e-cb34-828384471a76"
      },
      "outputs": [
        {
          "output_type": "execute_result",
          "data": {
            "text/plain": [
              "3.0"
            ]
          },
          "metadata": {},
          "execution_count": 8
        }
      ],
      "source": [
        "stats.binom.ppf(0.98,n=50,p=0.02)"
      ]
    },
    {
      "cell_type": "code",
      "execution_count": 9,
      "metadata": {
        "colab": {
          "base_uri": "https://localhost:8080/",
          "height": 452
        },
        "id": "6g-htDXkQGuZ",
        "outputId": "7066dde5-2126-456c-ec0b-e335e0b32408"
      },
      "outputs": [
        {
          "output_type": "display_data",
          "data": {
            "text/plain": [
              "<Figure size 640x480 with 1 Axes>"
            ],
            "image/png": "[encoded data removed]"
          },
          "metadata": {}
        }
      ],
      "source": [
        "n=50\n",
        "p1=0.02\n",
        "p2=0.04\n",
        "p3=0.08\n",
        "plt.step(x, stats.binom.cdf(x, n, p1),label='p=0.02')\n",
        "plt.step(x, stats.binom.cdf(x, n, p2),label='p=0.04')\n",
        "plt.step(x, stats.binom.cdf(x, n, p3),label='p=0.08')\n",
        "plt.grid(axis='x', color='0.95')\n",
        "plt.legend(title='')\n",
        "plt.title('cdf')\n",
        "plt.show()"
      ]
    },
    {
      "cell_type": "code",
      "execution_count": 10,
      "metadata": {
        "colab": {
          "base_uri": "https://localhost:8080/"
        },
        "id": "7sTgIW91rwjY",
        "outputId": "3cceb52d-ce31-49cd-8d9f-5eef5a0eb1e7"
      },
      "outputs": [
        {
          "output_type": "execute_result",
          "data": {
            "text/plain": [
              "array([3, 8, 5, 1, 4, 3, 5, 3, 6, 4, 4, 4, 1, 2, 1, 4, 5, 5, 5, 4, 3, 3,\n",
              "       2, 5, 3, 3, 6, 3, 5, 1, 1, 5, 0, 9, 6, 7, 3, 5, 5, 5, 3, 2, 3, 3,\n",
              "       3, 8, 5, 5, 2, 2, 5, 3, 3, 3, 2, 2, 3, 6, 5, 4, 4, 3, 1, 8, 2, 5,\n",
              "       4, 6, 5, 4, 2, 3, 5, 6, 6, 2, 5, 2, 3, 4, 3, 2, 4, 5, 2, 2, 4, 6,\n",
              "       6, 1, 5, 6, 5, 6, 3, 3, 5, 5, 8, 5])"
            ]
          },
          "metadata": {},
          "execution_count": 10
        }
      ],
      "source": [
        "stats.binom.rvs(n,p3,size=100)"
      ]
    },
    {
      "cell_type": "code",
      "execution_count": 11,
      "metadata": {
        "id": "GJ3fIFUZRGMm",
        "colab": {
          "base_uri": "https://localhost:8080/"
        },
        "outputId": "bc8c67d5-aead-4813-8e30-774f783f0f47"
      },
      "outputs": [
        {
          "output_type": "execute_result",
          "data": {
            "text/plain": [
              "1.0"
            ]
          },
          "metadata": {},
          "execution_count": 11
        }
      ],
      "source": [
        "stats.binom.ppf(0.98,n=8,p=0.02)"
      ]
    },
    {
      "cell_type": "code",
      "execution_count": 12,
      "metadata": {
        "id": "R2yK6EimS49c",
        "colab": {
          "base_uri": "https://localhost:8080/"
        },
        "outputId": "e591a4b4-3888-4f80-c9e1-b97a0511844b"
      },
      "outputs": [
        {
          "output_type": "execute_result",
          "data": {
            "text/plain": [
              "2.0"
            ]
          },
          "metadata": {},
          "execution_count": 12
        }
      ],
      "source": [
        "stats.binom.ppf(0.98,n=8,p=0.04)"
      ]
    },
    {
      "cell_type": "code",
      "execution_count": 13,
      "metadata": {
        "id": "8iyDpnANUJNp",
        "colab": {
          "base_uri": "https://localhost:8080/"
        },
        "outputId": "c870a806-67dd-4dfe-894e-6620f2a6115d"
      },
      "outputs": [
        {
          "output_type": "execute_result",
          "data": {
            "text/plain": [
              "1.0"
            ]
          },
          "metadata": {},
          "execution_count": 13
        }
      ],
      "source": [
        "stats.binom.ppf(0.8,n=8,p=0.04)"
      ]
    },
    {
      "cell_type": "markdown",
      "metadata": {
        "id": "AmHm0GaJYx01"
      },
      "source": [
        "# **IC Module Analysis**"
      ]
    },
    {
      "cell_type": "code",
      "execution_count": 14,
      "metadata": {
        "id": "qhg4-wsJUJdY"
      },
      "outputs": [],
      "source": [
        "preg=0.7\n",
        "pbadreg=0.1\n",
        "pgoodreg=1-pbadreg\n",
        "#\n",
        "pirreg=1-preg\n",
        "pbadirreg=0.4\n",
        "pgoodirreg=1-pbadirreg"
      ]
    },
    {
      "cell_type": "code",
      "execution_count": 15,
      "metadata": {
        "id": "wMCGb3qfYmg4"
      },
      "outputs": [],
      "source": [
        "def ICModuleSim(n=10):\n",
        "  ICs=np.empty(n,dtype='U9')\n",
        "  #1 denotes regular\n",
        "  #-1 denotes irregular\n",
        "  labels=np.random.choice([1,-1],n,replace=True,p=[preg,pirreg])\n",
        "  if np.any(labels==1):\n",
        "    regid=np.where(labels==1)\n",
        "    n1=len(labels[regid])\n",
        "    ICs[regid]=np.random.choice([\"goodreg\",\"badreg\"],n1,\n",
        "             replace=True,p=[pgoodreg,pbadreg])\n",
        "  ##\n",
        "  if np.any(labels==-1):\n",
        "    irregid=np.where(labels==-1)\n",
        "    n2=len(labels[irregid])\n",
        "    ICs[irregid]=np.random.choice([\"goodirreg\",\"badirreg\"],n2,\n",
        "             replace=True,p=[pgoodirreg,pbadirreg])\n",
        "  return ICs"
      ]
    },
    {
      "cell_type": "code",
      "execution_count": 16,
      "metadata": {
        "colab": {
          "base_uri": "https://localhost:8080/"
        },
        "id": "P-xJX8Brh3yU",
        "outputId": "08aa2afd-8cf9-4173-fdf0-820a56d973bb"
      },
      "outputs": [
        {
          "output_type": "execute_result",
          "data": {
            "text/plain": [
              "array(['goodreg', 'goodirreg', 'badirreg', 'goodreg', 'goodreg',\n",
              "       'goodreg', 'goodreg', 'goodirreg', 'goodreg', 'goodreg'],\n",
              "      dtype='<U9')"
            ]
          },
          "metadata": {},
          "execution_count": 16
        }
      ],
      "source": [
        "ICModuleSim(10)\n"
      ]
    },
    {
      "cell_type": "code",
      "execution_count": 17,
      "metadata": {
        "id": "Hna_JWRRZEw7"
      },
      "outputs": [],
      "source": [
        "S=10000\n",
        "SimICs=np.empty([S,10],dtype='U9')\n",
        "for s in range(S):\n",
        "  SimICs[s,]=ICModuleSim(10)"
      ]
    },
    {
      "cell_type": "code",
      "execution_count": 18,
      "metadata": {
        "colab": {
          "base_uri": "https://localhost:8080/"
        },
        "id": "Zc80W14zdFiZ",
        "outputId": "1c3c40d2-b36a-4456-e97d-2917a17dc541"
      },
      "outputs": [
        {
          "output_type": "execute_result",
          "data": {
            "text/plain": [
              "array([['goodreg', 'goodreg', 'goodreg', 'badreg', 'goodreg',\n",
              "        'goodirreg', 'goodreg', 'goodreg', 'goodirreg', 'goodreg'],\n",
              "       ['goodreg', 'goodreg', 'badirreg', 'goodirreg', 'goodreg',\n",
              "        'badreg', 'goodreg', 'badirreg', 'goodreg', 'goodreg'],\n",
              "       ['goodreg', 'goodreg', 'goodirreg', 'badirreg', 'goodreg',\n",
              "        'goodreg', 'goodreg', 'goodreg', 'goodreg', 'goodreg'],\n",
              "       ['goodreg', 'goodirreg', 'goodreg', 'goodreg', 'goodreg',\n",
              "        'goodirreg', 'goodreg', 'goodirreg', 'goodreg', 'goodreg'],\n",
              "       ['goodreg', 'goodreg', 'goodreg', 'goodreg', 'goodirreg',\n",
              "        'goodreg', 'goodreg', 'goodreg', 'goodirreg', 'goodreg']],\n",
              "      dtype='<U9')"
            ]
          },
          "metadata": {},
          "execution_count": 18
        }
      ],
      "source": [
        "SimICs[range(0,5),]"
      ]
    },
    {
      "cell_type": "code",
      "execution_count": 19,
      "metadata": {
        "id": "Iy3dcSBBig-p"
      },
      "outputs": [],
      "source": [
        "badnum=np.empty(S)\n",
        "badnumreg=np.empty(S)\n",
        "badnumirreg=np.empty(S)\n",
        "numreg=np.empty(S)\n",
        "numirreg=np.empty(S)"
      ]
    },
    {
      "cell_type": "code",
      "execution_count": 20,
      "metadata": {
        "id": "WI8PjmDGkzyC"
      },
      "outputs": [],
      "source": [
        "for s in range(S):\n",
        "  badnumreg[s]=np.sum(SimICs[s,]==\"badreg\")\n",
        "  badnumirreg[s]=np.sum(SimICs[s,]==\"badirreg\")\n",
        "  badnum[s]=badnumreg[s]+badnumirreg[s]\n",
        "  #\n",
        "  numreg[s]=np.sum(SimICs[s,]==\"badreg\")+np.sum(SimICs[s,]==\"goodreg\")\n",
        "  numirreg[s]=np.sum(SimICs[s,]==\"badirreg\")+np.sum(SimICs[s,]==\"goodirreg\")"
      ]
    },
    {
      "cell_type": "code",
      "execution_count": 21,
      "metadata": {
        "colab": {
          "base_uri": "https://localhost:8080/"
        },
        "id": "vr4fV1o7lIT_",
        "outputId": "455ceabc-58fe-4b06-ae15-e7b28bd11f62"
      },
      "outputs": [
        {
          "output_type": "execute_result",
          "data": {
            "text/plain": [
              "3056"
            ]
          },
          "metadata": {},
          "execution_count": 21
        }
      ],
      "source": [
        "np.sum(badnum==2)"
      ]
    },
    {
      "cell_type": "code",
      "execution_count": 22,
      "metadata": {
        "colab": {
          "base_uri": "https://localhost:8080/"
        },
        "id": "1bVWMF4alfzQ",
        "outputId": "6e1acbdf-8434-4c53-90c1-4a620d4cb994"
      },
      "outputs": [
        {
          "output_type": "execute_result",
          "data": {
            "text/plain": [
              "67"
            ]
          },
          "metadata": {},
          "execution_count": 22
        }
      ],
      "source": [
        "np.sum((badnum==2)&(numreg==10))"
      ]
    },
    {
      "cell_type": "code",
      "execution_count": 23,
      "metadata": {
        "colab": {
          "base_uri": "https://localhost:8080/"
        },
        "id": "2jpo1GJ7mVAL",
        "outputId": "84c48093-3be2-4b6a-c2af-7066bde666a3"
      },
      "outputs": [
        {
          "output_type": "execute_result",
          "data": {
            "text/plain": [
              "0.021924083769633507"
            ]
          },
          "metadata": {},
          "execution_count": 23
        }
      ],
      "source": [
        "np.sum((badnum==2)&(numreg==10))/np.sum(badnum==2)"
      ]
    },
    {
      "cell_type": "code",
      "execution_count": 24,
      "metadata": {
        "id": "mFfHMjsBocsx",
        "colab": {
          "base_uri": "https://localhost:8080/"
        },
        "outputId": "1a2892ef-0454-4356-c312-180b8f2df11e"
      },
      "outputs": [
        {
          "output_type": "execute_result",
          "data": {
            "text/plain": [
              "2663"
            ]
          },
          "metadata": {},
          "execution_count": 24
        }
      ],
      "source": [
        "k=1\n",
        "np.sum(badnum==k)\n",
        "np.sum((badnum==k)&(numirreg>=1))"
      ]
    },
    {
      "cell_type": "code",
      "execution_count": 25,
      "metadata": {
        "id": "uJGrTYezogvP",
        "colab": {
          "base_uri": "https://localhost:8080/"
        },
        "outputId": "c82a8356-7c4f-4e9c-d2ce-301de1145896"
      },
      "outputs": [
        {
          "output_type": "execute_result",
          "data": {
            "text/plain": [
              "0.9620664739884393"
            ]
          },
          "metadata": {},
          "execution_count": 25
        }
      ],
      "source": [
        "np.sum((badnum==k)&(numirreg>=1))/np.sum(badnum==k)"
      ]
    },
    {
      "cell_type": "markdown",
      "metadata": {
        "id": "iVBiCH4VupVb"
      },
      "source": [
        "# **Sourcing Problem with Decision Tree**"
      ]
    },
    {
      "cell_type": "code",
      "execution_count": 26,
      "metadata": {
        "id": "AMIlN4gsq8rj"
      },
      "outputs": [],
      "source": [
        "#Market Price\n",
        "price=150\n",
        "#Q:Capacity; c:Unit cost\n",
        "#Supplier S\n",
        "QS=5000\n",
        "cS=120\n",
        "#Supplier P\n",
        "QP=10000\n",
        "cP=100\n",
        "#Fixed cost\n",
        "fixcP=50000"
      ]
    },
    {
      "cell_type": "code",
      "execution_count": 27,
      "metadata": {
        "id": "-PB7LyCju158"
      },
      "outputs": [],
      "source": [
        "#Simulate demand\n",
        "np.random.seed(9527)\n",
        "S=10000\n",
        "Dweak=np.random.choice(range(2000,8001,1),S,replace=True)\n",
        "Dstrong=np.random.choice(range(6000,14001,1),S,replace=True)\n",
        "\n",
        "#Vectors for profits\n",
        "Sprofitweak=np.empty(S)\n",
        "Sprofitstrong=np.empty(S)\n",
        "Pprofitweak=np.empty(S)\n",
        "Pprofitstrong=np.empty(S)\n"
      ]
    },
    {
      "cell_type": "code",
      "execution_count": 28,
      "metadata": {
        "id": "2R_9omr0vLEE"
      },
      "outputs": [],
      "source": [
        "for s in range(S):\n",
        "  #Supplier S & weak market\n",
        "  Sprofitweak[s]=-1*cS*QS+price*min(QS,Dweak[s])\n",
        "  #Supplier S & strong market\n",
        "  Sprofitstrong[s]=-1*cS*QS+price*min(QS,Dstrong[s])\n",
        "  ##\n",
        "  #Supllier P & weak market\n",
        "  Pprofitweak[s]=-1*cP*QP-fixcP+price*min(QP,Dweak[s])\n",
        "  #Supplier P & strong market\n",
        "  Pprofitstrong[s]=-1*cP*QP-fixcP+price*min(QP,Dstrong[s])"
      ]
    },
    {
      "cell_type": "code",
      "execution_count": 30,
      "metadata": {
        "colab": {
          "base_uri": "https://localhost:8080/"
        },
        "id": "gr_LDxWqwfs5",
        "outputId": "a8dcdf40-1be9-4ed9-e8ce-8e5439b88fa6"
      },
      "outputs": [
        {
          "output_type": "execute_result",
          "data": {
            "text/plain": [
              "DescribeResult(nobs=10000, minmax=(-300000.0, 150000.0), mean=36635.34, variance=21451902895.87398, skewness=-0.9211068004636034, kurtosis=-0.6544694381653291)"
            ]
          },
          "metadata": {},
          "execution_count": 30
        }
      ],
      "source": [
        "stats.describe(Sprofitweak)"
      ]
    },
    {
      "cell_type": "code",
      "execution_count": 31,
      "metadata": {
        "colab": {
          "base_uri": "https://localhost:8080/"
        },
        "id": "KuAB5sFdw2Ig",
        "outputId": "fde1a4c6-ea38-4951-d760-d102bf63e206"
      },
      "outputs": [
        {
          "output_type": "stream",
          "name": "stderr",
          "text": [
            "<ipython-input-31-01d0bfa4a1ec>:1: RuntimeWarning: Precision loss occurred in moment calculation due to catastrophic cancellation. This occurs when the data are nearly identical. Results may be unreliable.\n",
            "  stats.describe(Sprofitstrong)\n",
            "/usr/local/lib/python3.10/dist-packages/scipy/stats/_stats_py.py:1418: RuntimeWarning: Precision loss occurred in moment calculation due to catastrophic cancellation. This occurs when the data are nearly identical. Results may be unreliable.\n",
            "  sk = skew(a, axis, bias=bias)\n",
            "/usr/local/lib/python3.10/dist-packages/scipy/stats/_stats_py.py:1419: RuntimeWarning: Precision loss occurred in moment calculation due to catastrophic cancellation. This occurs when the data are nearly identical. Results may be unreliable.\n",
            "  kurt = kurtosis(a, axis, bias=bias)\n"
          ]
        },
        {
          "output_type": "execute_result",
          "data": {
            "text/plain": [
              "DescribeResult(nobs=10000, minmax=(150000.0, 150000.0), mean=150000.0, variance=0.0, skewness=nan, kurtosis=nan)"
            ]
          },
          "metadata": {},
          "execution_count": 31
        }
      ],
      "source": [
        "stats.describe(Sprofitstrong)"
      ]
    },
    {
      "cell_type": "code",
      "execution_count": 32,
      "metadata": {
        "colab": {
          "base_uri": "https://localhost:8080/"
        },
        "id": "U9EEY_14w8NE",
        "outputId": "890e8cad-1a44-4d62-ae87-93e2417c17eb"
      },
      "outputs": [
        {
          "output_type": "execute_result",
          "data": {
            "text/plain": [
              "DescribeResult(nobs=10000, minmax=(-750000.0, 150000.0), mean=-300055.485, variance=68513485883.753136, skewness=-0.0016147307724453843, kurtosis=-1.2090209149162094)"
            ]
          },
          "metadata": {},
          "execution_count": 32
        }
      ],
      "source": [
        "stats.describe(Pprofitweak)"
      ]
    },
    {
      "cell_type": "code",
      "execution_count": 33,
      "metadata": {
        "colab": {
          "base_uri": "https://localhost:8080/"
        },
        "id": "fGfHE6oRw65r",
        "outputId": "167de987-f261-43b7-94c4-f9bb943332ac"
      },
      "outputs": [
        {
          "output_type": "execute_result",
          "data": {
            "text/plain": [
              "DescribeResult(nobs=10000, minmax=(-149550.0, 450000.0), mean=298053.72, variance=37708129972.65885, skewness=-0.9056452656474865, kurtosis=-0.6748099257078297)"
            ]
          },
          "metadata": {},
          "execution_count": 33
        }
      ],
      "source": [
        "stats.describe(Pprofitstrong)"
      ]
    },
    {
      "cell_type": "code",
      "execution_count": 34,
      "metadata": {
        "colab": {
          "base_uri": "https://localhost:8080/"
        },
        "id": "HQYDK8lrxC0I",
        "outputId": "918622f4-9a1c-4c58-ada0-3a03ce3c5b47"
      },
      "outputs": [
        {
          "output_type": "stream",
          "name": "stdout",
          "text": [
            "150000\n",
            "150000\n",
            "-300000\n",
            "450000\n"
          ]
        }
      ],
      "source": [
        "#Use E[Demand] for decision-making\n",
        "print(-1*cS*QS+price*min(QS,5000))\n",
        "\n",
        "print(-1*cS*QS+price*min(QS,10000))\n",
        "\n",
        "print(-1*cP*QP-fixcP+price*min(QP,5000))\n",
        "\n",
        "print(-1*cP*QP-fixcP+price*min(QP,10000))"
      ]
    },
    {
      "cell_type": "code",
      "execution_count": 35,
      "metadata": {
        "id": "WRJsxj2nxKkL",
        "colab": {
          "base_uri": "https://localhost:8080/"
        },
        "outputId": "e9fc405f-e0d0-486f-c1f6-d6bacbb55609"
      },
      "outputs": [
        {
          "output_type": "execute_result",
          "data": {
            "text/plain": [
              "37481.253124478644"
            ]
          },
          "metadata": {},
          "execution_count": 35
        }
      ],
      "source": [
        "#Compute E[Profit] under S & Weak\n",
        "temp=0\n",
        "for d in range(2000,5001):\n",
        "  temp=temp+1/(6001)*(-120*QS+150*d)\n",
        "\n",
        "for d in range(5001,8001):\n",
        "  temp=temp+1/(6001)*(-120*QS+150*QS)\n",
        "\n",
        "temp"
      ]
    },
    {
      "cell_type": "markdown",
      "metadata": {
        "id": "mlAkNE-Od0bK"
      },
      "source": [
        "# **Geometric Distribution**"
      ]
    },
    {
      "cell_type": "code",
      "execution_count": 36,
      "metadata": {
        "colab": {
          "base_uri": "https://localhost:8080/",
          "height": 447
        },
        "id": "dgmdBaoXd7e0",
        "outputId": "aaebb3cd-c470-45e0-d291-f3ba6045058f"
      },
      "outputs": [
        {
          "output_type": "execute_result",
          "data": {
            "text/plain": [
              "<matplotlib.collections.LineCollection at 0x7dbb5630b5b0>"
            ]
          },
          "metadata": {},
          "execution_count": 36
        },
        {
          "output_type": "display_data",
          "data": {
            "text/plain": [
              "<Figure size 640x480 with 1 Axes>"
            ],
            "image/png": "[encoded data removed]"
          },
          "metadata": {}
        }
      ],
      "source": [
        "#https://docs.scipy.org/doc/scipy/reference/generated/scipy.stats.geom.html\n",
        "p=0.2\n",
        "xk=range(1,11)\n",
        "\n",
        "plt.plot(xk, stats.geom.pmf(xk,p), 'bo', ms=8, label='geom pmf')\n",
        "plt.vlines(xk, 0, stats.geom.pmf(xk,p), colors='b', lw=5, alpha=0.5)"
      ]
    },
    {
      "cell_type": "code",
      "source": [
        "stats.geom.pmf(6,0.2)"
      ],
      "metadata": {
        "colab": {
          "base_uri": "https://localhost:8080/"
        },
        "id": "_0vHx7yyWEAn",
        "outputId": "3015d7a1-fa6a-4cda-8b6d-8b318a34a187"
      },
      "execution_count": 37,
      "outputs": [
        {
          "output_type": "execute_result",
          "data": {
            "text/plain": [
              "0.06553600000000002"
            ]
          },
          "metadata": {},
          "execution_count": 37
        }
      ]
    },
    {
      "cell_type": "code",
      "source": [
        "stats.geom.cdf(6,0.2)"
      ],
      "metadata": {
        "colab": {
          "base_uri": "https://localhost:8080/"
        },
        "id": "I4eBzGefWJFh",
        "outputId": "318d6175-ce79-46ba-8bae-2554c331a045"
      },
      "execution_count": 38,
      "outputs": [
        {
          "output_type": "execute_result",
          "data": {
            "text/plain": [
              "0.7378560000000001"
            ]
          },
          "metadata": {},
          "execution_count": 38
        }
      ]
    },
    {
      "cell_type": "code",
      "source": [
        "1-stats.geom.cdf(6,0.2)"
      ],
      "metadata": {
        "colab": {
          "base_uri": "https://localhost:8080/"
        },
        "id": "kco551KXW43h",
        "outputId": "930a3ef7-1cd4-421a-86eb-f70165d9ac8a"
      },
      "execution_count": 39,
      "outputs": [
        {
          "output_type": "execute_result",
          "data": {
            "text/plain": [
              "0.26214399999999993"
            ]
          },
          "metadata": {},
          "execution_count": 39
        }
      ]
    },
    {
      "cell_type": "code",
      "source": [
        "stats.geom.ppf(0.95,0.2)"
      ],
      "metadata": {
        "colab": {
          "base_uri": "https://localhost:8080/"
        },
        "id": "ZnlVcLKoXMQ7",
        "outputId": "5740ac5c-a20c-44fd-9a94-658b85d5bbc3"
      },
      "execution_count": 40,
      "outputs": [
        {
          "output_type": "execute_result",
          "data": {
            "text/plain": [
              "14.0"
            ]
          },
          "metadata": {},
          "execution_count": 40
        }
      ]
    },
    {
      "cell_type": "code",
      "execution_count": 41,
      "metadata": {
        "colab": {
          "base_uri": "https://localhost:8080/"
        },
        "id": "BAxWmIySLkh0",
        "outputId": "5d082a33-1714-4ad0-fb6d-47827e20c1ec"
      },
      "outputs": [
        {
          "output_type": "execute_result",
          "data": {
            "text/plain": [
              "0.003435973836800003"
            ]
          },
          "metadata": {},
          "execution_count": 41
        }
      ],
      "source": [
        "stats.geom.pmf(6,0.2)*stats.geom.pmf(7,0.2)"
      ]
    },
    {
      "cell_type": "markdown",
      "metadata": {
        "id": "UyRcZrDHth2D"
      },
      "source": [
        "# **Poisson Distribution**"
      ]
    },
    {
      "cell_type": "code",
      "execution_count": 42,
      "metadata": {
        "colab": {
          "base_uri": "https://localhost:8080/",
          "height": 435
        },
        "id": "v0Ecldosq9AL",
        "outputId": "eff72207-91be-40d9-bd88-7f16bee46097"
      },
      "outputs": [
        {
          "output_type": "display_data",
          "data": {
            "text/plain": [
              "<Figure size 640x480 with 1 Axes>"
            ],
            "image/png": "[encoded data removed]"
          },
          "metadata": {}
        }
      ],
      "source": [
        "S=5000\n",
        "lambda1=2\n",
        "lambda2=3\n",
        "pdata1=stats.poisson.rvs(lambda1,size=S)\n",
        "pdata2=stats.poisson.rvs(lambda2,size=S)\n",
        "\n",
        "plt.hist(pdata1,bins=30,alpha=0.5,label='Lambda=2',color='blue')\n",
        "plt.hist(pdata2,bins=30,alpha=0.5,label='Lambda=3',color='green')\n",
        "plt.legend(loc='upper right')\n",
        "plt.show()"
      ]
    },
    {
      "cell_type": "code",
      "execution_count": 43,
      "metadata": {
        "colab": {
          "base_uri": "https://localhost:8080/"
        },
        "id": "LkkhuXmarip0",
        "outputId": "6c43b125-11bf-47cf-b58f-e6fbaf5b224c"
      },
      "outputs": [
        {
          "output_type": "stream",
          "name": "stdout",
          "text": [
            "5.033\n",
            "5.089111\n"
          ]
        },
        {
          "output_type": "execute_result",
          "data": {
            "text/plain": [
              "array([1, 1, 1, ..., 1, 1, 1])"
            ]
          },
          "metadata": {},
          "execution_count": 43
        }
      ],
      "source": [
        "pdata=pdata1+pdata2\n",
        "print(np.mean(pdata))\n",
        "print(np.var(pdata))\n",
        "np.ones_like(pdata)"
      ]
    },
    {
      "cell_type": "code",
      "execution_count": 44,
      "metadata": {
        "colab": {
          "base_uri": "https://localhost:8080/",
          "height": 447
        },
        "id": "ryDrW_Fmrx22",
        "outputId": "680d047e-26b7-4ce3-9edd-d0797535294e"
      },
      "outputs": [
        {
          "output_type": "execute_result",
          "data": {
            "text/plain": [
              "<matplotlib.collections.LineCollection at 0x7dbb55e808e0>"
            ]
          },
          "metadata": {},
          "execution_count": 44
        },
        {
          "output_type": "display_data",
          "data": {
            "text/plain": [
              "<Figure size 640x480 with 1 Axes>"
            ],
            "image/png": "[encoded data removed]"
          },
          "metadata": {}
        }
      ],
      "source": [
        "plt.hist(pdata,bins=30,alpha=0.5,label='Lambda=5',color='blue',\n",
        "         weights=np.ones_like(pdata)/S)\n",
        "x=np.array(range(0,15,1))\n",
        "plt.vlines(x, 0, stats.poisson.pmf(x,5),\n",
        "           colors='green', lw=5, alpha=0.5)"
      ]
    },
    {
      "cell_type": "markdown",
      "metadata": {
        "id": "8q3TGYKZWS1m"
      },
      "source": [
        "\n",
        "# **Poisson Distribution Fitting to Data**"
      ]
    },
    {
      "cell_type": "code",
      "execution_count": 45,
      "metadata": {
        "colab": {
          "base_uri": "https://localhost:8080/"
        },
        "id": "NafDpMGeWa99",
        "outputId": "4c857306-68f0-48c5-ca46-6b9a9d10e77a"
      },
      "outputs": [
        {
          "output_type": "execute_result",
          "data": {
            "text/plain": [
              "array([0, 0, 0, 0, 0, 0, 0, 0, 0, 1, 1, 1, 1, 1, 1, 1, 1, 1, 1, 1, 1, 1,\n",
              "       1, 2, 2, 2, 2, 2, 2, 2, 2, 2, 2, 2, 2, 2, 3, 3, 3, 3, 3, 3, 3, 3,\n",
              "       3, 4, 4, 4, 4, 5, 5, 6])"
            ]
          },
          "metadata": {},
          "execution_count": 45
        }
      ],
      "source": [
        "##Attacks to computing center example\n",
        "attack_data=np.concatenate((np.repeat(0,9),np.repeat(1,14),np.repeat(2,13),\n",
        "      np.repeat(3,9),np.repeat(4,4),np.repeat(5,2),np.repeat(6,1)),axis=0)\n",
        "attack_data\n"
      ]
    },
    {
      "cell_type": "code",
      "execution_count": 46,
      "metadata": {
        "colab": {
          "base_uri": "https://localhost:8080/"
        },
        "id": "lSyFhCAVY0EH",
        "outputId": "b1c70d54-44cb-41c4-a2dd-45eb3775fd7c"
      },
      "outputs": [
        {
          "output_type": "stream",
          "name": "stdout",
          "text": [
            "[0.17307692 0.26923077 0.25       0.17307692 0.07692308 0.03846154\n",
            " 0.01923077 0.         0.         0.        ]\n",
            "1.0\n"
          ]
        }
      ],
      "source": [
        "#Compute the empirical distribution\n",
        "emp_prob=np.empty(max(attack_data)+4)\n",
        "\n",
        "for i in range(0,(max(attack_data)+4)):\n",
        "  emp_prob[i]=np.sum(attack_data==i)/attack_data.size\n",
        "\n",
        "print(emp_prob)\n",
        "print(sum(emp_prob))"
      ]
    },
    {
      "cell_type": "code",
      "execution_count": 47,
      "metadata": {
        "colab": {
          "base_uri": "https://localhost:8080/",
          "height": 430
        },
        "id": "ZxEuFVKLaKDk",
        "outputId": "9acdbd07-744d-41b4-baec-eeb77dca7b7b"
      },
      "outputs": [
        {
          "output_type": "display_data",
          "data": {
            "text/plain": [
              "<Figure size 640x480 with 1 Axes>"
            ],
            "image/png": "[encoded data removed]"
          },
          "metadata": {}
        }
      ],
      "source": [
        "#Visualize the empirical distribution\n",
        "xk=range(max(attack_data)+4)\n",
        "fig, ax = plt.subplots(1, 1)\n",
        "ax.plot(xk, emp_prob, 'ro', ms=6, mec='r')\n",
        "ax.vlines(xk, 0, emp_prob, colors='r', lw=2)\n",
        "plt.show()"
      ]
    },
    {
      "cell_type": "code",
      "execution_count": 48,
      "metadata": {
        "colab": {
          "base_uri": "https://localhost:8080/"
        },
        "id": "XFYfb9rIagB2",
        "outputId": "9f736834-7ddb-4871-b666-178bc3045f65"
      },
      "outputs": [
        {
          "output_type": "execute_result",
          "data": {
            "text/plain": [
              "DescribeResult(nobs=52, minmax=(0, 6), mean=1.9038461538461537, variance=2.1278280542986425, skewness=0.6656308616476064, kurtosis=0.01634276488077724)"
            ]
          },
          "metadata": {},
          "execution_count": 48
        }
      ],
      "source": [
        "stats.describe(attack_data)"
      ]
    },
    {
      "cell_type": "code",
      "execution_count": 49,
      "metadata": {
        "colab": {
          "base_uri": "https://localhost:8080/"
        },
        "id": "LXsg98u8ewSv",
        "outputId": "22095c6b-abce-470c-d1e9-b4777eec2bc4"
      },
      "outputs": [
        {
          "output_type": "execute_result",
          "data": {
            "text/plain": [
              "array([1.49001337e-01, 2.83668745e-01, 2.70024279e-01, 1.71357407e-01,\n",
              "       8.15575580e-02, 3.10538558e-02, 9.85338844e-03, 2.67984013e-03,\n",
              "       6.37734955e-04, 1.34902201e-04])"
            ]
          },
          "metadata": {},
          "execution_count": 49
        }
      ],
      "source": [
        "pois_prob=stats.poisson.pmf(xk,1.9038)\n",
        "pois_prob"
      ]
    },
    {
      "cell_type": "code",
      "execution_count": 50,
      "metadata": {
        "colab": {
          "base_uri": "https://localhost:8080/",
          "height": 430
        },
        "id": "bRULVA5RbzFO",
        "outputId": "02b691d5-2f72-4d72-c6fb-5dfd4646d24a"
      },
      "outputs": [
        {
          "output_type": "display_data",
          "data": {
            "text/plain": [
              "<Figure size 640x480 with 1 Axes>"
            ],
            "image/png": "[encoded data removed]"
          },
          "metadata": {}
        }
      ],
      "source": [
        "#Show the fitness of Poisson distribution\n",
        "xk=range(max(attack_data)+4)\n",
        "fig, ax = plt.subplots(1, 1)\n",
        "ax.plot(xk, emp_prob, 'ro', ms=6, mec='r')\n",
        "ax.vlines(xk, 0, emp_prob, colors='r', lw=2)\n",
        "ax.plot(xk, pois_prob)\n",
        "plt.show()"
      ]
    },
    {
      "cell_type": "code",
      "execution_count": 51,
      "metadata": {
        "colab": {
          "base_uri": "https://localhost:8080/"
        },
        "id": "-hPXdH7ke4F0",
        "outputId": "ce4a48b5-1e25-483c-fa8b-6f9327114a58"
      },
      "outputs": [
        {
          "output_type": "execute_result",
          "data": {
            "text/plain": [
              "0.013336817909850418"
            ]
          },
          "metadata": {},
          "execution_count": 51
        }
      ],
      "source": [
        "#Compute P(Attack>=6)\n",
        "1-stats.poisson.cdf(5,1.9038)"
      ]
    },
    {
      "cell_type": "code",
      "execution_count": 52,
      "metadata": {
        "colab": {
          "base_uri": "https://localhost:8080/"
        },
        "id": "plpPXbadRNlb",
        "outputId": "dcdfee6d-dd40-4db4-fc1b-c8e4819e66e0"
      },
      "outputs": [
        {
          "output_type": "execute_result",
          "data": {
            "text/plain": [
              "6.0"
            ]
          },
          "metadata": {},
          "execution_count": 52
        }
      ],
      "source": [
        "stats.poisson.ppf(0.99,1.9038)"
      ]
    },
    {
      "cell_type": "markdown",
      "metadata": {
        "id": "fZ4Tr9a5m1TP"
      },
      "source": [
        "# **Negative Binomial Distribution**"
      ]
    },
    {
      "cell_type": "code",
      "execution_count": 53,
      "metadata": {
        "id": "Fm40E8Vom5MD"
      },
      "outputs": [],
      "source": [
        "np.random.seed(9527)\n",
        "n=5\n",
        "p=0.5\n",
        "simx=stats.nbinom.rvs(n, p, size=1000)"
      ]
    },
    {
      "cell_type": "code",
      "execution_count": 54,
      "metadata": {
        "colab": {
          "base_uri": "https://localhost:8080/"
        },
        "id": "9XQAJ8pCaHOV",
        "outputId": "d707cac7-8e1a-43d3-e426-d2869041beeb"
      },
      "outputs": [
        {
          "output_type": "execute_result",
          "data": {
            "text/plain": [
              "array([7, 4, 2, 3, 4, 0, 4, 6, 2, 4])"
            ]
          },
          "metadata": {},
          "execution_count": 54
        }
      ],
      "source": [
        "simx[0:10]"
      ]
    },
    {
      "cell_type": "code",
      "execution_count": 55,
      "metadata": {
        "colab": {
          "base_uri": "https://localhost:8080/"
        },
        "id": "tfJgiybroFel",
        "outputId": "df0f128a-39f8-46c7-f3c0-d7275c60c0ad"
      },
      "outputs": [
        {
          "output_type": "stream",
          "name": "stdout",
          "text": [
            "[0.032 0.082 0.134 0.127 0.155 0.115 0.09  0.078 0.052 0.041 0.027 0.029\n",
            " 0.015 0.007 0.008 0.002 0.003 0.002 0.001]\n",
            "1.0\n"
          ]
        }
      ],
      "source": [
        "#Compute the empirical distribution\n",
        "emp_prob=np.empty(max(simx)+1)\n",
        "\n",
        "for i in range(0,(max(simx)+1)):\n",
        "  emp_prob[i]=np.sum(simx==i)/simx.size\n",
        "\n",
        "print(emp_prob)\n",
        "print(sum(emp_prob))"
      ]
    },
    {
      "cell_type": "code",
      "execution_count": 56,
      "metadata": {
        "colab": {
          "base_uri": "https://localhost:8080/",
          "height": 430
        },
        "id": "LzYoAsPPnD0K",
        "outputId": "740a990b-7275-49ae-b7ed-05b15c8a48e6"
      },
      "outputs": [
        {
          "output_type": "display_data",
          "data": {
            "text/plain": [
              "<Figure size 640x480 with 1 Axes>"
            ],
            "image/png": "[encoded data removed]"
          },
          "metadata": {}
        }
      ],
      "source": [
        "#Visualize the empirical distribution\n",
        "xk=range(max(simx)+1)\n",
        "fig, ax = plt.subplots(1, 1)\n",
        "ax.plot(xk, emp_prob, 'ro', ms=6, mec='r')\n",
        "ax.vlines(xk, 0, emp_prob, colors='r', lw=2)\n",
        "plt.show()"
      ]
    },
    {
      "cell_type": "code",
      "execution_count": 57,
      "metadata": {
        "colab": {
          "base_uri": "https://localhost:8080/"
        },
        "id": "InF9Uh-lnQOI",
        "outputId": "22c7e2c3-c745-4f0a-8524-66a3b6777867"
      },
      "outputs": [
        {
          "output_type": "execute_result",
          "data": {
            "text/plain": [
              "DescribeResult(nobs=1000, minmax=(0, 18), mean=4.899, variance=10.076875875875876, skewness=0.9268040551898865, kurtosis=0.8189300997370723)"
            ]
          },
          "metadata": {},
          "execution_count": 57
        }
      ],
      "source": [
        "#https://docs.scipy.org/doc/scipy/reference/generated/scipy.stats.nbinom.html\n",
        "##https://docs.scipy.org/doc/scipy/reference/generated/scipy.stats.nbinom.html\n",
        "\n",
        "stats.describe(simx)"
      ]
    },
    {
      "cell_type": "code",
      "execution_count": 58,
      "metadata": {
        "colab": {
          "base_uri": "https://localhost:8080/"
        },
        "id": "LHtm_UvcqqKn",
        "outputId": "7ec47757-22ee-44eb-ccd5-bd8b1cb2180f"
      },
      "outputs": [
        {
          "output_type": "stream",
          "name": "stdout",
          "text": [
            "[4.635122540025879, 0.4861614186902718]\n"
          ]
        }
      ],
      "source": [
        "phat=4.899/10.0769\n",
        "nhat=np.square(4.899)/(10.0769-4.899)\n",
        "\n",
        "print([nhat, phat])"
      ]
    },
    {
      "cell_type": "code",
      "execution_count": 59,
      "metadata": {
        "colab": {
          "base_uri": "https://localhost:8080/",
          "height": 430
        },
        "id": "AeSguDxCq3ME",
        "outputId": "33594803-6d8e-451e-c301-8e3228efd20e"
      },
      "outputs": [
        {
          "output_type": "display_data",
          "data": {
            "text/plain": [
              "<Figure size 640x480 with 1 Axes>"
            ],
            "image/png": "[encoded data removed]"
          },
          "metadata": {}
        }
      ],
      "source": [
        "xk=range(max(simx)+1)\n",
        "fig, ax = plt.subplots(1, 1)\n",
        "ax.plot(xk, emp_prob, 'ro', ms=6, mec='r')\n",
        "ax.vlines(xk, 0, emp_prob, colors='r', lw=2)\n",
        "ax.plot(xk, stats.nbinom.pmf(xk,n=4.635,p=0.486))\n",
        "plt.show()"
      ]
    },
    {
      "cell_type": "code",
      "execution_count": null,
      "metadata": {
        "id": "Pnd6OjIhrbeB"
      },
      "outputs": [],
      "source": []
    }
  ],
  "metadata": {
    "colab": {
      "provenance": []
    },
    "kernelspec": {
      "display_name": "Python 3",
      "name": "python3"
    },
    "language_info": {
      "name": "python"
    }
  },
  "nbformat": 4,
  "nbformat_minor": 0
}